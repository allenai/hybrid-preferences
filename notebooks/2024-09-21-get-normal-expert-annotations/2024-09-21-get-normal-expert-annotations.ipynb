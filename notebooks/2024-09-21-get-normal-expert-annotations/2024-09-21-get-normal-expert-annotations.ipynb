{
 "cells": [
  {
   "cell_type": "code",
   "execution_count": 23,
   "metadata": {},
   "outputs": [],
   "source": [
    "import pandas as pd\n",
    "import random\n",
    "\n",
    "random.seed(42)"
   ]
  },
  {
   "cell_type": "code",
   "execution_count": 24,
   "metadata": {},
   "outputs": [],
   "source": [
    "df = pd.read_json(\"../../data/multipref_all_features/features.jsonl\", lines=True)"
   ]
  },
  {
   "cell_type": "code",
   "execution_count": 25,
   "metadata": {},
   "outputs": [],
   "source": [
    "df_base = df.drop(columns=\"pref_human\")"
   ]
  },
  {
   "cell_type": "code",
   "execution_count": 31,
   "metadata": {},
   "outputs": [],
   "source": [
    "df_normal = df_base.copy(deep=True)\n",
    "df_normal[\"pref_human\"] = df_base[\"normal_worker_annotations\"].apply(\n",
    "    lambda x: random.choice(x).get(\"overall_pref\")\n",
    ")\n",
    "df_normal.to_json(\n",
    "    \"../../data/multiprefNOR_all_features/features.jsonl\", orient=\"records\"\n",
    ")"
   ]
  },
  {
   "cell_type": "code",
   "execution_count": 32,
   "metadata": {},
   "outputs": [],
   "source": [
    "df_expert = df_base.copy(deep=True)\n",
    "df_expert[\"pref_human\"] = df_base[\"expert_worker_annotations\"].apply(\n",
    "    lambda x: random.choice(x).get(\"overall_pref\")\n",
    ")\n",
    "df_expert.to_json(\n",
    "    \"../../data/multiprefEXP_all_features/features.jsonl\", orient=\"records\"\n",
    ")"
   ]
  }
 ],
 "metadata": {
  "kernelspec": {
   "display_name": "venv",
   "language": "python",
   "name": "python3"
  },
  "language_info": {
   "codemirror_mode": {
    "name": "ipython",
    "version": 3
   },
   "file_extension": ".py",
   "mimetype": "text/x-python",
   "name": "python",
   "nbconvert_exporter": "python",
   "pygments_lexer": "ipython3",
   "version": "3.11.6"
  }
 },
 "nbformat": 4,
 "nbformat_minor": 2
}

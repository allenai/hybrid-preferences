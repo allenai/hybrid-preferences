{
 "cells": [
  {
   "cell_type": "code",
   "execution_count": null,
   "metadata": {},
   "outputs": [],
   "source": [
    "!pip install pandas tqdm"
   ]
  },
  {
   "cell_type": "code",
   "execution_count": null,
   "metadata": {},
   "outputs": [],
   "source": [
    "from pathlib import Path\n",
    "import pandas as pd\n",
    "from tqdm import tqdm\n",
    "import re\n",
    "\n",
    "\n",
    "def extract_hash(string):\n",
    "    match = re.search(r\"FEATS_(.*?)_SWAPS\", string)\n",
    "    return match.group(1) if match else None"
   ]
  },
  {
   "cell_type": "code",
   "execution_count": null,
   "metadata": {},
   "outputs": [],
   "source": [
    "!beaker dataset fetch 01J686ACE7H0MH097V0KJKR7W1"
   ]
  },
  {
   "cell_type": "code",
   "execution_count": null,
   "metadata": {},
   "outputs": [],
   "source": [
    "# FEATURES_PATH = Path(\"../../data/all_features_helpsteer2/data\")\n",
    "FEATURES_PATH = Path(\"data\")\n",
    "CSV_PATH = Path(\"test.csv\")"
   ]
  },
  {
   "cell_type": "code",
   "execution_count": null,
   "metadata": {},
   "outputs": [],
   "source": [
    "filepaths = list(FEATURES_PATH.glob(\"*.jsonl\"))\n",
    "num_swaps = {}\n",
    "for fp in tqdm(filepaths):\n",
    "    df = pd.read_json(fp, lines=True)\n",
    "    try:\n",
    "        num_swaps[fp.name] = df[\"is_swapped\"].value_counts()[True]\n",
    "    except Exception:\n",
    "        num_swaps[fp.name] = len(df)\n",
    "\n",
    "swaps_df = (\n",
    "    pd.DataFrame([num_swaps])\n",
    "    .transpose()\n",
    "    .rename(columns={0: \"num_swaps\"})\n",
    "    .reset_index()\n",
    "    .rename(columns={\"index\": \"filename\"})\n",
    ")"
   ]
  },
  {
   "cell_type": "code",
   "execution_count": null,
   "metadata": {},
   "outputs": [],
   "source": [
    "swaps_df[\"hash\"] = swaps_df[\"filename\"].apply(extract_hash)"
   ]
  },
  {
   "cell_type": "code",
   "execution_count": null,
   "metadata": {},
   "outputs": [],
   "source": [
    "swaps_df"
   ]
  },
  {
   "cell_type": "code",
   "execution_count": null,
   "metadata": {},
   "outputs": [],
   "source": [
    "result_df = pd.read_csv(CSV_PATH)\n",
    "combined = result_df.merge(swaps_df, how=\"left\", on=\"hash\")"
   ]
  },
  {
   "cell_type": "code",
   "execution_count": null,
   "metadata": {},
   "outputs": [],
   "source": [
    "combined"
   ]
  },
  {
   "cell_type": "code",
   "execution_count": null,
   "metadata": {},
   "outputs": [],
   "source": [
    "combined.to_csv(\"combined.csv\")"
   ]
  },
  {
   "cell_type": "code",
   "execution_count": null,
   "metadata": {},
   "outputs": [],
   "source": []
  }
 ],
 "metadata": {
  "kernelspec": {
   "display_name": "Python 3 (ipykernel)",
   "language": "python",
   "name": "python3"
  },
  "language_info": {
   "codemirror_mode": {
    "name": "ipython",
    "version": 3
   },
   "file_extension": ".py",
   "mimetype": "text/x-python",
   "name": "python",
   "nbconvert_exporter": "python",
   "pygments_lexer": "ipython3",
   "version": "3.11.6"
  }
 },
 "nbformat": 4,
 "nbformat_minor": 4
}

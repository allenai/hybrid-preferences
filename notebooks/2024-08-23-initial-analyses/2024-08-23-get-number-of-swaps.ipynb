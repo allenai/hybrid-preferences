{
 "cells": [
  {
   "cell_type": "code",
   "execution_count": 7,
   "metadata": {},
   "outputs": [],
   "source": [
    "from pathlib import Path\n",
    "import pandas as pd\n",
    "from tqdm import tqdm"
   ]
  },
  {
   "cell_type": "code",
   "execution_count": 8,
   "metadata": {},
   "outputs": [],
   "source": [
    "FEATURES_PATH = Path(\"../data/all_features/data\")\n"
   ]
  },
  {
   "cell_type": "code",
   "execution_count": 20,
   "metadata": {},
   "outputs": [
    {
     "name": "stderr",
     "output_type": "stream",
     "text": [
      "100%|██████████| 60/60 [00:07<00:00,  8.31it/s]\n"
     ]
    }
   ],
   "source": [
    "filepaths = list(FEATURES_PATH.glob(\"*.jsonl\"))\n",
    "num_swaps = {}\n",
    "for fp in tqdm(filepaths):\n",
    "    df = pd.read_json(fp, lines=True)\n",
    "    try:\n",
    "        num_swaps[fp.name] = df[\"is_swapped\"].value_counts()[True]\n",
    "    except Exception:\n",
    "        num_swaps[fp.name] = len(df)"
   ]
  },
  {
   "cell_type": "code",
   "execution_count": 46,
   "metadata": {},
   "outputs": [],
   "source": [
    "swaps_df = pd.DataFrame([num_swaps]).transpose().rename(columns={0:\"num_swaps\"}).reset_index().rename(columns={\"index\": \"filename\"})"
   ]
  },
  {
   "cell_type": "code",
   "execution_count": 40,
   "metadata": {},
   "outputs": [],
   "source": [
    "result_df = pd.read_csv(\"../data/Human Pref Data Model Approach - Sheet1.csv\").rename(columns={\"Unnamed: 0\": \"experiment_id\"})\n"
   ]
  },
  {
   "cell_type": "code",
   "execution_count": 67,
   "metadata": {},
   "outputs": [],
   "source": [
    "def get_id(name):\n",
    "    _, feats = name.split(\"FEATS\")\n",
    "    feats = feats.removesuffix(\".jsonl\")\n",
    "    return \"rm-eval-tulu2_13b_rm_human_datamodel_7000_\" + \"FEATS\" + feats\n",
    "\n",
    "swaps_df[\"experiment_id\"] = swaps_df[\"filename\"].apply(lambda x: get_id(x))"
   ]
  },
  {
   "cell_type": "code",
   "execution_count": 72,
   "metadata": {},
   "outputs": [],
   "source": [
    "combined = result_df.merge(swaps_df, how=\"left\", on=\"experiment_id\")"
   ]
  },
  {
   "cell_type": "code",
   "execution_count": 73,
   "metadata": {},
   "outputs": [],
   "source": [
    "combined.to_csv(\"combined.csv\")"
   ]
  },
  {
   "cell_type": "code",
   "execution_count": null,
   "metadata": {},
   "outputs": [],
   "source": []
  }
 ],
 "metadata": {
  "kernelspec": {
   "display_name": "venv",
   "language": "python",
   "name": "python3"
  },
  "language_info": {
   "codemirror_mode": {
    "name": "ipython",
    "version": 3
   },
   "file_extension": ".py",
   "mimetype": "text/x-python",
   "name": "python",
   "nbconvert_exporter": "python",
   "pygments_lexer": "ipython3",
   "version": "3.11.6"
  }
 },
 "nbformat": 4,
 "nbformat_minor": 2
}

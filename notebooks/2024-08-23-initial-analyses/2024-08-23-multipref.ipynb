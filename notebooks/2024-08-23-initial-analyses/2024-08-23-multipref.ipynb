{
 "cells": [
  {
   "cell_type": "code",
   "execution_count": null,
   "metadata": {},
   "outputs": [],
   "source": [
    "import pandas as pd\n",
    "from collections import Counter"
   ]
  },
  {
   "cell_type": "code",
   "execution_count": null,
   "metadata": {},
   "outputs": [],
   "source": [
    "df = pd.read_json(\"multipref_human_vs_gpt4_overall.jsonl\", lines=True)\n",
    "tags = pd.read_json(\"multipref_tags.jsonl\", lines=True)"
   ]
  },
  {
   "cell_type": "code",
   "execution_count": null,
   "metadata": {},
   "outputs": [],
   "source": [
    "df = df.merge(tags[[\"comparison_id\", \"tags\"]], how=\"left\", on=\"comparison_id\")"
   ]
  },
  {
   "cell_type": "code",
   "execution_count": null,
   "metadata": {},
   "outputs": [],
   "source": [
    "df = pd.concat([df.drop(columns=[\"tags\"]), pd.json_normalize(df[\"tags\"])], axis=1)"
   ]
  },
  {
   "cell_type": "code",
   "execution_count": null,
   "metadata": {},
   "outputs": [],
   "source": [
    "df.to_json(\n",
    "    \"to_upload/multipref_human_vs_gpt4_overall.jsonl\", lines=True, orient=\"records\"\n",
    ")"
   ]
  },
  {
   "cell_type": "code",
   "execution_count": null,
   "metadata": {},
   "outputs": [],
   "source": []
  },
  {
   "cell_type": "code",
   "execution_count": null,
   "metadata": {},
   "outputs": [],
   "source": [
    "# Only get overall preference\n",
    "def get_majority(row, preference=\"overall_pref\", binarize=True):\n",
    "    normal_workers = [i[\"overall_pref\"] for i in row[\"normal_worker_annotations\"]]\n",
    "    expert_workers = [i[\"overall_pref\"] for i in row[\"expert_worker_annotations\"]]\n",
    "    all_annotations = normal_workers + expert_workers\n",
    "\n",
    "    if binarize:\n",
    "        final_annotations = []\n",
    "        for annotation in all_annotations:\n",
    "            if annotation == \"A-is-slightly-better\":\n",
    "                annotation = \"A-is-clearly-better\"\n",
    "            elif annotation == \"B-is-slightly-better\":\n",
    "                annotation = \"B-is-clearly-better\"\n",
    "            else:\n",
    "                annotation = annotation\n",
    "            final_annotations.append(annotation)\n",
    "    else:\n",
    "        final_annotations = all_annotations\n",
    "\n",
    "    return Counter(final_annotations).most_common()[0][0]\n",
    "\n",
    "\n",
    "# Use majority preference as main human preference\n",
    "df[\"pref_human\"] = df.apply(lambda x: get_majority(x), axis=1)"
   ]
  },
  {
   "cell_type": "code",
   "execution_count": null,
   "metadata": {},
   "outputs": [],
   "source": [
    "df.sort_values(by=\"prompt_hash\")"
   ]
  },
  {
   "cell_type": "code",
   "execution_count": null,
   "metadata": {},
   "outputs": [],
   "source": [
    "gpt4_df = pd.read_json(\"../../data/OE-Adapt-GPT4-Overall.jsonl\", lines=True).rename(\n",
    "    columns={\"pref\": \"pref_gpt4\"}\n",
    ")"
   ]
  },
  {
   "cell_type": "code",
   "execution_count": null,
   "metadata": {},
   "outputs": [],
   "source": [
    "df = df.merge(\n",
    "    gpt4_df[[\"comparison_id\", \"pref_gpt4\", \"evaluator\"]], on=\"comparison_id\", how=\"left\"\n",
    ")"
   ]
  },
  {
   "cell_type": "code",
   "execution_count": null,
   "metadata": {},
   "outputs": [],
   "source": [
    "df.to_json(\"multipref_human_vs_gpt4_overall.jsonl\", lines=True, orient=\"records\")"
   ]
  },
  {
   "cell_type": "code",
   "execution_count": null,
   "metadata": {},
   "outputs": [],
   "source": []
  }
 ],
 "metadata": {
  "kernelspec": {
   "display_name": "venv",
   "language": "python",
   "name": "python3"
  },
  "language_info": {
   "codemirror_mode": {
    "name": "ipython",
    "version": 3
   },
   "file_extension": ".py",
   "mimetype": "text/x-python",
   "name": "python",
   "nbconvert_exporter": "python",
   "pygments_lexer": "ipython3",
   "version": "3.11.6"
  }
 },
 "nbformat": 4,
 "nbformat_minor": 2
}

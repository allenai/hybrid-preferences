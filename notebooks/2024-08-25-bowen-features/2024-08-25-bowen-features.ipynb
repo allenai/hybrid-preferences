{
 "cells": [
  {
   "cell_type": "markdown",
   "metadata": {},
   "source": [
    "# Exploring meta-analyzer features"
   ]
  },
  {
   "cell_type": "code",
   "execution_count": 1,
   "metadata": {},
   "outputs": [],
   "source": [
    "import pandas as pd"
   ]
  },
  {
   "cell_type": "code",
   "execution_count": 2,
   "metadata": {},
   "outputs": [],
   "source": [
    "bowen_df = pd.read_json(\"../../data/helpsteer2_train_tags.jsonl\", lines=True)\n",
    "input_df = pd.read_json(\n",
    "    \"../../data/helpsteer2_human_vs_gpt4_weighted_for_llama.jsonl\", lines=True\n",
    ")"
   ]
  },
  {
   "cell_type": "markdown",
   "metadata": {},
   "source": [
    "Maybe, instead of doing the data processing in the feature extractor, we just update the input dataset to include these tags (in terms of fields).\n",
    "However, there are things you need to check: are the tags act on the prompt only? Or does it include the response?\n",
    "Also, you need to find the code o generating the prompt_hash from the initial repository."
   ]
  },
  {
   "cell_type": "code",
   "execution_count": 3,
   "metadata": {},
   "outputs": [],
   "source": [
    "import hashlib\n",
    "\n",
    "bowen_df_normalized = pd.concat(\n",
    "    [bowen_df.drop(columns=[\"tags\"]), pd.json_normalize(bowen_df[\"tags\"])],\n",
    "    axis=1,\n",
    ")\n",
    "bowen_df_normalized[\"prompt_hash\"] = bowen_df_normalized[\"prompt\"].apply(\n",
    "    lambda x: hashlib.md5(x.encode(\"utf-8\")).hexdigest()\n",
    ")\n",
    "bowen_df_normalized = bowen_df_normalized.drop_duplicates(subset=[\"prompt_hash\"])\n",
    "# Remove unnecessary columns\n",
    "bowen_df_normalized = bowen_df_normalized.drop(\n",
    "    columns=[\n",
    "        \"response\",\n",
    "        \"helpfulness\",\n",
    "        \"correctness\",\n",
    "        \"coherence\",\n",
    "        \"complexity\",\n",
    "        \"verbosity\",\n",
    "    ]\n",
    ").reset_index(drop=True)"
   ]
  },
  {
   "cell_type": "code",
   "execution_count": 4,
   "metadata": {},
   "outputs": [
    {
     "data": {
      "text/html": [
       "<div>\n",
       "<style scoped>\n",
       "    .dataframe tbody tr th:only-of-type {\n",
       "        vertical-align: middle;\n",
       "    }\n",
       "\n",
       "    .dataframe tbody tr th {\n",
       "        vertical-align: top;\n",
       "    }\n",
       "\n",
       "    .dataframe thead th {\n",
       "        text-align: right;\n",
       "    }\n",
       "</style>\n",
       "<table border=\"1\" class=\"dataframe\">\n",
       "  <thead>\n",
       "    <tr style=\"text-align: right;\">\n",
       "      <th></th>\n",
       "      <th>prompt</th>\n",
       "      <th>subject_of_expertise</th>\n",
       "      <th>expertise_level</th>\n",
       "      <th>languages</th>\n",
       "      <th>open_endedness</th>\n",
       "      <th>safety_concern</th>\n",
       "      <th>complexity_of_intents</th>\n",
       "      <th>type_of_in_context_material</th>\n",
       "      <th>format_constraints</th>\n",
       "      <th>prompt_hash</th>\n",
       "    </tr>\n",
       "  </thead>\n",
       "  <tbody>\n",
       "    <tr>\n",
       "      <th>0</th>\n",
       "      <td>c#</td>\n",
       "      <td>[Computer sciences]</td>\n",
       "      <td>basic domain knowledge</td>\n",
       "      <td>[English]</td>\n",
       "      <td>high</td>\n",
       "      <td>safe</td>\n",
       "      <td>simple</td>\n",
       "      <td>[]</td>\n",
       "      <td>[]</td>\n",
       "      <td>240aa2cec4b29c56f3bee520a8dcee7e</td>\n",
       "    </tr>\n",
       "    <tr>\n",
       "      <th>1</th>\n",
       "      <td>bacillus subtilus</td>\n",
       "      <td>[Biology]</td>\n",
       "      <td>basic domain knowledge</td>\n",
       "      <td>[English]</td>\n",
       "      <td>low</td>\n",
       "      <td>safe</td>\n",
       "      <td>simple</td>\n",
       "      <td>[]</td>\n",
       "      <td>[]</td>\n",
       "      <td>823aad83e7d34af60a868febc39e2acb</td>\n",
       "    </tr>\n",
       "    <tr>\n",
       "      <th>2</th>\n",
       "      <td>Write long detailed essay about ancient type o...</td>\n",
       "      <td>[Religion, Anthropology, History]</td>\n",
       "      <td>basic domain knowledge</td>\n",
       "      <td>[English]</td>\n",
       "      <td>high</td>\n",
       "      <td>safe</td>\n",
       "      <td>simple</td>\n",
       "      <td>[]</td>\n",
       "      <td>[long, detailed essay]</td>\n",
       "      <td>598ee4176ccd9dc6e162568930ea3d89</td>\n",
       "    </tr>\n",
       "  </tbody>\n",
       "</table>\n",
       "</div>"
      ],
      "text/plain": [
       "                                              prompt  \\\n",
       "0                                                 c#   \n",
       "1                                  bacillus subtilus   \n",
       "2  Write long detailed essay about ancient type o...   \n",
       "\n",
       "                subject_of_expertise         expertise_level  languages  \\\n",
       "0                [Computer sciences]  basic domain knowledge  [English]   \n",
       "1                          [Biology]  basic domain knowledge  [English]   \n",
       "2  [Religion, Anthropology, History]  basic domain knowledge  [English]   \n",
       "\n",
       "  open_endedness safety_concern complexity_of_intents  \\\n",
       "0           high           safe                simple   \n",
       "1            low           safe                simple   \n",
       "2           high           safe                simple   \n",
       "\n",
       "  type_of_in_context_material      format_constraints  \\\n",
       "0                          []                      []   \n",
       "1                          []                      []   \n",
       "2                          []  [long, detailed essay]   \n",
       "\n",
       "                        prompt_hash  \n",
       "0  240aa2cec4b29c56f3bee520a8dcee7e  \n",
       "1  823aad83e7d34af60a868febc39e2acb  \n",
       "2  598ee4176ccd9dc6e162568930ea3d89  "
      ]
     },
     "execution_count": 4,
     "metadata": {},
     "output_type": "execute_result"
    }
   ],
   "source": [
    "bowen_df_normalized.head(3)"
   ]
  },
  {
   "cell_type": "code",
   "execution_count": 5,
   "metadata": {},
   "outputs": [],
   "source": [
    "updated_df = input_df.merge(\n",
    "    bowen_df_normalized.drop(columns=[\"prompt\"]), how=\"left\", on=\"prompt_hash\"\n",
    ")"
   ]
  },
  {
   "cell_type": "code",
   "execution_count": 6,
   "metadata": {},
   "outputs": [],
   "source": [
    "updated_df.to_json(\n",
    "    \"helpsteer2_human_vs_gpt4_weighted_for_llama.jsonl\", lines=True, orient=\"records\"\n",
    ")"
   ]
  },
  {
   "cell_type": "code",
   "execution_count": 8,
   "metadata": {},
   "outputs": [
    {
     "data": {
      "text/plain": [
       "Index(['prompt_hash', 'text', 'response_a', 'response_b', 'pref_human',\n",
       "       'pref_gpt4', 'rating_human', 'rating_gpt4', 'completions',\n",
       "       'subject_of_expertise', 'expertise_level', 'languages',\n",
       "       'open_endedness', 'safety_concern', 'complexity_of_intents',\n",
       "       'type_of_in_context_material', 'format_constraints'],\n",
       "      dtype='object')"
      ]
     },
     "execution_count": 8,
     "metadata": {},
     "output_type": "execute_result"
    }
   ],
   "source": [
    "updated_df.columns"
   ]
  },
  {
   "cell_type": "markdown",
   "metadata": {},
   "source": [
    "## Data types\n",
    "\n",
    "- `subject_of_expertise`: list[str]\n",
    "- `expertise_level`: str (3 labels) (basic domain knowledge, general public, expert domain knowledge)\n",
    "- `languages`: list[str]\n",
    "- `open_endedness`: str (4 labels?) (moderate, high, low, no)\n",
    "- `safety_concern`: str (safe, low, moderate, high)\n",
    "- `complexity_of_intents`: str (simple, moderate, complex, high)\n",
    "- `type_of_in_context_material`: list[str]\n",
    "- `format_constraints`: list[str]"
   ]
  },
  {
   "cell_type": "markdown",
   "metadata": {},
   "source": [
    "If the data type is a `list[str]`. The domains of this prompt is \"ICT\" and \"Sociology\". Our constraints should be something like: at least one of this domain falls under what we specified. Then perhaps there's a `strict` option, if we want that the domains are exactly what we specified."
   ]
  },
  {
   "cell_type": "code",
   "execution_count": null,
   "metadata": {},
   "outputs": [],
   "source": []
  }
 ],
 "metadata": {
  "kernelspec": {
   "display_name": "venv",
   "language": "python",
   "name": "python3"
  },
  "language_info": {
   "codemirror_mode": {
    "name": "ipython",
    "version": 3
   },
   "file_extension": ".py",
   "mimetype": "text/x-python",
   "name": "python",
   "nbconvert_exporter": "python",
   "pygments_lexer": "ipython3",
   "version": "3.11.9"
  }
 },
 "nbformat": 4,
 "nbformat_minor": 2
}

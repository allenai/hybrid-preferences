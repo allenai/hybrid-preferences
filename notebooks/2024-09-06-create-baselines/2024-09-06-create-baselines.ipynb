{
 "cells": [
  {
   "cell_type": "markdown",
   "metadata": {},
   "source": [
    "In this notebook, we'll create baselines (read, JSONL files) to run for the weekend. For each dataset, we need to create the following:\n",
    "\n",
    "```\n",
    "- 100% Human\n",
    "- 100% GPT-4\n",
    "- 75% Human\n",
    "- 50% Human\n",
    "- 25% Human\n",
    "- Random\n",
    "```\n",
    "\n",
    "We also need to create this `n` times.\n"
   ]
  },
  {
   "cell_type": "code",
   "execution_count": 1,
   "metadata": {},
   "outputs": [],
   "source": [
    "import pandas as pd"
   ]
  },
  {
   "cell_type": "code",
   "execution_count": null,
   "metadata": {},
   "outputs": [],
   "source": []
  }
 ],
 "metadata": {
  "kernelspec": {
   "display_name": "venv",
   "language": "python",
   "name": "python3"
  },
  "language_info": {
   "codemirror_mode": {
    "name": "ipython",
    "version": 3
   },
   "file_extension": ".py",
   "mimetype": "text/x-python",
   "name": "python",
   "nbconvert_exporter": "python",
   "pygments_lexer": "ipython3",
   "version": "3.11.6"
  }
 },
 "nbformat": 4,
 "nbformat_minor": 2
}

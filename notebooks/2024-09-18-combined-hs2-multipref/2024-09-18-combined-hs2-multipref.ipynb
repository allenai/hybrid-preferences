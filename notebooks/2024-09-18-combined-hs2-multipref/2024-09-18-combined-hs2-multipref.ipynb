{
 "cells": [
  {
   "cell_type": "code",
   "execution_count": null,
   "metadata": {},
   "outputs": [],
   "source": [
    "import pandas as pd"
   ]
  },
  {
   "cell_type": "code",
   "execution_count": null,
   "metadata": {},
   "outputs": [],
   "source": [
    "hs = pd.read_json(\"../../data/helpsteer2_all_features/features.jsonl\", lines=True)\n",
    "mp = pd.read_json(\"../../data/multipref_all_features/features.jsonl\", lines=True)\n",
    "common_cols = list(set(mp.columns).intersection(set(hs.columns)))\n",
    "hs = hs[common_cols]\n",
    "hs[\"source\"] = \"helpsteer2\"\n",
    "mp = mp[common_cols]\n",
    "mp[\"source\"] = \"multipref\""
   ]
  },
  {
   "cell_type": "code",
   "execution_count": null,
   "metadata": {},
   "outputs": [],
   "source": [
    "combined = pd.concat([hs, mp]).reset_index(drop=True)\n",
    "init_cols = [\"id\", \"text\", \"response_a\", \"response_b\", \"pref_human\", \"pref_gpt4\"]\n",
    "combined = combined[\n",
    "    init_cols + [col for col in combined.columns if col not in init_cols]\n",
    "]"
   ]
  },
  {
   "cell_type": "code",
   "execution_count": null,
   "metadata": {},
   "outputs": [],
   "source": [
    "combined.to_json(\n",
    "    \"../../data/mphs2_all_features/features.jsonl\", lines=True, orient=\"records\"\n",
    ")"
   ]
  },
  {
   "cell_type": "code",
   "execution_count": null,
   "metadata": {},
   "outputs": [],
   "source": [
    "combined"
   ]
  },
  {
   "cell_type": "code",
   "execution_count": null,
   "metadata": {},
   "outputs": [],
   "source": []
  }
 ],
 "metadata": {
  "kernelspec": {
   "display_name": "venv",
   "language": "python",
   "name": "python3"
  },
  "language_info": {
   "codemirror_mode": {
    "name": "ipython",
    "version": 3
   },
   "file_extension": ".py",
   "mimetype": "text/x-python",
   "name": "python",
   "nbconvert_exporter": "python",
   "pygments_lexer": "ipython3",
   "version": "3.11.6"
  }
 },
 "nbformat": 4,
 "nbformat_minor": 2
}

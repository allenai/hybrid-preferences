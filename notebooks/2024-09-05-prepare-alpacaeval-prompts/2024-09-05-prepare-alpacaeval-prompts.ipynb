{
 "cells": [
  {
   "cell_type": "code",
   "execution_count": null,
   "metadata": {},
   "outputs": [],
   "source": [
    "!beaker dataset fetch 01J6WGZ1FJ4CBRT3GRN37ZVACA -q # chatarena gpt-4 prefs\n",
    "!beaker dataset fetch 01J6WGZ1MZT1NM49AN4160TGS9 -q # alpacafarm gpt-4 prefs\n",
    "!beaker dataset fetch 01J6WGKBGB7NG0B95NEG92PQH6 -q # full dataset"
   ]
  },
  {
   "cell_type": "code",
   "execution_count": null,
   "metadata": {},
   "outputs": [],
   "source": [
    "import pandas as pd"
   ]
  },
  {
   "cell_type": "markdown",
   "metadata": {},
   "source": [
    "# Process ChatArena\n"
   ]
  },
  {
   "cell_type": "code",
   "execution_count": null,
   "metadata": {},
   "outputs": [],
   "source": [
    "gpt4_df = pd.read_json(\"GPT-4-AlpacaEval-ChatArena.jsonl\", lines=True)\n",
    "full_df = pd.read_json(\"chat_arena.jsonl\", lines=True)\n",
    "gpt4_prefs = gpt4_df[[\"comparison_id\", \"pref\"]].rename(columns={\"pref\": \"pref_gpt4\"})\n",
    "chatarena_df = full_df.merge(gpt4_prefs, how=\"left\", on=\"comparison_id\").rename(\n",
    "    columns={\n",
    "        \"comparison_id\": \"prompt_hash\",\n",
    "        \"completion_a\": \"response_a\",\n",
    "        \"completion_b\": \"response_b\",\n",
    "    }\n",
    ")\n",
    "chatarena_df.to_json(\n",
    "    \"chatarena_human_vs_gpt4_alpacaeval.jsonl\", lines=True, orient=\"records\"\n",
    ")"
   ]
  },
  {
   "cell_type": "code",
   "execution_count": null,
   "metadata": {},
   "outputs": [],
   "source": [
    "!beaker dataset create chatarena_human_vs_gpt4_alpacaeval.jsonl --name chatarena_human_vs_gpt4_alpacaeval --desc \"Human and GPT-4 (AlpacaEval template) preferences on Chatbot Arena\""
   ]
  },
  {
   "cell_type": "code",
   "execution_count": null,
   "metadata": {},
   "outputs": [],
   "source": [
    "chatarena_df"
   ]
  },
  {
   "cell_type": "markdown",
   "metadata": {},
   "source": [
    "# Process AlpacaFarm\n"
   ]
  },
  {
   "cell_type": "code",
   "execution_count": null,
   "metadata": {},
   "outputs": [],
   "source": [
    "gpt4_df = pd.read_json(\"GPT-4-AlpacaEval-AlpacaFarm.jsonl\", lines=True)\n",
    "full_df = pd.read_json(\"alpacafarm.jsonl\", lines=True)\n",
    "gpt4_prefs = gpt4_df[[\"comparison_id\", \"pref\"]].rename(columns={\"pref\": \"pref_gpt4\"})\n",
    "alpacafarm_df = full_df.merge(gpt4_prefs, how=\"left\", on=\"comparison_id\").rename(\n",
    "    columns={\n",
    "        \"comparison_id\": \"prompt_hash\",\n",
    "        \"completion_a\": \"response_a\",\n",
    "        \"completion_b\": \"response_b\",\n",
    "    }\n",
    ")\n",
    "alpacafarm_df.to_json(\n",
    "    \"alpacafarm_human_vs_gpt4_alpacaeval.jsonl\", lines=True, orient=\"records\"\n",
    ")"
   ]
  },
  {
   "cell_type": "code",
   "execution_count": null,
   "metadata": {},
   "outputs": [],
   "source": [
    "alpacafarm_df[\"pref_gpt4\"].value_counts()"
   ]
  },
  {
   "cell_type": "code",
   "execution_count": null,
   "metadata": {},
   "outputs": [],
   "source": [
    "!beaker dataset create alpacafarm_human_vs_gpt4_alpacaeval.jsonl --name alpacafarm_human_vs_gpt4_alpacaeval --desc \"Human and GPT-4 (AlpacaEval template) preferences on AlpacaFarm\""
   ]
  },
  {
   "cell_type": "code",
   "execution_count": null,
   "metadata": {},
   "outputs": [],
   "source": []
  }
 ],
 "metadata": {
  "kernelspec": {
   "display_name": "venv",
   "language": "python",
   "name": "python3"
  },
  "language_info": {
   "codemirror_mode": {
    "name": "ipython",
    "version": 3
   },
   "file_extension": ".py",
   "mimetype": "text/x-python",
   "name": "python",
   "nbconvert_exporter": "python",
   "pygments_lexer": "ipython3",
   "version": "3.11.6"
  }
 },
 "nbformat": 4,
 "nbformat_minor": 2
}

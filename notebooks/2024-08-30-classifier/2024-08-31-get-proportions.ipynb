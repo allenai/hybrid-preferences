{
 "cells": [
  {
   "cell_type": "markdown",
   "id": "0",
   "metadata": {},
   "source": [
    "# [MERGED] With 2024-08-30-classifier.ipynb\n",
    "\n",
    "Keeping this for archival reasons\n"
   ]
  },
  {
   "cell_type": "code",
   "execution_count": null,
   "id": "1",
   "metadata": {},
   "outputs": [],
   "source": [
    "import pandas as pd\n",
    "from functools import reduce\n",
    "from pathlib import Path"
   ]
  },
  {
   "cell_type": "code",
   "execution_count": null,
   "id": "2",
   "metadata": {},
   "outputs": [],
   "source": [
    "#! beaker dataset fetch 01J6KF3JRCATRJQ9CPJTRV5VBM\n",
    "#!beaker dataset fetch 01J6KBM2VCM9EQ7MER26VBXCCM"
   ]
  },
  {
   "cell_type": "code",
   "execution_count": null,
   "id": "3",
   "metadata": {},
   "outputs": [],
   "source": [
    "LEXICAL_FEATS_PATH = Path(\"dataset/01J6KF3JRCATRJQ9CPJTRV5VBM/features\")\n",
    "DATASET_PATH = Path(\n",
    "    \"dataset/01J6KBM2VCM9EQ7MER26VBXCCM/helpsteer2_human_vs_gpt4_weighted_for_llama.jsonl\"\n",
    ")"
   ]
  },
  {
   "cell_type": "markdown",
   "id": "4",
   "metadata": {},
   "source": [
    "Let's just merge the lexical features\n"
   ]
  },
  {
   "cell_type": "code",
   "execution_count": null,
   "id": "5",
   "metadata": {},
   "outputs": [],
   "source": [
    "lexical_features = [\n",
    "    \"rouge\",\n",
    "    \"bertscore\",\n",
    "    \"bertscore_length\",\n",
    "    \"entity_sim\",\n",
    "    \"cosine_sim\",\n",
    "    \"prompt_len\",\n",
    "    \"len_longer\",\n",
    "    \"len_shorter\",\n",
    "    \"token_len_diff\",\n",
    "]\n",
    "lexical_feature_files = [\n",
    "    file\n",
    "    for file in LEXICAL_FEATS_PATH.glob(\"*.jsonl\")\n",
    "    if any(file.stem in feat for feat in lexical_features)\n",
    "]\n",
    "print(lexical_feature_files)"
   ]
  },
  {
   "cell_type": "code",
   "execution_count": null,
   "id": "6",
   "metadata": {},
   "outputs": [],
   "source": [
    "lexical_feats_df = reduce(\n",
    "    lambda left, right: left.merge(\n",
    "        right, on=[\"id\", \"prompt\", \"completion_a\", \"completion_b\"], how=\"outer\"\n",
    "    ),\n",
    "    [pd.read_json(file, lines=True) for file in lexical_feature_files],\n",
    ")"
   ]
  },
  {
   "cell_type": "markdown",
   "id": "7",
   "metadata": {},
   "source": [
    "We don't save the other Bowen's Features, so might need to add that manually\n"
   ]
  },
  {
   "cell_type": "code",
   "execution_count": null,
   "id": "8",
   "metadata": {},
   "outputs": [],
   "source": [
    "df = pd.read_json(DATASET_PATH, lines=True).rename(columns={\"prompt_hash\": \"id\"})"
   ]
  },
  {
   "cell_type": "code",
   "execution_count": null,
   "id": "9",
   "metadata": {},
   "outputs": [],
   "source": [
    "finaldf = df.merge(lexical_feats_df, how=\"left\", on=\"id\").drop(\n",
    "    columns=[\"prompt\", \"completion_a\", \"completion_b\"]\n",
    ")"
   ]
  },
  {
   "cell_type": "code",
   "execution_count": null,
   "id": "10",
   "metadata": {},
   "outputs": [],
   "source": [
    "finaldf.to_csv(\"helpsteer2_featureset.csv\", index=False)"
   ]
  },
  {
   "cell_type": "code",
   "execution_count": null,
   "id": "11",
   "metadata": {},
   "outputs": [],
   "source": [
    "finaldf.head(10)"
   ]
  },
  {
   "cell_type": "code",
   "execution_count": null,
   "id": "12",
   "metadata": {},
   "outputs": [],
   "source": []
  }
 ],
 "metadata": {
  "kernelspec": {
   "display_name": "Python 3 (ipykernel)",
   "language": "python",
   "name": "python3"
  },
  "language_info": {
   "codemirror_mode": {
    "name": "ipython",
    "version": 3
   },
   "file_extension": ".py",
   "mimetype": "text/x-python",
   "name": "python",
   "nbconvert_exporter": "python",
   "pygments_lexer": "ipython3",
   "version": "3.10.9"
  }
 },
 "nbformat": 4,
 "nbformat_minor": 5
}

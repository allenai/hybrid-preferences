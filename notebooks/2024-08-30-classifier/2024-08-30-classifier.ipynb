{
 "cells": [
  {
   "cell_type": "code",
   "execution_count": 1,
   "metadata": {},
   "outputs": [],
   "source": [
    "import sys\n",
    "\n",
    "sys.path.append(\"../../\")\n",
    "\n",
    "%load_ext autoreload\n",
    "%autoreload 2"
   ]
  },
  {
   "cell_type": "code",
   "execution_count": 2,
   "metadata": {},
   "outputs": [],
   "source": [
    "import lightgbm as lgb\n",
    "import numpy as np\n",
    "import pandas as pd\n",
    "import hashlib\n",
    "from ast import literal_eval\n",
    "from pathlib import Path\n",
    "from functools import reduce\n",
    "\n",
    "from src.utils import find_meta_category\n",
    "from src.feature_extractor import sample_feature_combinations"
   ]
  },
  {
   "cell_type": "markdown",
   "metadata": {},
   "source": [
    "## Download prerequisite files\n",
    "\n",
    "Fetch all the results and feature values\n"
   ]
  },
  {
   "cell_type": "code",
   "execution_count": 3,
   "metadata": {},
   "outputs": [
    {
     "name": "stdout",
     "output_type": "stream",
     "text": [
      "Fetching experiments list...\n",
      "Downloading dataset \u001b[36m01J6KF3JRCATRJQ9CPJTRV5VBM\u001b[0m to \u001b[32m.\u001b[0m\n",
      "Files: 0          ⠋  \n",
      "Bytes: 0 B        ⠋  \n",
      "\u001b[2A\u001b[JFiles: 1          ⠙  \n",
      "Bytes: 73.77 KiB  ⠙  \n",
      "\u001b[2A\u001b[JFiles: 1          ✔  \n",
      "Bytes: 73.77 KiB  ✔  \n",
      "\u001b[2A\u001b[JFiles: 1          ✔  \n",
      "Bytes: 73.77 KiB  ✔  \n",
      "Completed in 100ms: 436.4 KiB/s, 6 files/s\n",
      "Fetching extracted features...\n",
      "mkdir: features/: File exists\n",
      "Downloading dataset \u001b[36m01J6KF3JRCATRJQ9CPJTRV5VBM\u001b[0m to \u001b[32m.\u001b[0m\n",
      "Files: 0          ⠋  \n",
      "Bytes: 0 B        ⠋  \n",
      "\u001b[2A\u001b[JFiles: 2          ⠙  \n",
      "Bytes: 75.1 MiB   ⠙  \n",
      "\u001b[2A\u001b[JFiles: 7          ⠹  \n",
      "Bytes: 263.9 MiB  ⠹  \n",
      "\u001b[2A\u001b[JFiles: 13         ⠸  \n",
      "Bytes: 489.2 MiB  ⠸  \n",
      "\u001b[2A\u001b[JFiles: 16         ⠼  \n",
      "Bytes: 602.9 MiB  ⠼  \n",
      "\u001b[2A\u001b[JFiles: 16         ✔  \n",
      "Bytes: 602.9 MiB  ✔  \n",
      "Completed in 500ms: 1.087 GiB/s, 30 files/s\n",
      "Fetching helpsteer2 dataset\n",
      "Downloading dataset \u001b[36m01J6KBM2VCM9EQ7MER26VBXCCM\u001b[0m to \u001b[32m.\u001b[0m\n",
      "Files: 0          ⠋  \n",
      "Bytes: 0 B        ⠋  \n",
      "\u001b[2A\u001b[JFiles: 1          ⠙  \n",
      "Bytes: 70.58 MiB  ⠙  \n",
      "\u001b[2A\u001b[JFiles: 1          ✔  \n",
      "Bytes: 70.58 MiB  ✔  \n",
      "Completed in 200ms: 322.2 MiB/s, 5 files/s\n",
      "Collating all evaluation results\n",
      "2024-09-03 20:41:23 - INFO - root - Logged-in as ljm (ljm@allenai.org)\n",
      "2024-09-03 20:41:25 - INFO - root - Found 287 experiments that match 'rm-eval-helpsteer2'\n"
     ]
    },
    {
     "name": "stderr",
     "output_type": "stream",
     "text": [
      "100%|██████████| 287/287 [00:55<00:00,  5.18it/s]"
     ]
    },
    {
     "name": "stdout",
     "output_type": "stream",
     "text": [
      "2024-09-03 20:42:20 - INFO - root - Computing category scores...\n",
      "2024-09-03 20:42:20 - INFO - root - Deriving features from the experiments file: experiments.txt\n",
      "2024-09-03 20:42:20 - INFO - root - Will attempt merge via feature hash\n",
      "2024-09-03 20:42:20 - INFO - root - Creating labels in column 'label' with GPT-4 threshold '0.658'\n",
      "2024-09-03 20:42:20 - INFO - root - Saving 128 results to results.csv\n",
      "2024-09-03 20:42:20 - INFO - root - Saved on results.csv\n"
     ]
    },
    {
     "name": "stderr",
     "output_type": "stream",
     "text": [
      "\n"
     ]
    }
   ],
   "source": [
    "# You can get the experiments file here: 01J6KF3JRCATRJQ9CPJTRV5VBM (https://beaker.org/ds/01J6KF3JRCATRJQ9CPJTRV5VBM/details)\n",
    "!echo \"Fetching experiments list...\"\n",
    "!beaker dataset fetch 01J6KF3JRCATRJQ9CPJTRV5VBM --prefix experiments.txt\n",
    "!echo \"Fetching extracted features...\"\n",
    "!mkdir features/\n",
    "!beaker dataset fetch 01J6KF3JRCATRJQ9CPJTRV5VBM --prefix features/ \n",
    "#!beaker dataset fetch 01J6KFVCRCTYHCZDR0XNK0G9HT --prefix features/\n",
    "!echo \"Fetching helpsteer2 dataset\"\n",
    "!beaker dataset fetch 01J6KBM2VCM9EQ7MER26VBXCCM\n",
    "!echo \"Collating all evaluation results\"\n",
    "%run ../../scripts/fetch_evals_rewardbench.py --output_file results.csv --gpt4_threshold_score 0.658 --experiment_prefix rm-eval-helpsteer2 --experiments_file experiments.txt"
   ]
  },
  {
   "cell_type": "markdown",
   "metadata": {},
   "source": [
    "Collate feature set for all instances\n"
   ]
  },
  {
   "cell_type": "code",
   "execution_count": 4,
   "metadata": {},
   "outputs": [],
   "source": [
    "LEXICAL_FEATS_PATH = Path(\"features\")\n",
    "DATASET_PATH = Path(\"helpsteer2_human_vs_gpt4_weighted_for_llama.jsonl\")\n",
    "\n",
    "\n",
    "def get_dataset_features(\n",
    "    feature_path=LEXICAL_FEATS_PATH, dataset_path=DATASET_PATH\n",
    ") -> \"pd.DataFrame\":\n",
    "    lexical_features = [\n",
    "        \"rouge\",\n",
    "        \"bertscore\",\n",
    "        \"bertscore_length\",\n",
    "        \"entity_sim\",\n",
    "        \"cosine_sim\",\n",
    "        \"prompt_len\",\n",
    "        \"len_longer\",\n",
    "        \"len_shorter\",\n",
    "        \"token_len_difference\",\n",
    "    ]\n",
    "    lexical_feature_files = [\n",
    "        file\n",
    "        for file in feature_path.glob(\"*.jsonl\")\n",
    "        if any(file.stem in feat for feat in lexical_features)\n",
    "    ]\n",
    "    lexical_feats_df = reduce(\n",
    "        lambda left, right: left.merge(\n",
    "            right, on=[\"id\", \"prompt\", \"completion_a\", \"completion_b\"], how=\"outer\"\n",
    "        ),\n",
    "        [pd.read_json(file, lines=True) for file in lexical_feature_files],\n",
    "    )\n",
    "\n",
    "    df = pd.read_json(dataset_path, lines=True).rename(columns={\"prompt_hash\": \"id\"})\n",
    "    finaldf = df.merge(lexical_feats_df, how=\"left\", on=\"id\").drop(\n",
    "        columns=[\"prompt\", \"completion_a\", \"completion_b\"]\n",
    "    )\n",
    "\n",
    "    # Hacky way for token_len_difference\n",
    "    finaldf = finaldf.rename(columns={\"token_len_diff\": \"token_len_difference\"})\n",
    "    return finaldf"
   ]
  },
  {
   "cell_type": "code",
   "execution_count": 5,
   "metadata": {},
   "outputs": [
    {
     "name": "stdout",
     "output_type": "stream",
     "text": [
      "127\n"
     ]
    }
   ],
   "source": [
    "results_df = pd.read_csv(\"results.csv\").dropna()\n",
    "features_df = get_dataset_features()\n",
    "print(len(results_df))"
   ]
  },
  {
   "cell_type": "markdown",
   "metadata": {},
   "source": [
    "## Get proportion of instances that fulfill the conditions\n",
    "\n",
    "1. For each row, get features that were activated\n",
    "2. Then for each activated feature, we get the proportion by looking at the feature dataframe.\n",
    "3. The proportion is computed as: `number_of_instance_that_fulfill_a_single_condition` / `total_number_of_instances`\n"
   ]
  },
  {
   "cell_type": "code",
   "execution_count": 6,
   "metadata": {},
   "outputs": [
    {
     "data": {
      "text/html": [
       "<div>\n",
       "<style scoped>\n",
       "    .dataframe tbody tr th:only-of-type {\n",
       "        vertical-align: middle;\n",
       "    }\n",
       "\n",
       "    .dataframe tbody tr th {\n",
       "        vertical-align: top;\n",
       "    }\n",
       "\n",
       "    .dataframe thead th {\n",
       "        text-align: right;\n",
       "    }\n",
       "</style>\n",
       "<table border=\"1\" class=\"dataframe\">\n",
       "  <thead>\n",
       "    <tr style=\"text-align: right;\">\n",
       "      <th></th>\n",
       "      <th>expertise_level</th>\n",
       "      <th>format_constraints</th>\n",
       "    </tr>\n",
       "  </thead>\n",
       "  <tbody>\n",
       "    <tr>\n",
       "      <th>289</th>\n",
       "      <td>None</td>\n",
       "      <td>[]</td>\n",
       "    </tr>\n",
       "    <tr>\n",
       "      <th>1317</th>\n",
       "      <td>expert domain knowledge</td>\n",
       "      <td>None</td>\n",
       "    </tr>\n",
       "    <tr>\n",
       "      <th>4613</th>\n",
       "      <td>basic domain knowledge</td>\n",
       "      <td>None</td>\n",
       "    </tr>\n",
       "    <tr>\n",
       "      <th>4734</th>\n",
       "      <td>general public</td>\n",
       "      <td>None</td>\n",
       "    </tr>\n",
       "  </tbody>\n",
       "</table>\n",
       "</div>"
      ],
      "text/plain": [
       "              expertise_level format_constraints\n",
       "289                      None                 []\n",
       "1317  expert domain knowledge               None\n",
       "4613   basic domain knowledge               None\n",
       "4734           general public               None"
      ]
     },
     "execution_count": 6,
     "metadata": {},
     "output_type": "execute_result"
    }
   ],
   "source": [
    "# Inspect nan columns\n",
    "rows_with_nan = features_df[features_df.isna().any(axis=1)]\n",
    "nan_columns = rows_with_nan.columns[rows_with_nan.isna().any()]\n",
    "df_nan_columns = rows_with_nan[nan_columns]\n",
    "df_nan_columns"
   ]
  },
  {
   "cell_type": "markdown",
   "metadata": {},
   "source": [
    "So what you're going to do instead, is to take the binary_cols, and then for each element of that binary_cols, you compute the \"weight\"\n"
   ]
  },
  {
   "cell_type": "code",
   "execution_count": 7,
   "metadata": {},
   "outputs": [],
   "source": [
    "def compute_instances(feat: str, features_df: \"pd.DataFrame\") -> float:\n",
    "    total = len(features_df)\n",
    "    lexical_features = [\n",
    "        \"rouge\",\n",
    "        \"bertscore\",\n",
    "        \"bertscore_length\",\n",
    "        \"entity_sim\",\n",
    "        \"cosine_sim\",\n",
    "        \"prompt_len\",\n",
    "        \"len_longer\",\n",
    "        \"len_shorter\",\n",
    "        \"token_len_difference\",\n",
    "    ]\n",
    "\n",
    "    if feat.split(\"__\")[0] in lexical_features:\n",
    "        feat_name, value = feat.split(\"__\")\n",
    "        min_val_str, max_val_str = value.split(\"|\")\n",
    "        min_val, max_val = float(min_val_str.split(\"=\")[1]), float(\n",
    "            max_val_str.split(\"=\")[1]\n",
    "        )\n",
    "        return features_df[feat_name].between(min_val, max_val).mean()\n",
    "    else:\n",
    "        # Parse the feature\n",
    "        feat_name, value = feat.split(\"=\")\n",
    "        meta_category = find_meta_category(feat_name)\n",
    "        if meta_category == \"scalar\":\n",
    "            v = value.replace(\"_\", \" \")\n",
    "            return features_df[feat_name].value_counts().get(v) / total\n",
    "        elif meta_category == \"closed_set\":\n",
    "            v = value.replace(\"_\", \" \")\n",
    "            list_of_values = features_df[feat_name].tolist()\n",
    "            return sum([1 if v in listval else 0 for listval in list_of_values]) / total\n",
    "        elif meta_category == \"open_set\":\n",
    "            list_of_values = features_df[feat_name].tolist()\n",
    "            return sum([1 if listval else 0 for listval in list_of_values]) / total\n",
    "\n",
    "        return find_meta_category(feat_name)\n",
    "\n",
    "\n",
    "feats = results_df.columns[results_df.isin([0, 1]).all()]  # get binary columns\n",
    "feat_map = {\n",
    "    feat: compute_instances(feat, features_df) for feat in feats if feat != \"label\"\n",
    "}\n",
    "\n",
    "ratio_df = results_df.apply(\n",
    "    lambda row: row.map(lambda x: feat_map.get(row.name, 1) if x == 1 else x)\n",
    ")"
   ]
  },
  {
   "cell_type": "markdown",
   "metadata": {},
   "source": [
    "# Regressor training\n"
   ]
  },
  {
   "cell_type": "code",
   "execution_count": 8,
   "metadata": {},
   "outputs": [],
   "source": [
    "from sklearn.model_selection import train_test_split\n",
    "from sklearn.metrics import mean_squared_error\n",
    "from sklearn.linear_model import LinearRegression\n",
    "from sklearn.preprocessing import PolynomialFeatures"
   ]
  },
  {
   "cell_type": "markdown",
   "metadata": {},
   "source": [
    "## Train LinearRegressor\n"
   ]
  },
  {
   "cell_type": "code",
   "execution_count": 9,
   "metadata": {},
   "outputs": [
    {
     "name": "stdout",
     "output_type": "stream",
     "text": [
      "Train size: 101, test size: 26\n",
      "Mean Squared Error: 0.0011799988127666999\n",
      "Coeeficients: [-1.69139184e-01  5.39745677e-03 -4.83589839e-02 -2.50702320e-02\n",
      " -9.20540054e-02  1.13969225e-02 -3.73776476e-02  4.85162352e-02\n",
      " -1.71390841e-01  2.37269423e-02  4.98207203e-03 -2.68490014e-03\n",
      " -5.33340856e-02 -6.41223597e-02 -9.68918665e-03 -2.25369590e-01\n",
      "  9.00947691e-02 -6.98322731e-02  1.15067201e-02 -1.71432920e-12\n",
      " -1.88090862e-12 -6.59541866e-13  1.52877710e-13  3.31004668e-12\n",
      " -1.20331003e+01 -1.81850530e-01 -2.89864605e-01 -2.94473646e-02\n",
      "  1.02749678e-01  1.91846539e-13 -3.77475828e-15 -2.32642237e-01\n",
      " -8.46659730e-03 -1.35201316e-02 -4.57418474e-01 -2.14973263e+00\n",
      " -8.39792306e-01  0.00000000e+00 -4.43099315e-03 -3.55271368e-15\n",
      " -2.59171788e-01  1.95399252e-14  0.00000000e+00  0.00000000e+00\n",
      "  0.00000000e+00  0.00000000e+00  2.78806648e-01  0.00000000e+00\n",
      " -7.38329999e-01  0.00000000e+00 -1.00666263e+01  0.00000000e+00\n",
      "  0.00000000e+00  4.23964063e-01  3.90277829e+00  0.00000000e+00\n",
      "  5.31376482e-01 -9.23668615e+01  0.00000000e+00  0.00000000e+00\n",
      "  0.00000000e+00 -1.70969404e+00  0.00000000e+00 -2.10926070e-01\n",
      " -2.42464416e-01]\n",
      "Intercept: 0.7136279135300954\n"
     ]
    }
   ],
   "source": [
    "polyfit = False\n",
    "binary = False\n",
    "\n",
    "X = ratio_df[list(feat_map.keys())]\n",
    "y = ratio_df[\"Overall\"]\n",
    "if binary:\n",
    "    X = (X > 0).astype(int)\n",
    "\n",
    "if polyfit:\n",
    "    poly = PolynomialFeatures(degree=2, include_bias=False)\n",
    "    X_poly = poly.fit_transform(X)\n",
    "    X_train, X_test, y_train, y_test = train_test_split(\n",
    "        X_poly, y, test_size=0.2, random_state=42\n",
    "    )\n",
    "else:\n",
    "    X_train, X_test, y_train, y_test = train_test_split(\n",
    "        X, y, test_size=0.2, random_state=42\n",
    "    )\n",
    "\n",
    "\n",
    "print(f\"Train size: {len(X_train)}, test size: {len(X_test)}\")\n",
    "\n",
    "model = LinearRegression()\n",
    "model.fit(X_train, y_train)\n",
    "\n",
    "\n",
    "y_pred = model.predict(X_test)\n",
    "mse = mean_squared_error(y_test, y_pred)\n",
    "# print(f\"Feature names: {poly.get_feature_names_out(X.columns)}\")\n",
    "print(f\"Mean Squared Error: {mse}\")\n",
    "print(f\"Coeeficients: {model.coef_}\")\n",
    "print(f\"Intercept: {model.intercept_}\")"
   ]
  },
  {
   "cell_type": "code",
   "execution_count": 10,
   "metadata": {},
   "outputs": [],
   "source": [
    "if not polyfit:\n",
    "    feature_importance = pd.DataFrame(\n",
    "        {\"Feature\": X.columns, \"Coefficient\": model.coef_}\n",
    "    )\n",
    "\n",
    "    # Calculate absolute importance for easier comparison\n",
    "    feature_importance[\"Absolute_Coefficient\"] = np.abs(\n",
    "        feature_importance[\"Coefficient\"]\n",
    "    )\n",
    "\n",
    "    # Sort by absolute coefficient value\n",
    "    feature_importance = feature_importance.sort_values(\n",
    "        by=\"Absolute_Coefficient\", ascending=False\n",
    "    )\n",
    "    feature_importance.head(10)\n",
    "else:\n",
    "    print(\n",
    "        \"Feature importance is not possible with polynomial features (hard to interpret)\"\n",
    "    )"
   ]
  },
  {
   "cell_type": "markdown",
   "metadata": {},
   "source": [
    "## Simulation\n"
   ]
  },
  {
   "cell_type": "code",
   "execution_count": 11,
   "metadata": {},
   "outputs": [],
   "source": [
    "from tqdm import tqdm_notebook"
   ]
  },
  {
   "cell_type": "code",
   "execution_count": 12,
   "metadata": {},
   "outputs": [
    {
     "name": "stderr",
     "output_type": "stream",
     "text": [
      "10it [00:00, 79891.50it/s]\n",
      "45it [00:00, 102300.10it/s]\n",
      "120it [00:00, 75800.67it/s]\n",
      "210it [00:00, 65477.54it/s]\n",
      "252it [00:00, 51564.28it/s]\n",
      "210it [00:00, 42786.55it/s]\n",
      "120it [00:00, 37153.35it/s]\n",
      "45it [00:00, 28233.91it/s]\n",
      "10it [00:00, 19266.44it/s]\n",
      "1it [00:00, 10782.27it/s]"
     ]
    },
    {
     "name": "stdout",
     "output_type": "stream",
     "text": [
      "2024-09-03 20:42:23 - INFO - root - Adding meta analyzer features\n"
     ]
    },
    {
     "name": "stderr",
     "output_type": "stream",
     "text": [
      "\n",
      "10it [00:00, 108942.96it/s]\n",
      "45it [00:00, 83923.38it/s]\n",
      "120it [00:00, 78373.79it/s]\n",
      "210it [00:00, 63153.64it/s]\n",
      "252it [00:00, 51281.58it/s]\n",
      "210it [00:00, 42083.32it/s]\n",
      "120it [00:00, 19333.04it/s]\n",
      "45it [00:00, 29662.69it/s]\n",
      "10it [00:00, 17396.53it/s]\n",
      "1it [00:00, 14122.24it/s]\n"
     ]
    }
   ],
   "source": [
    "_, combinations = sample_feature_combinations(\n",
    "    meta_analyzer_n_samples=2000, max_number=10\n",
    ")"
   ]
  },
  {
   "cell_type": "code",
   "execution_count": 13,
   "metadata": {},
   "outputs": [
    {
     "name": "stderr",
     "output_type": "stream",
     "text": [
      "/var/folders/hx/gk2rs0792pn5p8hkj4nkhdm80000gp/T/ipykernel_24031/4023816742.py:2: TqdmDeprecationWarning: This function will be removed in tqdm==5.0.0\n",
      "Please use `tqdm.notebook.tqdm` instead of `tqdm.tqdm_notebook`\n",
      "  for idx, combination in tqdm_notebook(enumerate(combinations), total=len(combinations)):\n"
     ]
    },
    {
     "data": {
      "application/vnd.jupyter.widget-view+json": {
       "model_id": "8a9a261e6979416fb6a5abe715e3e2a8",
       "version_major": 2,
       "version_minor": 0
      },
      "text/plain": [
       "  0%|          | 0/4069 [00:00<?, ?it/s]"
      ]
     },
     "metadata": {},
     "output_type": "display_data"
    }
   ],
   "source": [
    "sim_df = pd.DataFrame(0, index=np.arange(len(combinations)), columns=X.columns)\n",
    "for idx, combination in tqdm_notebook(enumerate(combinations), total=len(combinations)):\n",
    "    activated_feats = []\n",
    "    for feat in combination:\n",
    "        if \"analyzer\" in feat:\n",
    "            feature_name_str, value_str = feat.split(\"::\")[1].split(\"|\")\n",
    "            feature_name, value = (\n",
    "                feature_name_str.split(\"=\")[-1],\n",
    "                value_str.split(\"=\")[-1],\n",
    "            )\n",
    "            activated_feats.append(f\"{feature_name}={value}\")\n",
    "        else:\n",
    "            activated_feats.append(feat.replace(\"::\", \"__\"))\n",
    "    sim_df.loc[idx, activated_feats] = 1\n",
    "sim_df = sim_df.apply(\n",
    "    lambda row: row.map(lambda x: feat_map.get(row.name, 1) if x == 1 else x)\n",
    ").dropna(axis=1, how=\"any\")"
   ]
  },
  {
   "cell_type": "code",
   "execution_count": 14,
   "metadata": {},
   "outputs": [
    {
     "data": {
      "text/html": [
       "<div>\n",
       "<style scoped>\n",
       "    .dataframe tbody tr th:only-of-type {\n",
       "        vertical-align: middle;\n",
       "    }\n",
       "\n",
       "    .dataframe tbody tr th {\n",
       "        vertical-align: top;\n",
       "    }\n",
       "\n",
       "    .dataframe thead th {\n",
       "        text-align: right;\n",
       "    }\n",
       "</style>\n",
       "<table border=\"1\" class=\"dataframe\">\n",
       "  <thead>\n",
       "    <tr style=\"text-align: right;\">\n",
       "      <th></th>\n",
       "      <th>activated_features</th>\n",
       "      <th>pred</th>\n",
       "    </tr>\n",
       "  </thead>\n",
       "  <tbody>\n",
       "    <tr>\n",
       "      <th>0</th>\n",
       "      <td>[complexity_of_intents=simple, languages=Engli...</td>\n",
       "      <td>0.764134</td>\n",
       "    </tr>\n",
       "    <tr>\n",
       "      <th>1</th>\n",
       "      <td>[complexity_of_intents=simple, languages=English]</td>\n",
       "      <td>0.760119</td>\n",
       "    </tr>\n",
       "    <tr>\n",
       "      <th>2</th>\n",
       "      <td>[complexity_of_intents=simple, languages=Engli...</td>\n",
       "      <td>0.755809</td>\n",
       "    </tr>\n",
       "    <tr>\n",
       "      <th>3</th>\n",
       "      <td>[complexity_of_intents=simple, cosine_sim__min...</td>\n",
       "      <td>0.753833</td>\n",
       "    </tr>\n",
       "    <tr>\n",
       "      <th>4</th>\n",
       "      <td>[complexity_of_intents=simple, cosine_sim__min...</td>\n",
       "      <td>0.751735</td>\n",
       "    </tr>\n",
       "    <tr>\n",
       "      <th>5</th>\n",
       "      <td>[complexity_of_intents=simple]</td>\n",
       "      <td>0.748626</td>\n",
       "    </tr>\n",
       "    <tr>\n",
       "      <th>6</th>\n",
       "      <td>[complexity_of_intents=simple]</td>\n",
       "      <td>0.748626</td>\n",
       "    </tr>\n",
       "    <tr>\n",
       "      <th>7</th>\n",
       "      <td>[complexity_of_intents=simple]</td>\n",
       "      <td>0.748626</td>\n",
       "    </tr>\n",
       "    <tr>\n",
       "      <th>8</th>\n",
       "      <td>[complexity_of_intents=simple]</td>\n",
       "      <td>0.748626</td>\n",
       "    </tr>\n",
       "    <tr>\n",
       "      <th>9</th>\n",
       "      <td>[complexity_of_intents=simple]</td>\n",
       "      <td>0.748626</td>\n",
       "    </tr>\n",
       "    <tr>\n",
       "      <th>10</th>\n",
       "      <td>[complexity_of_intents=simple]</td>\n",
       "      <td>0.748626</td>\n",
       "    </tr>\n",
       "    <tr>\n",
       "      <th>11</th>\n",
       "      <td>[complexity_of_intents=simple]</td>\n",
       "      <td>0.748626</td>\n",
       "    </tr>\n",
       "    <tr>\n",
       "      <th>12</th>\n",
       "      <td>[complexity_of_intents=simple]</td>\n",
       "      <td>0.748626</td>\n",
       "    </tr>\n",
       "    <tr>\n",
       "      <th>13</th>\n",
       "      <td>[complexity_of_intents=simple]</td>\n",
       "      <td>0.748626</td>\n",
       "    </tr>\n",
       "    <tr>\n",
       "      <th>14</th>\n",
       "      <td>[complexity_of_intents=simple]</td>\n",
       "      <td>0.748626</td>\n",
       "    </tr>\n",
       "    <tr>\n",
       "      <th>15</th>\n",
       "      <td>[bertscore__min_val=0.67|max_val=1.0, complexi...</td>\n",
       "      <td>0.746532</td>\n",
       "    </tr>\n",
       "    <tr>\n",
       "      <th>16</th>\n",
       "      <td>[complexity_of_intents=simple, cosine_sim__min...</td>\n",
       "      <td>0.745778</td>\n",
       "    </tr>\n",
       "    <tr>\n",
       "      <th>17</th>\n",
       "      <td>[complexity_of_intents=simple, format_constrai...</td>\n",
       "      <td>0.745576</td>\n",
       "    </tr>\n",
       "    <tr>\n",
       "      <th>18</th>\n",
       "      <td>[complexity_of_intents=simple, format_constrai...</td>\n",
       "      <td>0.745576</td>\n",
       "    </tr>\n",
       "    <tr>\n",
       "      <th>19</th>\n",
       "      <td>[complexity_of_intents=simple, format_constrai...</td>\n",
       "      <td>0.745576</td>\n",
       "    </tr>\n",
       "  </tbody>\n",
       "</table>\n",
       "</div>"
      ],
      "text/plain": [
       "                                   activated_features      pred\n",
       "0   [complexity_of_intents=simple, languages=Engli...  0.764134\n",
       "1   [complexity_of_intents=simple, languages=English]  0.760119\n",
       "2   [complexity_of_intents=simple, languages=Engli...  0.755809\n",
       "3   [complexity_of_intents=simple, cosine_sim__min...  0.753833\n",
       "4   [complexity_of_intents=simple, cosine_sim__min...  0.751735\n",
       "5                      [complexity_of_intents=simple]  0.748626\n",
       "6                      [complexity_of_intents=simple]  0.748626\n",
       "7                      [complexity_of_intents=simple]  0.748626\n",
       "8                      [complexity_of_intents=simple]  0.748626\n",
       "9                      [complexity_of_intents=simple]  0.748626\n",
       "10                     [complexity_of_intents=simple]  0.748626\n",
       "11                     [complexity_of_intents=simple]  0.748626\n",
       "12                     [complexity_of_intents=simple]  0.748626\n",
       "13                     [complexity_of_intents=simple]  0.748626\n",
       "14                     [complexity_of_intents=simple]  0.748626\n",
       "15  [bertscore__min_val=0.67|max_val=1.0, complexi...  0.746532\n",
       "16  [complexity_of_intents=simple, cosine_sim__min...  0.745778\n",
       "17  [complexity_of_intents=simple, format_constrai...  0.745576\n",
       "18  [complexity_of_intents=simple, format_constrai...  0.745576\n",
       "19  [complexity_of_intents=simple, format_constrai...  0.745576"
      ]
     },
     "execution_count": 14,
     "metadata": {},
     "output_type": "execute_result"
    }
   ],
   "source": [
    "sim_results = sim_df.copy(deep=True)\n",
    "sim_results[\"activated_features\"] = sim_results.apply(\n",
    "    lambda row: [col for col in sim_results.columns if row[col] != 0], axis=1\n",
    ")\n",
    "sim_results[\"pred\"] = model.predict(sim_df)\n",
    "sim_results = sim_results.sort_values(by=\"pred\", ascending=False).reset_index(drop=True)\n",
    "sim_results[[\"activated_features\", \"pred\"]].head(20)"
   ]
  },
  {
   "cell_type": "code",
   "execution_count": 26,
   "metadata": {},
   "outputs": [
    {
     "name": "stdout",
     "output_type": "stream",
     "text": [
      "[['complexity_of_intents=simple', 'languages=English', 'open_endedness=no', 'safety_concern=moderate'], ['complexity_of_intents=simple', 'languages=English'], ['complexity_of_intents=simple', 'languages=English', 'safety_concern=safe'], ['complexity_of_intents=simple', 'cosine_sim__min_val=0.33|max_val=0.67'], ['complexity_of_intents=simple', 'cosine_sim__min_val=0.33|max_val=0.67', 'rouge__min_val=0.0|max_val=0.33'], ['complexity_of_intents=simple'], ['bertscore__min_val=0.67|max_val=1.0', 'complexity_of_intents=simple', 'cosine_sim__min_val=0.67|max_val=1.0', 'entity_sim__min_val=0.0|max_val=0.33', 'rouge__min_val=0.33|max_val=0.67'], ['complexity_of_intents=simple', 'cosine_sim__min_val=0.67|max_val=1.0', 'languages=English', 'rouge__min_val=0.67|max_val=1.0'], ['complexity_of_intents=simple', 'format_constraints=1', 'languages=English', 'open_endedness=no', 'safety_concern=moderate'], ['complexity_of_intents=simple', 'format_constraints=1', 'languages=English', 'open_endedness=no'], ['bertscore__min_val=0.67|max_val=1.0', 'complexity_of_intents=simple', 'cosine_sim__min_val=0.0|max_val=0.33'], ['bertscore__min_val=0.67|max_val=1.0', 'bertscore_length__min_val=0.33|max_val=0.67', 'complexity_of_intents=simple', 'cosine_sim__min_val=0.67|max_val=1.0', 'entity_sim__min_val=0.0|max_val=0.33', 'rouge__min_val=0.0|max_val=0.33'], ['complexity_of_intents=simple', 'token_len_difference__min_val=0.0|max_val=0.33'], ['complexity_of_intents=simple', 'cosine_sim__min_val=0.0|max_val=0.33', 'languages=English', 'prompt_len__min_val=0.67|max_val=1.0', 'rouge__min_val=0.33|max_val=0.67'], ['complexity_of_intents=simple', 'format_constraints=1', 'languages=English'], ['complexity_of_intents=simple', 'rouge__min_val=0.0|max_val=0.33', 'token_len_difference__min_val=0.0|max_val=0.33'], ['complexity_of_intents=simple', 'cosine_sim__min_val=0.67|max_val=1.0', 'entity_sim__min_val=0.0|max_val=0.33', 'languages=English', 'open_endedness=moderate', 'rouge__min_val=0.33|max_val=0.67'], ['bertscore__min_val=0.67|max_val=1.0', 'complexity_of_intents=simple', 'entity_sim__min_val=0.67|max_val=1.0', 'open_endedness=no', 'prompt_len__min_val=0.67|max_val=1.0'], ['complexity_of_intents=simple', 'format_constraints=1', 'languages=English', 'open_endedness=no', 'safety_concern=high'], ['bertscore__min_val=0.33|max_val=0.67', 'complexity_of_intents=simple', 'token_len_difference__min_val=0.0|max_val=0.33'], ['complexity_of_intents=simple', 'cosine_sim__min_val=0.0|max_val=0.33', 'rouge__min_val=0.0|max_val=0.33'], ['complexity_of_intents=simple', 'languages=English', 'open_endedness=no', 'subject_of_expertise=Philosophy', 'type_of_in_context_material=1'], ['complexity_of_intents=simple', 'entity_sim__min_val=0.33|max_val=0.67'], ['complexity_of_intents=simple', 'entity_sim__min_val=0.33|max_val=0.67', 'prompt_len__min_val=0.67|max_val=1.0'], ['complexity_of_intents=simple', 'cosine_sim__min_val=0.33|max_val=0.67', 'entity_sim__min_val=0.33|max_val=0.67', 'languages=English', 'rouge__min_val=0.0|max_val=0.33', 'safety_concern=low'], ['bertscore_length__min_val=0.0|max_val=0.33', 'complexity_of_intents=simple', 'cosine_sim__min_val=0.33|max_val=0.67', 'entity_sim__min_val=0.0|max_val=0.33', 'languages=English', 'rouge__min_val=0.33|max_val=0.67'], ['complexity_of_intents=simple', 'format_constraints=1', 'languages=English', 'safety_concern=high'], ['bertscore__min_val=0.33|max_val=0.67', 'complexity_of_intents=simple', 'cosine_sim__min_val=0.33|max_val=0.67', 'format_constraints=1', 'open_endedness=no', 'prompt_len__min_val=0.67|max_val=1.0'], ['complexity_of_intents=simple', 'format_constraints=1', 'open_endedness=no'], ['complexity_of_intents=simple', 'languages=English', 'type_of_in_context_material=1'], ['complexity_of_intents=simple', 'safety_concern=low'], ['bertscore__min_val=0.33|max_val=0.67', 'bertscore_length__min_val=0.33|max_val=0.67', 'complexity_of_intents=simple', 'token_len_difference__min_val=0.67|max_val=1.0'], ['complexity_of_intents=simple', 'cosine_sim__min_val=0.33|max_val=0.67', 'format_constraints=1', 'rouge__min_val=0.0|max_val=0.33', 'safety_concern=moderate', 'token_len_difference__min_val=0.67|max_val=1.0'], ['complexity_of_intents=simple', 'languages=English', 'open_endedness=no', 'safety_concern=high', 'subject_of_expertise=Literature', 'type_of_in_context_material=1'], ['bertscore__min_val=0.67|max_val=1.0', 'cosine_sim__min_val=0.33|max_val=0.67', 'languages=English', 'safety_concern=safe'], ['complexity_of_intents=simple', 'cosine_sim__min_val=0.67|max_val=1.0', 'entity_sim__min_val=0.33|max_val=0.67', 'rouge__min_val=0.33|max_val=0.67'], ['complexity_of_intents=simple', 'cosine_sim__min_val=0.0|max_val=0.33', 'rouge__min_val=0.33|max_val=0.67'], ['complexity_of_intents=simple', 'entity_sim__min_val=0.0|max_val=0.33', 'safety_concern=low', 'token_len_difference__min_val=0.67|max_val=1.0'], ['complexity_of_intents=simple', 'format_constraints=1', 'languages=English', 'open_endedness=no', 'safety_concern=low'], ['bertscore__min_val=0.67|max_val=1.0', 'cosine_sim__min_val=0.33|max_val=0.67', 'languages=English', 'token_len_difference__min_val=0.0|max_val=0.33'], ['bertscore__min_val=0.67|max_val=1.0', 'cosine_sim__min_val=0.67|max_val=1.0', 'entity_sim__min_val=0.0|max_val=0.33', 'languages=English', 'prompt_len__min_val=0.67|max_val=1.0', 'rouge__min_val=0.0|max_val=0.33'], ['complexity_of_intents=complex', 'languages=English', 'open_endedness=no', 'safety_concern=moderate'], ['complexity_of_intents=simple', 'format_constraints=1', 'safety_concern=moderate'], ['complexity_of_intents=simple', 'format_constraints=1'], ['complexity_of_intents=simple', 'languages=English', 'safety_concern=safe', 'type_of_in_context_material=1'], ['languages=English', 'open_endedness=no'], ['cosine_sim__min_val=0.33|max_val=0.67', 'entity_sim__min_val=0.0|max_val=0.33', 'languages=English'], ['complexity_of_intents=simple', 'format_constraints=1', 'languages=English', 'open_endedness=moderate'], ['complexity_of_intents=simple', 'format_constraints=1', 'languages=English', 'open_endedness=moderate', 'safety_concern=moderate'], ['bertscore__min_val=0.67|max_val=1.0', 'cosine_sim__min_val=0.33|max_val=0.67', 'open_endedness=no', 'subject_of_expertise=Philosophy'], ['bertscore__min_val=0.67|max_val=1.0', 'languages=English', 'prompt_len__min_val=0.67|max_val=1.0', 'rouge__min_val=0.0|max_val=0.33'], ['complexity_of_intents=simple', 'cosine_sim__min_val=0.33|max_val=0.67', 'subject_of_expertise=Economics', 'type_of_in_context_material=1'], ['complexity_of_intents=simple', 'format_constraints=1', 'open_endedness=no', 'safety_concern=high'], ['complexity_of_intents=simple', 'languages=English', 'safety_concern=high', 'type_of_in_context_material=1'], ['bertscore__min_val=0.67|max_val=1.0', 'complexity_of_intents=moderate', 'cosine_sim__min_val=0.33|max_val=0.67', 'languages=English', 'rouge__min_val=0.0|max_val=0.33'], ['complexity_of_intents=simple', 'open_endedness=no', 'type_of_in_context_material=1'], ['bertscore__min_val=0.67|max_val=1.0', 'bertscore_length__min_val=0.67|max_val=1.0', 'complexity_of_intents=simple', 'cosine_sim__min_val=0.0|max_val=0.33', 'languages=English', 'open_endedness=no', 'rouge__min_val=0.0|max_val=0.33', 'safety_concern=safe', 'subject_of_expertise=Economics', 'token_len_difference__min_val=0.0|max_val=0.33'], ['complexity_of_intents=complex', 'languages=English'], ['complexity_of_intents=simple', 'cosine_sim__min_val=0.67|max_val=1.0', 'rouge__min_val=0.67|max_val=1.0', 'safety_concern=high', 'subject_of_expertise=Sociology', 'token_len_difference__min_val=0.67|max_val=1.0'], ['cosine_sim__min_val=0.33|max_val=0.67', 'languages=English', 'safety_concern=safe'], ['complexity_of_intents=simple', 'format_constraints=1', 'safety_concern=safe'], ['complexity_of_intents=simple', 'entity_sim__min_val=0.33|max_val=0.67', 'format_constraints=1', 'languages=English', 'safety_concern=safe'], ['languages=English'], ['languages=English', 'safety_concern=moderate', 'subject_of_expertise=Literature'], ['languages=English', 'safety_concern=moderate']]\n"
     ]
    }
   ],
   "source": [
    "top_n = 100\n",
    "human_score = 0.715\n",
    "better_than_humans = sim_results[sim_results[\"pred\"] > human_score]\n",
    "top_combinations = (\n",
    "    better_than_humans.activated_features.head(top_n).drop_duplicates().to_list()\n",
    ")\n",
    "print(top_combinations)"
   ]
  },
  {
   "cell_type": "markdown",
   "metadata": {},
   "source": [
    "So now you have determined 10 feature combinations that seem to work well. The next step is to train RMs and evaluate them.\n"
   ]
  },
  {
   "cell_type": "code",
   "execution_count": 28,
   "metadata": {},
   "outputs": [],
   "source": [
    "from beaker import Beaker, ExperimentSpec\n",
    "from copy import deepcopy"
   ]
  },
  {
   "cell_type": "code",
   "execution_count": 29,
   "metadata": {},
   "outputs": [],
   "source": [
    "spec = ExperimentSpec.from_file(\"../../beaker/template.yml\")\n",
    "exp_spec = deepcopy(spec)\n",
    "template_task = exp_spec.tasks.pop(0)\n",
    "\n",
    "new_tasks = []\n",
    "for idx, combination in enumerate(top_combinations):\n",
    "    feats_to_run = []\n",
    "    for feat in combination:\n",
    "        if \"min_val\" in feat:\n",
    "            if \"token_len_difference\" in feat:\n",
    "                feat = feat.replace(\"difference\", \"diff\")\n",
    "            feats_to_run.append(feat.replace(\"__\", \"::\"))\n",
    "        else:\n",
    "            feat_name, value = feat.split(\"=\")\n",
    "            category = find_meta_category(feat_name)\n",
    "            if category == \"closed_set\":\n",
    "                key = \"constraints\"\n",
    "            elif category == \"scalar\":\n",
    "                key = \"value\"\n",
    "            elif category == \"open_set\":\n",
    "                key = \"check_for_existence\"\n",
    "            feats_to_run.append(f\"{category}::feature_name={feat_name}|{key}={value}\")\n",
    "    # Create beaker task\n",
    "    task = deepcopy(template_task)\n",
    "    task.name = f\"get-features-datamodel-{idx}\"\n",
    "    task.arguments.extend([\"--features\"] + feats_to_run)\n",
    "    new_tasks.append(task)\n",
    "\n",
    "exp_spec.tasks = new_tasks\n",
    "exp_spec.validate()\n",
    "exp_spec.to_file(\"experiments.yml\")"
   ]
  },
  {
   "cell_type": "markdown",
   "metadata": {},
   "source": [
    "Get finished jobs and download the subsets and create an `experiments.txt` file\n"
   ]
  },
  {
   "cell_type": "code",
   "execution_count": 30,
   "metadata": {},
   "outputs": [
    {
     "name": "stderr",
     "output_type": "stream",
     "text": [
      "/var/folders/hx/gk2rs0792pn5p8hkj4nkhdm80000gp/T/ipykernel_24031/76539003.py:11: TqdmDeprecationWarning: This function will be removed in tqdm==5.0.0\n",
      "Please use `tqdm.notebook.tqdm` instead of `tqdm.tqdm_notebook`\n",
      "  for job in tqdm_notebook(experiment.jobs):\n"
     ]
    },
    {
     "data": {
      "application/vnd.jupyter.widget-view+json": {
       "model_id": "32aa9924a7ad40a790358b0d012cb3e9",
       "version_major": 2,
       "version_minor": 0
      },
      "text/plain": [
       "  0%|          | 0/65 [00:00<?, ?it/s]"
      ]
     },
     "metadata": {},
     "output_type": "display_data"
    }
   ],
   "source": [
    "# experiment_id = \"01J6TS47Q2KNKYRCYHC8A0DE4B\"\n",
    "# experiment_id = \"01J6WDKDPQCM92REXJ1VCNJ0NW\"\n",
    "experiment_id = \"01J6XJSWMSAM2ARJ1WXAP6PV8T\"\n",
    "top_subsets_dir = Path(\"top_n_subsets\")\n",
    "top_subsets_dir.mkdir(parents=True, exist_ok=True)\n",
    "experiments_file = top_subsets_dir / \"top_n_subsets_experiments.txt\"\n",
    "beaker = Beaker.from_env(\"ai2/ljm-oe-adapt\")\n",
    "experiment = beaker.experiment.get(experiment_id)\n",
    "\n",
    "experiment_ids = []\n",
    "for job in tqdm_notebook(experiment.jobs):\n",
    "    if job.is_done:\n",
    "        # Get output\n",
    "        dataset_id = job.execution.result.beaker\n",
    "        beaker.dataset.fetch(\n",
    "            dataset_id,\n",
    "            force=True,\n",
    "            target=top_subsets_dir,\n",
    "            prefix=\"data/\",\n",
    "            quiet=True,\n",
    "        )\n",
    "\n",
    "        beaker.dataset.fetch(\n",
    "            dataset_id,\n",
    "            force=True,\n",
    "            target=top_subsets_dir,\n",
    "            prefix=\"experiments.txt\",\n",
    "            quiet=True,\n",
    "        )\n",
    "\n",
    "        with open(top_subsets_dir / \"experiments.txt\", \"r\") as f:\n",
    "            data = f.read().splitlines()\n",
    "            id = data[0]\n",
    "            experiment_ids.append(id)\n",
    "\n",
    "print(experiment_ids)\n",
    "with open(experiments_file, \"a\") as f:\n",
    "    for id in set(experiment_ids):\n",
    "        f.write(\"\\n\" + id)"
   ]
  },
  {
   "cell_type": "code",
   "execution_count": 19,
   "metadata": {},
   "outputs": [
    {
     "data": {
      "text/plain": [
       "13"
      ]
     },
     "execution_count": 19,
     "metadata": {},
     "output_type": "execute_result"
    }
   ],
   "source": [
    "len(set(experiment_ids))"
   ]
  },
  {
   "cell_type": "code",
   "execution_count": null,
   "metadata": {},
   "outputs": [],
   "source": []
  }
 ],
 "metadata": {
  "kernelspec": {
   "display_name": "venv",
   "language": "python",
   "name": "python3"
  },
  "language_info": {
   "codemirror_mode": {
    "name": "ipython",
    "version": 3
   },
   "file_extension": ".py",
   "mimetype": "text/x-python",
   "name": "python",
   "nbconvert_exporter": "python",
   "pygments_lexer": "ipython3",
   "version": "3.11.6"
  }
 },
 "nbformat": 4,
 "nbformat_minor": 2
}

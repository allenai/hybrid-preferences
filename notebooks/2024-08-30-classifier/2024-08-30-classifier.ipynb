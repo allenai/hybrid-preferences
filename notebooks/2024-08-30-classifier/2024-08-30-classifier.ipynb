{
 "cells": [
  {
   "cell_type": "code",
   "execution_count": 1,
   "metadata": {},
   "outputs": [],
   "source": [
    "import sys\n",
    "\n",
    "sys.path.append(\"../../\")\n",
    "\n",
    "%load_ext autoreload\n",
    "%autoreload 2"
   ]
  },
  {
   "cell_type": "code",
   "execution_count": 2,
   "metadata": {},
   "outputs": [],
   "source": [
    "import lightgbm as lgb\n",
    "import numpy as np\n",
    "import pandas as pd\n",
    "import hashlib\n",
    "from ast import literal_eval\n",
    "from pathlib import Path\n",
    "from functools import reduce\n",
    "\n",
    "from src.utils import find_meta_category\n",
    "from src.feature_extractor import sample_feature_combinations"
   ]
  },
  {
   "cell_type": "markdown",
   "metadata": {},
   "source": [
    "## Download prerequisite files\n",
    "\n",
    "Fetch all the results and feature values\n"
   ]
  },
  {
   "cell_type": "code",
   "execution_count": 3,
   "metadata": {},
   "outputs": [
    {
     "name": "stdout",
     "output_type": "stream",
     "text": [
      "Fetching experiments list...\n",
      "Downloading dataset \u001b[36m01J6KF3JRCATRJQ9CPJTRV5VBM\u001b[0m to \u001b[32m.\u001b[0m\n",
      "Files: 0          ⠋  \n",
      "Bytes: 0 B        ⠋  \n",
      "\u001b[2A\u001b[JFiles: 1          ⠙  \n",
      "Bytes: 73.77 KiB  ⠙  \n",
      "\u001b[2A\u001b[JFiles: 1          ✔  \n",
      "Bytes: 73.77 KiB  ✔  \n",
      "Completed in 100ms: 494.5 KiB/s, 7 files/s\n",
      "Fetching extracted features...\n",
      "mkdir: features/: File exists\n",
      "Downloading dataset \u001b[36m01J6KF3JRCATRJQ9CPJTRV5VBM\u001b[0m to \u001b[32m.\u001b[0m\n",
      "Files: 0          ⠋  \n",
      "Bytes: 0 B        ⠋  \n",
      "\u001b[2A\u001b[JFiles: 2          ⠙  \n",
      "Bytes: 75.1 MiB   ⠙  \n",
      "\u001b[2A\u001b[JFiles: 8          ⠹  \n",
      "Bytes: 301.6 MiB  ⠹  \n",
      "\u001b[2A\u001b[JFiles: 14         ⠸  \n",
      "Bytes: 527 MiB    ⠸  \n",
      "\u001b[2A\u001b[JFiles: 16         ⠼  \n",
      "Bytes: 602.9 MiB  ⠼  \n",
      "\u001b[2A\u001b[JFiles: 16         ✔  \n",
      "Bytes: 602.9 MiB  ✔  \n",
      "Completed in 500ms: 1.131 GiB/s, 31 files/s\n",
      "Fetching helpsteer2 dataset\n",
      "Downloading dataset \u001b[36m01J6KBM2VCM9EQ7MER26VBXCCM\u001b[0m to \u001b[32m.\u001b[0m\n",
      "Files: 0          ⠋  \n",
      "Bytes: 0 B        ⠋  \n",
      "\u001b[2A\u001b[JFiles: 1          ⠙  \n",
      "Bytes: 70.58 MiB  ⠙  \n",
      "\u001b[2A\u001b[JFiles: 1          ✔  \n",
      "Bytes: 70.58 MiB  ✔  \n",
      "\u001b[2A\u001b[JFiles: 1          ✔  \n",
      "Bytes: 70.58 MiB  ✔  \n",
      "Completed in 100ms: 361 MiB/s, 5 files/s\n",
      "Collating all evaluation results\n",
      "2024-09-03 09:55:15 - INFO - root - Logged-in as ljm (ljm@allenai.org)\n",
      "2024-09-03 09:55:16 - INFO - root - Found 249 experiments that match 'rm-eval-helpsteer2'\n"
     ]
    },
    {
     "name": "stderr",
     "output_type": "stream",
     "text": [
      "100%|██████████| 249/249 [00:31<00:00,  7.98it/s]"
     ]
    },
    {
     "name": "stdout",
     "output_type": "stream",
     "text": [
      "2024-09-03 09:55:47 - INFO - root - Computing category scores...\n",
      "2024-09-03 09:55:47 - INFO - root - Deriving features from the experiments file: experiments.txt\n",
      "2024-09-03 09:55:48 - INFO - root - Will attempt merge via feature hash\n",
      "2024-09-03 09:55:48 - INFO - root - Creating labels in column 'label' with GPT-4 threshold '0.658'\n",
      "2024-09-03 09:55:48 - INFO - root - Saving 107 results to results.csv\n",
      "2024-09-03 09:55:48 - INFO - root - Saved on results.csv\n"
     ]
    },
    {
     "name": "stderr",
     "output_type": "stream",
     "text": [
      "\n"
     ]
    }
   ],
   "source": [
    "# You can get the experiments file here: 01J6KF3JRCATRJQ9CPJTRV5VBM (https://beaker.org/ds/01J6KF3JRCATRJQ9CPJTRV5VBM/details)\n",
    "!echo \"Fetching experiments list...\"\n",
    "!beaker dataset fetch 01J6KF3JRCATRJQ9CPJTRV5VBM --prefix experiments.txt\n",
    "!echo \"Fetching extracted features...\"\n",
    "!mkdir features/\n",
    "!beaker dataset fetch 01J6KF3JRCATRJQ9CPJTRV5VBM --prefix features/ \n",
    "#!beaker dataset fetch 01J6KFVCRCTYHCZDR0XNK0G9HT --prefix features/\n",
    "!echo \"Fetching helpsteer2 dataset\"\n",
    "!beaker dataset fetch 01J6KBM2VCM9EQ7MER26VBXCCM\n",
    "!echo \"Collating all evaluation results\"\n",
    "%run ../../scripts/fetch_evals_rewardbench.py --output_file results.csv --gpt4_threshold_score 0.658 --experiment_prefix rm-eval-helpsteer2 --experiments_file experiments.txt"
   ]
  },
  {
   "cell_type": "markdown",
   "metadata": {},
   "source": [
    "Collate feature set for all instances\n"
   ]
  },
  {
   "cell_type": "code",
   "execution_count": 4,
   "metadata": {},
   "outputs": [],
   "source": [
    "LEXICAL_FEATS_PATH = Path(\"features\")\n",
    "DATASET_PATH = Path(\"helpsteer2_human_vs_gpt4_weighted_for_llama.jsonl\")\n",
    "\n",
    "\n",
    "def get_dataset_features(\n",
    "    feature_path=LEXICAL_FEATS_PATH, dataset_path=DATASET_PATH\n",
    ") -> \"pd.DataFrame\":\n",
    "    lexical_features = [\n",
    "        \"rouge\",\n",
    "        \"bertscore\",\n",
    "        \"bertscore_length\",\n",
    "        \"entity_sim\",\n",
    "        \"cosine_sim\",\n",
    "        \"prompt_len\",\n",
    "        \"len_longer\",\n",
    "        \"len_shorter\",\n",
    "        \"token_len_difference\",\n",
    "    ]\n",
    "    lexical_feature_files = [\n",
    "        file\n",
    "        for file in feature_path.glob(\"*.jsonl\")\n",
    "        if any(file.stem in feat for feat in lexical_features)\n",
    "    ]\n",
    "    lexical_feats_df = reduce(\n",
    "        lambda left, right: left.merge(\n",
    "            right, on=[\"id\", \"prompt\", \"completion_a\", \"completion_b\"], how=\"outer\"\n",
    "        ),\n",
    "        [pd.read_json(file, lines=True) for file in lexical_feature_files],\n",
    "    )\n",
    "\n",
    "    df = pd.read_json(dataset_path, lines=True).rename(columns={\"prompt_hash\": \"id\"})\n",
    "    finaldf = df.merge(lexical_feats_df, how=\"left\", on=\"id\").drop(\n",
    "        columns=[\"prompt\", \"completion_a\", \"completion_b\"]\n",
    "    )\n",
    "\n",
    "    # Hacky way for token_len_difference\n",
    "    finaldf = finaldf.rename(columns={\"token_len_diff\": \"token_len_difference\"})\n",
    "    return finaldf"
   ]
  },
  {
   "cell_type": "code",
   "execution_count": 5,
   "metadata": {},
   "outputs": [
    {
     "name": "stdout",
     "output_type": "stream",
     "text": [
      "107\n"
     ]
    }
   ],
   "source": [
    "results_df = pd.read_csv(\"results.csv\").dropna()\n",
    "features_df = get_dataset_features()\n",
    "print(len(results_df))"
   ]
  },
  {
   "cell_type": "markdown",
   "metadata": {},
   "source": [
    "## Get proportion of instances that fulfill the conditions\n",
    "\n",
    "1. For each row, get features that were activated\n",
    "2. Then for each activated feature, we get the proportion by looking at the feature dataframe.\n",
    "3. The proportion is computed as: `number_of_instance_that_fulfill_a_single_condition` / `total_number_of_instances`\n"
   ]
  },
  {
   "cell_type": "code",
   "execution_count": 6,
   "metadata": {},
   "outputs": [
    {
     "data": {
      "text/html": [
       "<div>\n",
       "<style scoped>\n",
       "    .dataframe tbody tr th:only-of-type {\n",
       "        vertical-align: middle;\n",
       "    }\n",
       "\n",
       "    .dataframe tbody tr th {\n",
       "        vertical-align: top;\n",
       "    }\n",
       "\n",
       "    .dataframe thead th {\n",
       "        text-align: right;\n",
       "    }\n",
       "</style>\n",
       "<table border=\"1\" class=\"dataframe\">\n",
       "  <thead>\n",
       "    <tr style=\"text-align: right;\">\n",
       "      <th></th>\n",
       "      <th>expertise_level</th>\n",
       "      <th>format_constraints</th>\n",
       "    </tr>\n",
       "  </thead>\n",
       "  <tbody>\n",
       "    <tr>\n",
       "      <th>289</th>\n",
       "      <td>None</td>\n",
       "      <td>[]</td>\n",
       "    </tr>\n",
       "    <tr>\n",
       "      <th>1317</th>\n",
       "      <td>expert domain knowledge</td>\n",
       "      <td>None</td>\n",
       "    </tr>\n",
       "    <tr>\n",
       "      <th>4613</th>\n",
       "      <td>basic domain knowledge</td>\n",
       "      <td>None</td>\n",
       "    </tr>\n",
       "    <tr>\n",
       "      <th>4734</th>\n",
       "      <td>general public</td>\n",
       "      <td>None</td>\n",
       "    </tr>\n",
       "  </tbody>\n",
       "</table>\n",
       "</div>"
      ],
      "text/plain": [
       "              expertise_level format_constraints\n",
       "289                      None                 []\n",
       "1317  expert domain knowledge               None\n",
       "4613   basic domain knowledge               None\n",
       "4734           general public               None"
      ]
     },
     "execution_count": 6,
     "metadata": {},
     "output_type": "execute_result"
    }
   ],
   "source": [
    "# Inspect nan columns\n",
    "rows_with_nan = features_df[features_df.isna().any(axis=1)]\n",
    "nan_columns = rows_with_nan.columns[rows_with_nan.isna().any()]\n",
    "df_nan_columns = rows_with_nan[nan_columns]\n",
    "df_nan_columns"
   ]
  },
  {
   "cell_type": "markdown",
   "metadata": {},
   "source": [
    "So what you're going to do instead, is to take the binary_cols, and then for each element of that binary_cols, you compute the \"weight\"\n"
   ]
  },
  {
   "cell_type": "code",
   "execution_count": 7,
   "metadata": {},
   "outputs": [],
   "source": [
    "def compute_instances(feat: str, features_df: \"pd.DataFrame\") -> float:\n",
    "    total = len(features_df)\n",
    "    lexical_features = [\n",
    "        \"rouge\",\n",
    "        \"bertscore\",\n",
    "        \"bertscore_length\",\n",
    "        \"entity_sim\",\n",
    "        \"cosine_sim\",\n",
    "        \"prompt_len\",\n",
    "        \"len_longer\",\n",
    "        \"len_shorter\",\n",
    "        \"token_len_difference\",\n",
    "    ]\n",
    "\n",
    "    if feat.split(\"__\")[0] in lexical_features:\n",
    "        feat_name, value = feat.split(\"__\")\n",
    "        min_val_str, max_val_str = value.split(\"|\")\n",
    "        min_val, max_val = float(min_val_str.split(\"=\")[1]), float(\n",
    "            max_val_str.split(\"=\")[1]\n",
    "        )\n",
    "        return features_df[feat_name].between(min_val, max_val).mean()\n",
    "    else:\n",
    "        # Parse the feature\n",
    "        feat_name, value = feat.split(\"=\")\n",
    "        meta_category = find_meta_category(feat_name)\n",
    "        if meta_category == \"scalar\":\n",
    "            v = value.replace(\"_\", \" \")\n",
    "            return features_df[feat_name].value_counts().get(v) / total\n",
    "        elif meta_category == \"closed_set\":\n",
    "            v = value.replace(\"_\", \" \")\n",
    "            list_of_values = features_df[feat_name].tolist()\n",
    "            return sum([1 if v in listval else 0 for listval in list_of_values]) / total\n",
    "        elif meta_category == \"open_set\":\n",
    "            list_of_values = features_df[feat_name].tolist()\n",
    "            return sum([1 if listval else 0 for listval in list_of_values]) / total\n",
    "\n",
    "        return find_meta_category(feat_name)\n",
    "\n",
    "\n",
    "feats = results_df.columns[results_df.isin([0, 1]).all()]  # get binary columns\n",
    "feat_map = {\n",
    "    feat: compute_instances(feat, features_df) for feat in feats if feat != \"label\"\n",
    "}\n",
    "\n",
    "ratio_df = results_df.apply(\n",
    "    lambda row: row.map(lambda x: feat_map.get(row.name, 1) if x == 1 else x)\n",
    ")"
   ]
  },
  {
   "cell_type": "markdown",
   "metadata": {},
   "source": [
    "# Regressor training\n"
   ]
  },
  {
   "cell_type": "code",
   "execution_count": 8,
   "metadata": {},
   "outputs": [],
   "source": [
    "from sklearn.model_selection import train_test_split\n",
    "from sklearn.metrics import mean_squared_error\n",
    "from sklearn.linear_model import LinearRegression\n",
    "from sklearn.preprocessing import PolynomialFeatures"
   ]
  },
  {
   "cell_type": "markdown",
   "metadata": {},
   "source": [
    "## Train LinearRegressor\n"
   ]
  },
  {
   "cell_type": "code",
   "execution_count": 10,
   "metadata": {},
   "outputs": [
    {
     "name": "stdout",
     "output_type": "stream",
     "text": [
      "Train size: 85, test size: 22\n",
      "Mean Squared Error: 0.0022159736395070202\n",
      "Coeeficients: [-8.95416072e-01 -8.92760687e-04 -4.73834606e-02 -2.99464142e-02\n",
      " -5.43166946e-02  3.21880393e-01 -1.30151400e-01  3.66891162e-02\n",
      " -5.95998128e-01 -1.01920883e-02 -3.67576070e-04  6.07554303e-03\n",
      " -1.00533546e-01 -9.17860943e-02 -3.62468854e-02 -5.83339936e-01\n",
      "  6.87920031e-02 -6.81474743e-02 -9.38455549e-03 -3.70459219e-12\n",
      " -9.58788604e-13  2.38742359e-12  6.19948537e-13  4.41380266e-12\n",
      " -3.52555108e+00 -2.59763656e-01 -3.95659099e-01 -5.21415731e-02\n",
      " -5.56829383e-01  4.77395901e-14  6.21724894e-15 -5.69258456e+00\n",
      " -4.68892150e-02 -7.10700986e-03 -5.38287762e-01 -6.13251413e+00\n",
      " -1.57115312e+00  3.55271368e-15  1.38493507e-02  2.82035974e+00\n",
      "  0.00000000e+00  0.00000000e+00  0.00000000e+00  0.00000000e+00\n",
      "  0.00000000e+00  0.00000000e+00  7.80971634e-01 -4.65536115e+00\n",
      " -1.04643766e+00  0.00000000e+00 -2.24230023e+01  0.00000000e+00\n",
      "  0.00000000e+00  0.00000000e+00 -4.34303417e-01  0.00000000e+00\n",
      "  0.00000000e+00 -9.78828166e+01  0.00000000e+00  0.00000000e+00\n",
      "  0.00000000e+00 -2.00657886e+00  0.00000000e+00 -1.59360591e+00\n",
      " -1.43681993e-02]\n",
      "Intercept: 0.7264252986349659\n"
     ]
    }
   ],
   "source": [
    "polyfit = False\n",
    "binary = False\n",
    "\n",
    "X = ratio_df[list(feat_map.keys())]\n",
    "y = ratio_df[\"Overall\"]\n",
    "if binary:\n",
    "    X = (X > 0).astype(int)\n",
    "\n",
    "if polyfit:\n",
    "    poly = PolynomialFeatures(degree=2, include_bias=False)\n",
    "    X_poly = poly.fit_transform(X)\n",
    "    X_train, X_test, y_train, y_test = train_test_split(\n",
    "        X_poly, y, test_size=0.2, random_state=42\n",
    "    )\n",
    "else:\n",
    "    X_train, X_test, y_train, y_test = train_test_split(\n",
    "        X, y, test_size=0.2, random_state=42\n",
    "    )\n",
    "\n",
    "\n",
    "print(f\"Train size: {len(X_train)}, test size: {len(X_test)}\")\n",
    "\n",
    "model = LinearRegression()\n",
    "model.fit(X_train, y_train)\n",
    "\n",
    "\n",
    "y_pred = model.predict(X_test)\n",
    "mse = mean_squared_error(y_test, y_pred)\n",
    "# print(f\"Feature names: {poly.get_feature_names_out(X.columns)}\")\n",
    "print(f\"Mean Squared Error: {mse}\")\n",
    "print(f\"Coeeficients: {model.coef_}\")\n",
    "print(f\"Intercept: {model.intercept_}\")"
   ]
  },
  {
   "cell_type": "code",
   "execution_count": 11,
   "metadata": {},
   "outputs": [],
   "source": [
    "if not polyfit:\n",
    "    feature_importance = pd.DataFrame(\n",
    "        {\"Feature\": X.columns, \"Coefficient\": model.coef_}\n",
    "    )\n",
    "\n",
    "    # Calculate absolute importance for easier comparison\n",
    "    feature_importance[\"Absolute_Coefficient\"] = np.abs(\n",
    "        feature_importance[\"Coefficient\"]\n",
    "    )\n",
    "\n",
    "    # Sort by absolute coefficient value\n",
    "    feature_importance = feature_importance.sort_values(\n",
    "        by=\"Absolute_Coefficient\", ascending=False\n",
    "    )\n",
    "    feature_importance.head(10)\n",
    "else:\n",
    "    print(\n",
    "        \"Feature importance is not possible with polynomial features (hard to interpret)\"\n",
    "    )"
   ]
  },
  {
   "cell_type": "markdown",
   "metadata": {},
   "source": [
    "## Simulation\n"
   ]
  },
  {
   "cell_type": "code",
   "execution_count": 12,
   "metadata": {},
   "outputs": [],
   "source": [
    "from tqdm import tqdm_notebook"
   ]
  },
  {
   "cell_type": "code",
   "execution_count": 13,
   "metadata": {},
   "outputs": [
    {
     "name": "stderr",
     "output_type": "stream",
     "text": [
      "10it [00:00, 81442.80it/s]\n",
      "45it [00:00, 100717.01it/s]\n",
      "120it [00:00, 79262.44it/s]\n",
      "210it [00:00, 64475.80it/s]\n",
      "252it [00:00, 47024.27it/s]\n",
      "210it [00:00, 41576.77it/s]\n",
      "120it [00:00, 37244.08it/s]\n",
      "45it [00:00, 32677.23it/s]\n",
      "10it [00:00, 19963.37it/s]\n",
      "1it [00:00, 13315.25it/s]"
     ]
    },
    {
     "name": "stdout",
     "output_type": "stream",
     "text": [
      "2024-09-03 09:58:04 - INFO - root - Adding meta analyzer features\n"
     ]
    },
    {
     "name": "stderr",
     "output_type": "stream",
     "text": [
      "\n",
      "10it [00:00, 119156.36it/s]\n",
      "45it [00:00, 100663.30it/s]\n",
      "120it [00:00, 79676.50it/s]\n",
      "210it [00:00, 60866.83it/s]\n",
      "252it [00:00, 51829.78it/s]\n",
      "210it [00:00, 44099.73it/s]\n",
      "120it [00:00, 37679.03it/s]\n",
      "45it [00:00, 32424.61it/s]\n",
      "10it [00:00, 22832.36it/s]\n",
      "1it [00:00, 11214.72it/s]\n"
     ]
    }
   ],
   "source": [
    "_, combinations = sample_feature_combinations(\n",
    "    meta_analyzer_n_samples=2000, max_number=10\n",
    ")"
   ]
  },
  {
   "cell_type": "code",
   "execution_count": 14,
   "metadata": {},
   "outputs": [
    {
     "name": "stderr",
     "output_type": "stream",
     "text": [
      "/var/folders/hx/gk2rs0792pn5p8hkj4nkhdm80000gp/T/ipykernel_66313/4023816742.py:2: TqdmDeprecationWarning: This function will be removed in tqdm==5.0.0\n",
      "Please use `tqdm.notebook.tqdm` instead of `tqdm.tqdm_notebook`\n",
      "  for idx, combination in tqdm_notebook(enumerate(combinations), total=len(combinations)):\n"
     ]
    },
    {
     "data": {
      "application/vnd.jupyter.widget-view+json": {
       "model_id": "ef9149f4abaa4a878c0b2e0a010e23bc",
       "version_major": 2,
       "version_minor": 0
      },
      "text/plain": [
       "  0%|          | 0/4069 [00:00<?, ?it/s]"
      ]
     },
     "metadata": {},
     "output_type": "display_data"
    }
   ],
   "source": [
    "sim_df = pd.DataFrame(0, index=np.arange(len(combinations)), columns=X.columns)\n",
    "for idx, combination in tqdm_notebook(enumerate(combinations), total=len(combinations)):\n",
    "    activated_feats = []\n",
    "    for feat in combination:\n",
    "        if \"analyzer\" in feat:\n",
    "            feature_name_str, value_str = feat.split(\"::\")[1].split(\"|\")\n",
    "            feature_name, value = (\n",
    "                feature_name_str.split(\"=\")[-1],\n",
    "                value_str.split(\"=\")[-1],\n",
    "            )\n",
    "            activated_feats.append(f\"{feature_name}={value}\")\n",
    "        else:\n",
    "            activated_feats.append(feat.replace(\"::\", \"__\"))\n",
    "    sim_df.loc[idx, activated_feats] = 1\n",
    "sim_df = sim_df.apply(\n",
    "    lambda row: row.map(lambda x: feat_map.get(row.name, 1) if x == 1 else x)\n",
    ").dropna(axis=1, how=\"any\")"
   ]
  },
  {
   "cell_type": "code",
   "execution_count": 15,
   "metadata": {},
   "outputs": [
    {
     "data": {
      "text/html": [
       "<div>\n",
       "<style scoped>\n",
       "    .dataframe tbody tr th:only-of-type {\n",
       "        vertical-align: middle;\n",
       "    }\n",
       "\n",
       "    .dataframe tbody tr th {\n",
       "        vertical-align: top;\n",
       "    }\n",
       "\n",
       "    .dataframe thead th {\n",
       "        text-align: right;\n",
       "    }\n",
       "</style>\n",
       "<table border=\"1\" class=\"dataframe\">\n",
       "  <thead>\n",
       "    <tr style=\"text-align: right;\">\n",
       "      <th></th>\n",
       "      <th>activated_features</th>\n",
       "      <th>pred</th>\n",
       "    </tr>\n",
       "  </thead>\n",
       "  <tbody>\n",
       "    <tr>\n",
       "      <th>0</th>\n",
       "      <td>[complexity_of_intents=complex, safety_concern...</td>\n",
       "      <td>0.780752</td>\n",
       "    </tr>\n",
       "    <tr>\n",
       "      <th>1</th>\n",
       "      <td>[complexity_of_intents=complex, format_constra...</td>\n",
       "      <td>0.774561</td>\n",
       "    </tr>\n",
       "    <tr>\n",
       "      <th>2</th>\n",
       "      <td>[complexity_of_intents=complex, safety_concern...</td>\n",
       "      <td>0.769075</td>\n",
       "    </tr>\n",
       "    <tr>\n",
       "      <th>3</th>\n",
       "      <td>[complexity_of_intents=simple, languages=Engli...</td>\n",
       "      <td>0.767113</td>\n",
       "    </tr>\n",
       "    <tr>\n",
       "      <th>4</th>\n",
       "      <td>[complexity_of_intents=simple, safety_concern=...</td>\n",
       "      <td>0.764810</td>\n",
       "    </tr>\n",
       "    <tr>\n",
       "      <th>5</th>\n",
       "      <td>[complexity_of_intents=simple, format_constrai...</td>\n",
       "      <td>0.762472</td>\n",
       "    </tr>\n",
       "    <tr>\n",
       "      <th>6</th>\n",
       "      <td>[complexity_of_intents=complex, languages=Engl...</td>\n",
       "      <td>0.759702</td>\n",
       "    </tr>\n",
       "    <tr>\n",
       "      <th>7</th>\n",
       "      <td>[complexity_of_intents=complex, languages=Engl...</td>\n",
       "      <td>0.759702</td>\n",
       "    </tr>\n",
       "    <tr>\n",
       "      <th>8</th>\n",
       "      <td>[complexity_of_intents=complex, languages=Engl...</td>\n",
       "      <td>0.759702</td>\n",
       "    </tr>\n",
       "    <tr>\n",
       "      <th>9</th>\n",
       "      <td>[complexity_of_intents=simple, languages=Engli...</td>\n",
       "      <td>0.759199</td>\n",
       "    </tr>\n",
       "    <tr>\n",
       "      <th>10</th>\n",
       "      <td>[complexity_of_intents=complex]</td>\n",
       "      <td>0.757156</td>\n",
       "    </tr>\n",
       "    <tr>\n",
       "      <th>11</th>\n",
       "      <td>[complexity_of_intents=complex]</td>\n",
       "      <td>0.757156</td>\n",
       "    </tr>\n",
       "    <tr>\n",
       "      <th>12</th>\n",
       "      <td>[complexity_of_intents=complex]</td>\n",
       "      <td>0.757156</td>\n",
       "    </tr>\n",
       "    <tr>\n",
       "      <th>13</th>\n",
       "      <td>[complexity_of_intents=complex]</td>\n",
       "      <td>0.757156</td>\n",
       "    </tr>\n",
       "    <tr>\n",
       "      <th>14</th>\n",
       "      <td>[complexity_of_intents=complex]</td>\n",
       "      <td>0.757156</td>\n",
       "    </tr>\n",
       "    <tr>\n",
       "      <th>15</th>\n",
       "      <td>[complexity_of_intents=complex]</td>\n",
       "      <td>0.757156</td>\n",
       "    </tr>\n",
       "    <tr>\n",
       "      <th>16</th>\n",
       "      <td>[complexity_of_intents=complex]</td>\n",
       "      <td>0.757156</td>\n",
       "    </tr>\n",
       "    <tr>\n",
       "      <th>17</th>\n",
       "      <td>[complexity_of_intents=simple, languages=Engli...</td>\n",
       "      <td>0.756987</td>\n",
       "    </tr>\n",
       "    <tr>\n",
       "      <th>18</th>\n",
       "      <td>[complexity_of_intents=complex, cosine_sim__mi...</td>\n",
       "      <td>0.756416</td>\n",
       "    </tr>\n",
       "    <tr>\n",
       "      <th>19</th>\n",
       "      <td>[bertscore__min_val=0.67|max_val=1.0, complexi...</td>\n",
       "      <td>0.756288</td>\n",
       "    </tr>\n",
       "  </tbody>\n",
       "</table>\n",
       "</div>"
      ],
      "text/plain": [
       "                                   activated_features      pred\n",
       "0   [complexity_of_intents=complex, safety_concern...  0.780752\n",
       "1   [complexity_of_intents=complex, format_constra...  0.774561\n",
       "2   [complexity_of_intents=complex, safety_concern...  0.769075\n",
       "3   [complexity_of_intents=simple, languages=Engli...  0.767113\n",
       "4   [complexity_of_intents=simple, safety_concern=...  0.764810\n",
       "5   [complexity_of_intents=simple, format_constrai...  0.762472\n",
       "6   [complexity_of_intents=complex, languages=Engl...  0.759702\n",
       "7   [complexity_of_intents=complex, languages=Engl...  0.759702\n",
       "8   [complexity_of_intents=complex, languages=Engl...  0.759702\n",
       "9   [complexity_of_intents=simple, languages=Engli...  0.759199\n",
       "10                    [complexity_of_intents=complex]  0.757156\n",
       "11                    [complexity_of_intents=complex]  0.757156\n",
       "12                    [complexity_of_intents=complex]  0.757156\n",
       "13                    [complexity_of_intents=complex]  0.757156\n",
       "14                    [complexity_of_intents=complex]  0.757156\n",
       "15                    [complexity_of_intents=complex]  0.757156\n",
       "16                    [complexity_of_intents=complex]  0.757156\n",
       "17  [complexity_of_intents=simple, languages=Engli...  0.756987\n",
       "18  [complexity_of_intents=complex, cosine_sim__mi...  0.756416\n",
       "19  [bertscore__min_val=0.67|max_val=1.0, complexi...  0.756288"
      ]
     },
     "execution_count": 15,
     "metadata": {},
     "output_type": "execute_result"
    }
   ],
   "source": [
    "sim_results = sim_df.copy(deep=True)\n",
    "sim_results[\"activated_features\"] = sim_results.apply(\n",
    "    lambda row: [col for col in sim_results.columns if row[col] != 0], axis=1\n",
    ")\n",
    "sim_results[\"pred\"] = model.predict(sim_df)\n",
    "sim_results = sim_results.sort_values(by=\"pred\", ascending=False).reset_index(drop=True)\n",
    "sim_results[[\"activated_features\", \"pred\"]].head(20)"
   ]
  },
  {
   "cell_type": "code",
   "execution_count": 25,
   "metadata": {},
   "outputs": [
    {
     "name": "stdout",
     "output_type": "stream",
     "text": [
      "[['complexity_of_intents=complex', 'safety_concern=moderate', 'subject_of_expertise=Agriculture'], ['complexity_of_intents=complex', 'format_constraints=1', 'safety_concern=safe', 'subject_of_expertise=Agriculture', 'type_of_in_context_material=1'], ['complexity_of_intents=complex', 'safety_concern=safe', 'type_of_in_context_material=1'], ['complexity_of_intents=simple', 'languages=English', 'subject_of_expertise=Agriculture'], ['complexity_of_intents=simple', 'safety_concern=safe', 'type_of_in_context_material=1'], ['complexity_of_intents=simple', 'format_constraints=1', 'languages=English', 'safety_concern=safe', 'subject_of_expertise=Agriculture'], ['complexity_of_intents=complex', 'languages=English', 'safety_concern=safe', 'type_of_in_context_material=1'], ['complexity_of_intents=complex', 'languages=English', 'safety_concern=safe', 'type_of_in_context_material=1'], ['complexity_of_intents=complex', 'languages=English', 'safety_concern=safe', 'type_of_in_context_material=1'], ['complexity_of_intents=simple', 'languages=English', 'subject_of_expertise=Geography'], ['complexity_of_intents=complex'], ['complexity_of_intents=complex'], ['complexity_of_intents=complex'], ['complexity_of_intents=complex'], ['complexity_of_intents=complex'], ['complexity_of_intents=complex'], ['complexity_of_intents=complex'], ['complexity_of_intents=simple', 'languages=English', 'safety_concern=safe'], ['complexity_of_intents=complex', 'cosine_sim__min_val=0.67|max_val=1.0', 'entity_sim__min_val=0.0|max_val=0.33', 'len_shorter__min_val=0.67|max_val=1.0'], ['bertscore__min_val=0.67|max_val=1.0', 'complexity_of_intents=complex'], ['complexity_of_intents=complex', 'type_of_in_context_material=1'], ['complexity_of_intents=complex', 'type_of_in_context_material=1'], ['complexity_of_intents=complex', 'type_of_in_context_material=1'], ['complexity_of_intents=complex', 'type_of_in_context_material=1'], ['complexity_of_intents=complex', 'safety_concern=moderate', 'type_of_in_context_material=1'], ['complexity_of_intents=complex', 'type_of_in_context_material=1'], ['complexity_of_intents=complex', 'type_of_in_context_material=1'], ['complexity_of_intents=simple', 'languages=English', 'safety_concern=safe', 'type_of_in_context_material=1'], ['complexity_of_intents=simple', 'languages=English', 'safety_concern=safe', 'type_of_in_context_material=1'], ['languages=English', 'safety_concern=safe', 'subject_of_expertise=Agriculture'], ['complexity_of_intents=complex', 'entity_sim__min_val=0.0|max_val=0.33', 'prompt_len__min_val=0.67|max_val=1.0'], ['complexity_of_intents=simple', 'format_constraints=1', 'languages=English', 'safety_concern=safe', 'subject_of_expertise=Geography', 'type_of_in_context_material=1'], ['complexity_of_intents=simple', 'safety_concern=moderate'], ['complexity_of_intents=simple'], ['complexity_of_intents=simple'], ['complexity_of_intents=simple'], ['complexity_of_intents=simple'], ['complexity_of_intents=simple'], ['complexity_of_intents=simple'], ['complexity_of_intents=simple'], ['complexity_of_intents=simple'], ['complexity_of_intents=simple'], ['complexity_of_intents=simple'], ['complexity_of_intents=simple'], ['complexity_of_intents=simple'], ['complexity_of_intents=complex', 'format_constraints=1', 'safety_concern=safe'], ['complexity_of_intents=complex', 'cosine_sim__min_val=0.67|max_val=1.0', 'rouge__min_val=0.33|max_val=0.67'], ['complexity_of_intents=simple', 'type_of_in_context_material=1'], ['complexity_of_intents=simple', 'safety_concern=moderate', 'type_of_in_context_material=1'], ['complexity_of_intents=simple', 'type_of_in_context_material=1'], ['complexity_of_intents=simple', 'type_of_in_context_material=1'], ['subject_of_expertise=Agriculture'], ['complexity_of_intents=simple', 'cosine_sim__min_val=0.67|max_val=1.0', 'len_shorter__min_val=0.67|max_val=1.0'], ['subject_of_expertise=Agriculture', 'type_of_in_context_material=1'], ['complexity_of_intents=simple', 'format_constraints=1', 'safety_concern=safe'], ['complexity_of_intents=simple', 'format_constraints=1', 'safety_concern=safe'], ['complexity_of_intents=simple', 'rouge__min_val=0.33|max_val=0.67'], ['complexity_of_intents=complex', 'languages=English'], ['complexity_of_intents=complex', 'languages=English'], ['complexity_of_intents=complex', 'languages=English'], ['complexity_of_intents=complex', 'languages=English'], ['complexity_of_intents=simple', 'format_constraints=1', 'safety_concern=safe', 'type_of_in_context_material=1'], ['complexity_of_intents=simple', 'format_constraints=1', 'safety_concern=safe', 'type_of_in_context_material=1'], ['complexity_of_intents=simple', 'format_constraints=1', 'safety_concern=safe', 'type_of_in_context_material=1'], ['complexity_of_intents=simple', 'format_constraints=1', 'safety_concern=safe', 'type_of_in_context_material=1'], ['complexity_of_intents=complex', 'languages=English', 'safety_concern=moderate', 'type_of_in_context_material=1'], ['complexity_of_intents=complex', 'languages=English', 'safety_concern=moderate', 'type_of_in_context_material=1'], ['complexity_of_intents=simple', 'prompt_len__min_val=0.67|max_val=1.0'], ['complexity_of_intents=complex', 'cosine_sim__min_val=0.67|max_val=1.0', 'entity_sim__min_val=0.67|max_val=1.0', 'safety_concern=safe'], ['complexity_of_intents=complex', 'format_constraints=1', 'languages=English', 'subject_of_expertise=Geography', 'type_of_in_context_material=1'], ['bertscore_length__min_val=0.33|max_val=0.67', 'complexity_of_intents=complex', 'cosine_sim__min_val=0.33|max_val=0.67'], ['complexity_of_intents=simple', 'languages=English', 'safety_concern=moderate'], ['complexity_of_intents=simple', 'languages=English'], ['complexity_of_intents=simple', 'languages=English'], ['complexity_of_intents=simple', 'languages=English'], ['complexity_of_intents=simple', 'languages=English'], ['complexity_of_intents=simple', 'languages=English'], ['complexity_of_intents=simple', 'languages=English'], ['bertscore__min_val=0.67|max_val=1.0', 'complexity_of_intents=simple', 'languages=English', 'safety_concern=moderate'], ['complexity_of_intents=simple', 'languages=English', 'type_of_in_context_material=1'], ['complexity_of_intents=simple', 'languages=English', 'type_of_in_context_material=1'], ['complexity_of_intents=simple', 'rouge__min_val=0.33|max_val=0.67', 'token_len_difference__min_val=0.0|max_val=0.33'], ['complexity_of_intents=complex', 'cosine_sim__min_val=0.67|max_val=1.0', 'len_shorter__min_val=0.67|max_val=1.0', 'prompt_len__min_val=0.67|max_val=1.0', 'rouge__min_val=0.33|max_val=0.67'], ['complexity_of_intents=complex', 'format_constraints=1', 'languages=English', 'safety_concern=safe', 'type_of_in_context_material=1'], ['complexity_of_intents=simple', 'cosine_sim__min_val=0.67|max_val=1.0', 'token_len_difference__min_val=0.67|max_val=1.0'], ['safety_concern=safe'], ['safety_concern=safe'], ['safety_concern=safe'], ['safety_concern=safe'], ['safety_concern=safe'], ['safety_concern=safe'], ['safety_concern=safe'], ['complexity_of_intents=complex', 'languages=English', 'prompt_len__min_val=0.67|max_val=1.0', 'type_of_in_context_material=1'], ['bertscore_length__min_val=0.33|max_val=0.67', 'complexity_of_intents=complex', 'prompt_len__min_val=0.67|max_val=1.0'], ['bertscore_length__min_val=0.0|max_val=0.33', 'complexity_of_intents=complex', 'cosine_sim__min_val=0.67|max_val=1.0'], ['complexity_of_intents=complex', 'format_constraints=1', 'safety_concern=moderate'], ['complexity_of_intents=complex', 'format_constraints=1'], ['complexity_of_intents=complex', 'format_constraints=1'], ['complexity_of_intents=complex', 'format_constraints=1'], ['bertscore__min_val=0.67|max_val=1.0', 'complexity_of_intents=simple', 'entity_sim__min_val=0.67|max_val=1.0', 'safety_concern=safe']]\n"
     ]
    }
   ],
   "source": [
    "top_n = 100\n",
    "human_score = 0.715\n",
    "better_than_humans = sim_results[sim_results[\"pred\"] > human_score]\n",
    "top_combinations = better_than_humans.activated_features.head(top_n).to_list()\n",
    "print(top_combinations)"
   ]
  },
  {
   "cell_type": "markdown",
   "metadata": {},
   "source": [
    "So now you have determined 10 feature combinations that seem to work well. The next step is to train RMs and evaluate them.\n"
   ]
  },
  {
   "cell_type": "code",
   "execution_count": 26,
   "metadata": {},
   "outputs": [],
   "source": [
    "from beaker import Beaker, ExperimentSpec\n",
    "from copy import deepcopy"
   ]
  },
  {
   "cell_type": "code",
   "execution_count": 28,
   "metadata": {},
   "outputs": [],
   "source": [
    "spec = ExperimentSpec.from_file(\"../../beaker/template.yml\")\n",
    "exp_spec = deepcopy(spec)\n",
    "template_task = exp_spec.tasks.pop(0)\n",
    "\n",
    "new_tasks = []\n",
    "for idx, combination in enumerate(top_combinations):\n",
    "    feats_to_run = []\n",
    "    for feat in combination:\n",
    "        if \"min_val\" in feat:\n",
    "            if \"token_len_difference\" in feat:\n",
    "                feat = feat.replace(\"difference\", \"diff\")\n",
    "            feats_to_run.append(feat.replace(\"__\", \"::\"))\n",
    "        else:\n",
    "            feat_name, value = feat.split(\"=\")\n",
    "            category = find_meta_category(feat_name)\n",
    "            if category == \"closed_set\":\n",
    "                key = \"constraints\"\n",
    "            elif category == \"scalar\":\n",
    "                key = \"value\"\n",
    "            elif category == \"open_set\":\n",
    "                key = \"check_for_existence\"\n",
    "            feats_to_run.append(f\"{category}::feature_name={feat_name}|{key}={value}\")\n",
    "    # Create beaker task\n",
    "    task = deepcopy(template_task)\n",
    "    task.name = f\"get-features-datamodel-{idx}\"\n",
    "    task.arguments.extend([\"--features\"] + feats_to_run)\n",
    "    new_tasks.append(task)\n",
    "\n",
    "exp_spec.tasks = new_tasks\n",
    "exp_spec.validate()\n",
    "exp_spec.to_file(\"experiments.yml\")"
   ]
  },
  {
   "cell_type": "markdown",
   "metadata": {},
   "source": [
    "Get finished jobs and download the subsets and create an `experiments.txt` file\n"
   ]
  },
  {
   "cell_type": "code",
   "execution_count": 47,
   "metadata": {},
   "outputs": [
    {
     "name": "stdout",
     "output_type": "stream",
     "text": [
      "['human_datamodel_7000_FEATS_c9b064281f0fb06d38fb8e20705fc40b_SWAPS_231::bertscore__min_val-0.67|max_val-1.0___bertscore_length__min_val-0.67|max_val-1.0___scalar__feature_name-complexity_of_intents|value-simple___cosine_sim__min_val-0.33|max_val-0.67___scalar__feature_name-open_endedness|value-no', 'human_datamodel_7000_FEATS_c9b064281f0fb06d38fb8e20705fc40b_SWAPS_231::bertscore__min_val-0.67|max_val-1.0___bertscore_length__min_val-0.67|max_val-1.0___scalar__feature_name-complexity_of_intents|value-simple___cosine_sim__min_val-0.33|max_val-0.67___scalar__feature_name-open_endedness|value-no', 'human_datamodel_7000_FEATS_c9b064281f0fb06d38fb8e20705fc40b_SWAPS_231::bertscore__min_val-0.67|max_val-1.0___bertscore_length__min_val-0.67|max_val-1.0___scalar__feature_name-complexity_of_intents|value-simple___cosine_sim__min_val-0.33|max_val-0.67___scalar__feature_name-open_endedness|value-no', 'human_datamodel_7000_FEATS_32a13a5118bd8537a4d61075e9facc63_SWAPS_250::scalar__feature_name-complexity_of_intents|value-moderate___open_set__feature_name-format_constraints|check_for_existence-1___scalar__feature_name-open_endedness|value-no___rouge__min_val-0.67|max_val-1.0___scalar__feature_name-safety_concern|value-safe', 'human_datamodel_7000_FEATS_32a13a5118bd8537a4d61075e9facc63_SWAPS_250::scalar__feature_name-complexity_of_intents|value-moderate___open_set__feature_name-format_constraints|check_for_existence-1___scalar__feature_name-open_endedness|value-no___rouge__min_val-0.67|max_val-1.0___scalar__feature_name-safety_concern|value-safe', 'human_datamodel_7000_FEATS_b5e32d9eccd05ee086323feff9feaa16_SWAPS_136::bertscore__min_val-0.67|max_val-1.0___cosine_sim__min_val-0.0|max_val-0.33___entity_sim__min_val-0.0|max_val-0.33___rouge__min_val-0.0|max_val-0.33___scalar__feature_name-safety_concern|value-safe', 'human_datamodel_7000_FEATS_db946b1f68dff23de8c911c1c5c6017a_SWAPS_1919::scalar__feature_name-complexity_of_intents|value-simple___cosine_sim__min_val-0.67|max_val-1.0___entity_sim__min_val-0.0|max_val-0.33___open_set__feature_name-format_constraints|check_for_existence-1___closed_set__feature_name-languages|constraints-English___scalar__feature_name-open_endedness|value-no___rouge__min_val-0.33|max_val-0.67', 'human_datamodel_7000_FEATS_db946b1f68dff23de8c911c1c5c6017a_SWAPS_1919::scalar__feature_name-complexity_of_intents|value-simple___cosine_sim__min_val-0.67|max_val-1.0___entity_sim__min_val-0.0|max_val-0.33___open_set__feature_name-format_constraints|check_for_existence-1___closed_set__feature_name-languages|constraints-English___scalar__feature_name-open_endedness|value-no___rouge__min_val-0.33|max_val-0.67', 'human_datamodel_7000_FEATS_db946b1f68dff23de8c911c1c5c6017a_SWAPS_1919::scalar__feature_name-complexity_of_intents|value-simple___cosine_sim__min_val-0.67|max_val-1.0___entity_sim__min_val-0.0|max_val-0.33___open_set__feature_name-format_constraints|check_for_existence-1___closed_set__feature_name-languages|constraints-English___scalar__feature_name-open_endedness|value-no___rouge__min_val-0.33|max_val-0.67', 'human_datamodel_7000_FEATS_db946b1f68dff23de8c911c1c5c6017a_SWAPS_1919::scalar__feature_name-complexity_of_intents|value-simple___cosine_sim__min_val-0.67|max_val-1.0___entity_sim__min_val-0.0|max_val-0.33___open_set__feature_name-format_constraints|check_for_existence-1___closed_set__feature_name-languages|constraints-English___scalar__feature_name-open_endedness|value-no___rouge__min_val-0.33|max_val-0.67', 'human_datamodel_7000_FEATS_db946b1f68dff23de8c911c1c5c6017a_SWAPS_1919::scalar__feature_name-complexity_of_intents|value-simple___cosine_sim__min_val-0.67|max_val-1.0___entity_sim__min_val-0.0|max_val-0.33___open_set__feature_name-format_constraints|check_for_existence-1___closed_set__feature_name-languages|constraints-English___scalar__feature_name-open_endedness|value-no___rouge__min_val-0.33|max_val-0.67', 'human_datamodel_7000_FEATS_4b2248ee1d571e1d8c60e96dce888a72_SWAPS_1202::scalar__feature_name-complexity_of_intents|value-moderate___entity_sim__min_val-0.0|max_val-0.33___open_set__feature_name-format_constraints|check_for_existence-1___closed_set__feature_name-languages|constraints-English___scalar__feature_name-open_endedness|value-no___rouge__min_val-0.0|max_val-0.33', 'human_datamodel_7000_FEATS_aef7e359e4d9f085d84696c7c26620b0_SWAPS_233::bertscore__min_val-0.67|max_val-1.0___cosine_sim__min_val-0.0|max_val-0.33___scalar__feature_name-open_endedness|value-no___rouge__min_val-0.0|max_val-0.33', 'human_datamodel_7000_FEATS_7661bbdf0419cbf0660be3904a4a8e21_SWAPS_245::bertscore__min_val-0.67|max_val-1.0___cosine_sim__min_val-0.0|max_val-0.33___open_set__feature_name-format_constraints|check_for_existence-1___scalar__feature_name-open_endedness|value-no', 'human_datamodel_7000_FEATS_56ab68bc1d3a750c12d65018df40a115_SWAPS_144::bertscore__min_val-0.33|max_val-0.67___scalar__feature_name-complexity_of_intents|value-moderate___cosine_sim__min_val-0.0|max_val-0.33___scalar__feature_name-safety_concern|value-safe', 'human_datamodel_7000_FEATS_d736dea78cd618a0d546dd7837701e7d_SWAPS_121::scalar__feature_name-complexity_of_intents|value-simple___cosine_sim__min_val-0.0|max_val-0.33___entity_sim__min_val-0.67|max_val-1.0___open_set__feature_name-format_constraints|check_for_existence-1___rouge__min_val-0.0|max_val-0.33___scalar__feature_name-safety_concern|value-safe', 'human_datamodel_7000_FEATS_d736dea78cd618a0d546dd7837701e7d_SWAPS_121::scalar__feature_name-complexity_of_intents|value-simple___cosine_sim__min_val-0.0|max_val-0.33___entity_sim__min_val-0.67|max_val-1.0___open_set__feature_name-format_constraints|check_for_existence-1___rouge__min_val-0.0|max_val-0.33___scalar__feature_name-safety_concern|value-safe', 'human_datamodel_7000_FEATS_52da8a8626fcdd26de2aaeff51581f43_SWAPS_17::bertscore__min_val-0.67|max_val-1.0___cosine_sim__min_val-0.0|max_val-0.33___entity_sim__min_val-0.0|max_val-0.33___open_set__feature_name-format_constraints|check_for_existence-1___closed_set__feature_name-languages|constraints-English___rouge__min_val-0.33|max_val-0.67___scalar__feature_name-safety_concern|value-safe', 'human_datamodel_7000_FEATS_d46612b64ef3ccc36af13bbbd6f6c424_SWAPS_231::scalar__feature_name-complexity_of_intents|value-simple___cosine_sim__min_val-0.67|max_val-1.0___rouge__min_val-0.67|max_val-1.0___scalar__feature_name-safety_concern|value-safe', 'human_datamodel_7000_FEATS_c9b064281f0fb06d38fb8e20705fc40b_SWAPS_231::bertscore__min_val-0.67|max_val-1.0___bertscore_length__min_val-0.67|max_val-1.0___scalar__feature_name-complexity_of_intents|value-simple___cosine_sim__min_val-0.33|max_val-0.67___scalar__feature_name-open_endedness|value-no']\n"
     ]
    }
   ],
   "source": [
    "# experiment_id = \"01J6TS47Q2KNKYRCYHC8A0DE4B\"\n",
    "experiment_id = \"01J6WDKDPQCM92REXJ1VCNJ0NW\"\n",
    "top_subsets_dir = Path(\"top_n_subsets\")\n",
    "top_subsets_dir.mkdir(parents=True, exist_ok=True)\n",
    "experiments_file = top_subsets_dir / \"top_n_subsets_experiments.txt\"\n",
    "beaker = Beaker.from_env(\"ai2/ljm-oe-adapt\")\n",
    "experiment = beaker.experiment.get(experiment_id)\n",
    "\n",
    "experiment_ids = []\n",
    "for job in experiment.jobs:\n",
    "    if job.is_done:\n",
    "        # Get output\n",
    "        dataset_id = job.execution.result.beaker\n",
    "        beaker.dataset.fetch(\n",
    "            dataset_id,\n",
    "            force=True,\n",
    "            target=top_subsets_dir,\n",
    "            prefix=\"data/\",\n",
    "            quiet=True,\n",
    "        )\n",
    "\n",
    "        beaker.dataset.fetch(\n",
    "            dataset_id,\n",
    "            force=True,\n",
    "            target=top_subsets_dir,\n",
    "            prefix=\"experiments.txt\",\n",
    "            quiet=True,\n",
    "        )\n",
    "\n",
    "        with open(top_subsets_dir / \"experiments.txt\", \"r\") as f:\n",
    "            data = f.read().splitlines()\n",
    "            id = data[0]\n",
    "            experiment_ids.append(id)\n",
    "\n",
    "print(experiment_ids)\n",
    "with open(experiments_file, \"a\") as f:\n",
    "    for id in set(experiment_ids):\n",
    "        f.write(id + \"\\n\")"
   ]
  },
  {
   "cell_type": "code",
   "execution_count": 46,
   "metadata": {},
   "outputs": [
    {
     "data": {
      "text/plain": [
       "11"
      ]
     },
     "execution_count": 46,
     "metadata": {},
     "output_type": "execute_result"
    }
   ],
   "source": [
    "len(set(experiment_ids))"
   ]
  },
  {
   "cell_type": "code",
   "execution_count": null,
   "metadata": {},
   "outputs": [],
   "source": []
  }
 ],
 "metadata": {
  "kernelspec": {
   "display_name": "venv",
   "language": "python",
   "name": "python3"
  },
  "language_info": {
   "codemirror_mode": {
    "name": "ipython",
    "version": 3
   },
   "file_extension": ".py",
   "mimetype": "text/x-python",
   "name": "python",
   "nbconvert_exporter": "python",
   "pygments_lexer": "ipython3",
   "version": "3.11.6"
  }
 },
 "nbformat": 4,
 "nbformat_minor": 2
}

{
 "cells": [
  {
   "cell_type": "code",
   "execution_count": 1,
   "metadata": {},
   "outputs": [],
   "source": [
    "import sys\n",
    "\n",
    "sys.path.append(\"../../\")\n",
    "\n",
    "%load_ext autoreload\n",
    "%autoreload 2"
   ]
  },
  {
   "cell_type": "code",
   "execution_count": 62,
   "metadata": {},
   "outputs": [],
   "source": [
    "import lightgbm as lgb\n",
    "import numpy as np\n",
    "import pandas as pd\n",
    "from ast import literal_eval\n",
    "from pathlib import Path\n",
    "from functools import reduce\n",
    "from tqdm import tqdm_notebook\n",
    "\n",
    "from src.utils import find_meta_category\n",
    "from src.feature_extractor import sample_feature_combinations"
   ]
  },
  {
   "cell_type": "markdown",
   "metadata": {},
   "source": [
    "## Download prerequisite files\n",
    "\n",
    "Fetch all the results and feature values\n"
   ]
  },
  {
   "cell_type": "code",
   "execution_count": 64,
   "metadata": {},
   "outputs": [
    {
     "name": "stdout",
     "output_type": "stream",
     "text": [
      "Fetching experiments list...\n",
      "Fetching extracted features...\n",
      "mkdir: features/: File exists\n",
      "Fetching helpsteer2 dataset...\n",
      "Downloading dataset \u001b[36m01J6KBM2VCM9EQ7MER26VBXCCM\u001b[0m to \u001b[32m.\u001b[0m\n",
      "Files: 0          ⠋  \n",
      "Bytes: 0 B        ⠋  \n",
      "\u001b[2A\u001b[JFiles: 1          ⠙  \n",
      "Bytes: 70.58 MiB  ⠙  \n",
      "\u001b[2A\u001b[JFiles: 1          ✔  \n",
      "Bytes: 70.58 MiB  ✔  \n",
      "Completed in 200ms: 306 MiB/s, 4 files/s\n",
      "Fetching extracted subsets...\n",
      "Collating all evaluation results\n",
      "2024-09-04 10:55:06 - INFO - root - Logged-in as ljm (ljm@allenai.org)\n",
      "2024-09-04 10:55:07 - INFO - root - Found 291 experiments that match 'rm-eval-helpsteer2'\n"
     ]
    },
    {
     "name": "stderr",
     "output_type": "stream",
     "text": [
      "100%|██████████| 291/291 [00:38<00:00,  7.59it/s]"
     ]
    },
    {
     "name": "stdout",
     "output_type": "stream",
     "text": [
      "2024-09-04 10:55:46 - INFO - root - Computing category scores...\n",
      "2024-09-04 10:55:46 - INFO - root - Deriving features from the experiments file: experiments.txt\n",
      "2024-09-04 10:55:46 - INFO - root - Will attempt merge via feature hash\n",
      "2024-09-04 10:55:46 - INFO - root - Creating labels in column 'label' with GPT-4 threshold '0.658'\n",
      "2024-09-04 10:55:46 - INFO - root - Saving 128 results to results.csv\n",
      "2024-09-04 10:55:46 - INFO - root - Saved on results.csv\n"
     ]
    },
    {
     "name": "stderr",
     "output_type": "stream",
     "text": [
      "\n"
     ]
    }
   ],
   "source": [
    "skip_download = True\n",
    "if not skip_download:\n",
    "# You can get the experiments file here: 01J6KF3JRCATRJQ9CPJTRV5VBM (https://beaker.org/ds/01J6KF3JRCATRJQ9CPJTRV5VBM/details)\n",
    "    !echo \"Fetching experiments list...\"\n",
    "    !beaker dataset fetch 01J6KF3JRCATRJQ9CPJTRV5VBM --prefix experiments.txt -q\n",
    "    !echo \"Fetching extracted features...\"\n",
    "    !mkdir -p features/\n",
    "    !beaker dataset fetch 01J6KF3JRCATRJQ9CPJTRV5VBM --prefix features/ -q\n",
    "    #!beaker dataset fetch 01J6KFVCRCTYHCZDR0XNK0G9HT --prefix features/\n",
    "    !echo \"Fetching helpsteer2 dataset...\"\n",
    "    !beaker dataset fetch 01J6KBM2VCM9EQ7MER26VBXCCM\n",
    "    !echo \"Fetching extracted subsets... (this will take ~10 minutes)\"\n",
    "    !beaker dataset fetch 01J6KF3JRCATRJQ9CPJTRV5VBM --prefix data/ -q\n",
    "    \n",
    "!echo \"Collating all evaluation results\"\n",
    "%run ../../scripts/fetch_evals_rewardbench.py --output_file results.csv --gpt4_threshold_score 0.658 --experiment_prefix rm-eval-helpsteer2 --experiments_file experiments.txt"
   ]
  },
  {
   "cell_type": "code",
   "execution_count": 42,
   "metadata": {},
   "outputs": [
    {
     "name": "stdout",
     "output_type": "stream",
     "text": [
      "     253\n"
     ]
    }
   ],
   "source": [
    "!ls data | wc -l"
   ]
  },
  {
   "cell_type": "markdown",
   "metadata": {},
   "source": [
    "Collate feature set for all instances\n"
   ]
  },
  {
   "cell_type": "code",
   "execution_count": 43,
   "metadata": {},
   "outputs": [],
   "source": [
    "LEXICAL_FEATS_PATH = Path(\"features\")\n",
    "DATASET_PATH = Path(\"helpsteer2_human_vs_gpt4_weighted_for_llama.jsonl\")\n",
    "\n",
    "\n",
    "def get_dataset_features(\n",
    "    feature_path=LEXICAL_FEATS_PATH, dataset_path=DATASET_PATH\n",
    ") -> \"pd.DataFrame\":\n",
    "    lexical_features = [\n",
    "        \"rouge\",\n",
    "        \"bertscore\",\n",
    "        \"bertscore_length\",\n",
    "        \"entity_sim\",\n",
    "        \"cosine_sim\",\n",
    "        \"prompt_len\",\n",
    "        \"len_longer\",\n",
    "        \"len_shorter\",\n",
    "        \"token_len_difference\",\n",
    "    ]\n",
    "    lexical_feature_files = [\n",
    "        file\n",
    "        for file in feature_path.glob(\"*.jsonl\")\n",
    "        if any(file.stem in feat for feat in lexical_features)\n",
    "    ]\n",
    "    lexical_feats_df = reduce(\n",
    "        lambda left, right: left.merge(\n",
    "            right, on=[\"id\", \"prompt\", \"completion_a\", \"completion_b\"], how=\"outer\"\n",
    "        ),\n",
    "        [pd.read_json(file, lines=True) for file in lexical_feature_files],\n",
    "    )\n",
    "\n",
    "    df = pd.read_json(dataset_path, lines=True).rename(columns={\"prompt_hash\": \"id\"})\n",
    "    finaldf = df.merge(lexical_feats_df, how=\"left\", on=\"id\").drop(\n",
    "        columns=[\"prompt\", \"completion_a\", \"completion_b\"]\n",
    "    )\n",
    "\n",
    "    # Hacky way for token_len_difference\n",
    "    finaldf = finaldf.rename(columns={\"token_len_diff\": \"token_len_difference\"})\n",
    "    return finaldf"
   ]
  },
  {
   "cell_type": "code",
   "execution_count": 48,
   "metadata": {},
   "outputs": [],
   "source": [
    "results_df = pd.read_csv(\"results.csv\").dropna()\n",
    "features_df = get_dataset_features()\n",
    "features_df.to_csv(\"helpsteer2_all_features.csv\", index=False)\n",
    "# print(len(results_df)), print(len(features_df))"
   ]
  },
  {
   "cell_type": "markdown",
   "metadata": {},
   "source": [
    "This dataframe contains the features for instances in the dataset\n"
   ]
  },
  {
   "cell_type": "code",
   "execution_count": 46,
   "metadata": {},
   "outputs": [
    {
     "data": {
      "text/html": [
       "<div>\n",
       "<style scoped>\n",
       "    .dataframe tbody tr th:only-of-type {\n",
       "        vertical-align: middle;\n",
       "    }\n",
       "\n",
       "    .dataframe tbody tr th {\n",
       "        vertical-align: top;\n",
       "    }\n",
       "\n",
       "    .dataframe thead th {\n",
       "        text-align: right;\n",
       "    }\n",
       "</style>\n",
       "<table border=\"1\" class=\"dataframe\">\n",
       "  <thead>\n",
       "    <tr style=\"text-align: right;\">\n",
       "      <th></th>\n",
       "      <th>id</th>\n",
       "      <th>text</th>\n",
       "      <th>response_a</th>\n",
       "      <th>response_b</th>\n",
       "      <th>pref_human</th>\n",
       "      <th>pref_gpt4</th>\n",
       "      <th>rating_human</th>\n",
       "      <th>rating_gpt4</th>\n",
       "      <th>completions</th>\n",
       "      <th>subject_of_expertise</th>\n",
       "      <th>...</th>\n",
       "      <th>format_constraints</th>\n",
       "      <th>cosine_sim</th>\n",
       "      <th>token_len_difference</th>\n",
       "      <th>rouge</th>\n",
       "      <th>bertscore</th>\n",
       "      <th>len_longer</th>\n",
       "      <th>prompt_len</th>\n",
       "      <th>bertscore_length</th>\n",
       "      <th>len_shorter</th>\n",
       "      <th>entity_sim</th>\n",
       "    </tr>\n",
       "  </thead>\n",
       "  <tbody>\n",
       "    <tr>\n",
       "      <th>0</th>\n",
       "      <td>000be890ad02c46a3554c77f098f151f</td>\n",
       "      <td>In what ways can researching something be help...</td>\n",
       "      <td>Engaging in research is a valuable endeavor th...</td>\n",
       "      <td>There are several reasons why doing research c...</td>\n",
       "      <td>B-is-clearly-better</td>\n",
       "      <td>A-is-clearly-better</td>\n",
       "      <td>[2.83, 6.28]</td>\n",
       "      <td>[6.09, 5.98]</td>\n",
       "      <td>[Engaging in research is a valuable endeavor t...</td>\n",
       "      <td>[Education, Psychology]</td>\n",
       "      <td>...</td>\n",
       "      <td>[#words &lt;= 200, style = formal]</td>\n",
       "      <td>0.709485</td>\n",
       "      <td>166</td>\n",
       "      <td>0.328704</td>\n",
       "      <td>0.799727</td>\n",
       "      <td>376</td>\n",
       "      <td>25</td>\n",
       "      <td>0.435609</td>\n",
       "      <td>210</td>\n",
       "      <td>1.000000</td>\n",
       "    </tr>\n",
       "    <tr>\n",
       "      <th>1</th>\n",
       "      <td>001458ba4f2925f2bc6ae9d8d197d543</td>\n",
       "      <td>Write an inspiring song about alena wicker for...</td>\n",
       "      <td>Here's a song inspired by Alena Wicker, a youn...</td>\n",
       "      <td>Here's an inspiring song about Alena Wicker fo...</td>\n",
       "      <td>B-is-clearly-better</td>\n",
       "      <td>B-is-clearly-better</td>\n",
       "      <td>[3.73, 4.77]</td>\n",
       "      <td>[1.59, 2.25]</td>\n",
       "      <td>[Here's a song inspired by Alena Wicker, a you...</td>\n",
       "      <td>[Performing arts]</td>\n",
       "      <td>...</td>\n",
       "      <td>[content = sone, style = inspiring, include: t...</td>\n",
       "      <td>0.844983</td>\n",
       "      <td>61</td>\n",
       "      <td>0.463866</td>\n",
       "      <td>0.842092</td>\n",
       "      <td>503</td>\n",
       "      <td>44</td>\n",
       "      <td>0.724686</td>\n",
       "      <td>442</td>\n",
       "      <td>0.333333</td>\n",
       "    </tr>\n",
       "    <tr>\n",
       "      <th>2</th>\n",
       "      <td>0014db4cd30cad106320d9043f45d607</td>\n",
       "      <td>Hi! I am a Hypnotist and transformational / mi...</td>\n",
       "      <td>They want a solution to their problems. They w...</td>\n",
       "      <td>They want a solution to lead a more fulfilling...</td>\n",
       "      <td>B-is-clearly-better</td>\n",
       "      <td>A-is-clearly-better</td>\n",
       "      <td>[4.77, 5.95]</td>\n",
       "      <td>[5.87, 5.62]</td>\n",
       "      <td>[They want a solution to their problems. They ...</td>\n",
       "      <td>[Business, Psychology]</td>\n",
       "      <td>...</td>\n",
       "      <td>[]</td>\n",
       "      <td>0.508719</td>\n",
       "      <td>424</td>\n",
       "      <td>0.150259</td>\n",
       "      <td>0.772617</td>\n",
       "      <td>480</td>\n",
       "      <td>209</td>\n",
       "      <td>0.000456</td>\n",
       "      <td>56</td>\n",
       "      <td>0.000000</td>\n",
       "    </tr>\n",
       "    <tr>\n",
       "      <th>3</th>\n",
       "      <td>003af4a043a0cb2186bc448a290d35f6</td>\n",
       "      <td>Australian Defence Force Military Police membe...</td>\n",
       "      <td>Yes, members of the Australian Defence Force M...</td>\n",
       "      <td>Yes, members of the Australian Defence Force M...</td>\n",
       "      <td>Tie</td>\n",
       "      <td>B-is-clearly-better</td>\n",
       "      <td>[6.28, 6.28]</td>\n",
       "      <td>[5.62, 6.09]</td>\n",
       "      <td>[Yes, members of the Australian Defence Force ...</td>\n",
       "      <td>[Military sciences, Law]</td>\n",
       "      <td>...</td>\n",
       "      <td>[]</td>\n",
       "      <td>0.872330</td>\n",
       "      <td>121</td>\n",
       "      <td>0.510121</td>\n",
       "      <td>0.881362</td>\n",
       "      <td>217</td>\n",
       "      <td>30</td>\n",
       "      <td>0.268603</td>\n",
       "      <td>96</td>\n",
       "      <td>0.500000</td>\n",
       "    </tr>\n",
       "    <tr>\n",
       "      <th>4</th>\n",
       "      <td>003dd8aa40b027ae755e47917c89c0a3</td>\n",
       "      <td>Heather: I want to attend the music festival t...</td>\n",
       "      <td>It is unclear if all girls have enough money t...</td>\n",
       "      <td>Yes\\n\\nBoth Heather and Kara state that they h...</td>\n",
       "      <td>A-is-clearly-better</td>\n",
       "      <td>A-is-clearly-better</td>\n",
       "      <td>[6.14, 3.02]</td>\n",
       "      <td>[5.13, 0.64]</td>\n",
       "      <td>[It is unclear if all girls have enough money ...</td>\n",
       "      <td>[Performing arts, Economics]</td>\n",
       "      <td>...</td>\n",
       "      <td>[]</td>\n",
       "      <td>0.839198</td>\n",
       "      <td>16</td>\n",
       "      <td>0.474227</td>\n",
       "      <td>0.866347</td>\n",
       "      <td>68</td>\n",
       "      <td>107</td>\n",
       "      <td>0.671132</td>\n",
       "      <td>52</td>\n",
       "      <td>0.600000</td>\n",
       "    </tr>\n",
       "  </tbody>\n",
       "</table>\n",
       "<p>5 rows × 26 columns</p>\n",
       "</div>"
      ],
      "text/plain": [
       "                                 id  \\\n",
       "0  000be890ad02c46a3554c77f098f151f   \n",
       "1  001458ba4f2925f2bc6ae9d8d197d543   \n",
       "2  0014db4cd30cad106320d9043f45d607   \n",
       "3  003af4a043a0cb2186bc448a290d35f6   \n",
       "4  003dd8aa40b027ae755e47917c89c0a3   \n",
       "\n",
       "                                                text  \\\n",
       "0  In what ways can researching something be help...   \n",
       "1  Write an inspiring song about alena wicker for...   \n",
       "2  Hi! I am a Hypnotist and transformational / mi...   \n",
       "3  Australian Defence Force Military Police membe...   \n",
       "4  Heather: I want to attend the music festival t...   \n",
       "\n",
       "                                          response_a  \\\n",
       "0  Engaging in research is a valuable endeavor th...   \n",
       "1  Here's a song inspired by Alena Wicker, a youn...   \n",
       "2  They want a solution to their problems. They w...   \n",
       "3  Yes, members of the Australian Defence Force M...   \n",
       "4  It is unclear if all girls have enough money t...   \n",
       "\n",
       "                                          response_b           pref_human  \\\n",
       "0  There are several reasons why doing research c...  B-is-clearly-better   \n",
       "1  Here's an inspiring song about Alena Wicker fo...  B-is-clearly-better   \n",
       "2  They want a solution to lead a more fulfilling...  B-is-clearly-better   \n",
       "3  Yes, members of the Australian Defence Force M...                  Tie   \n",
       "4  Yes\\n\\nBoth Heather and Kara state that they h...  A-is-clearly-better   \n",
       "\n",
       "             pref_gpt4  rating_human   rating_gpt4  \\\n",
       "0  A-is-clearly-better  [2.83, 6.28]  [6.09, 5.98]   \n",
       "1  B-is-clearly-better  [3.73, 4.77]  [1.59, 2.25]   \n",
       "2  A-is-clearly-better  [4.77, 5.95]  [5.87, 5.62]   \n",
       "3  B-is-clearly-better  [6.28, 6.28]  [5.62, 6.09]   \n",
       "4  A-is-clearly-better  [6.14, 3.02]  [5.13, 0.64]   \n",
       "\n",
       "                                         completions  \\\n",
       "0  [Engaging in research is a valuable endeavor t...   \n",
       "1  [Here's a song inspired by Alena Wicker, a you...   \n",
       "2  [They want a solution to their problems. They ...   \n",
       "3  [Yes, members of the Australian Defence Force ...   \n",
       "4  [It is unclear if all girls have enough money ...   \n",
       "\n",
       "           subject_of_expertise  ...  \\\n",
       "0       [Education, Psychology]  ...   \n",
       "1             [Performing arts]  ...   \n",
       "2        [Business, Psychology]  ...   \n",
       "3      [Military sciences, Law]  ...   \n",
       "4  [Performing arts, Economics]  ...   \n",
       "\n",
       "                                  format_constraints cosine_sim  \\\n",
       "0                    [#words <= 200, style = formal]   0.709485   \n",
       "1  [content = sone, style = inspiring, include: t...   0.844983   \n",
       "2                                                 []   0.508719   \n",
       "3                                                 []   0.872330   \n",
       "4                                                 []   0.839198   \n",
       "\n",
       "  token_len_difference     rouge bertscore len_longer prompt_len  \\\n",
       "0                  166  0.328704  0.799727        376         25   \n",
       "1                   61  0.463866  0.842092        503         44   \n",
       "2                  424  0.150259  0.772617        480        209   \n",
       "3                  121  0.510121  0.881362        217         30   \n",
       "4                   16  0.474227  0.866347         68        107   \n",
       "\n",
       "   bertscore_length  len_shorter  entity_sim  \n",
       "0          0.435609          210    1.000000  \n",
       "1          0.724686          442    0.333333  \n",
       "2          0.000456           56    0.000000  \n",
       "3          0.268603           96    0.500000  \n",
       "4          0.671132           52    0.600000  \n",
       "\n",
       "[5 rows x 26 columns]"
      ]
     },
     "execution_count": 46,
     "metadata": {},
     "output_type": "execute_result"
    }
   ],
   "source": [
    "features_df.head()"
   ]
  },
  {
   "cell_type": "markdown",
   "metadata": {},
   "source": [
    "## Get proportion of instances that fulfill the conditions\n",
    "\n",
    "1. For each row, get features that were activated\n",
    "2. Then for each activated feature, we get the proportion by looking at the feature dataframe.\n",
    "3. The proportion is computed as: `number_of_instance_that_fulfill_a_single_condition` / `total_number_of_instances`\n"
   ]
  },
  {
   "cell_type": "code",
   "execution_count": 45,
   "metadata": {},
   "outputs": [
    {
     "data": {
      "text/html": [
       "<div>\n",
       "<style scoped>\n",
       "    .dataframe tbody tr th:only-of-type {\n",
       "        vertical-align: middle;\n",
       "    }\n",
       "\n",
       "    .dataframe tbody tr th {\n",
       "        vertical-align: top;\n",
       "    }\n",
       "\n",
       "    .dataframe thead th {\n",
       "        text-align: right;\n",
       "    }\n",
       "</style>\n",
       "<table border=\"1\" class=\"dataframe\">\n",
       "  <thead>\n",
       "    <tr style=\"text-align: right;\">\n",
       "      <th></th>\n",
       "      <th>expertise_level</th>\n",
       "      <th>format_constraints</th>\n",
       "    </tr>\n",
       "  </thead>\n",
       "  <tbody>\n",
       "    <tr>\n",
       "      <th>289</th>\n",
       "      <td>None</td>\n",
       "      <td>[]</td>\n",
       "    </tr>\n",
       "    <tr>\n",
       "      <th>1317</th>\n",
       "      <td>expert domain knowledge</td>\n",
       "      <td>None</td>\n",
       "    </tr>\n",
       "    <tr>\n",
       "      <th>4613</th>\n",
       "      <td>basic domain knowledge</td>\n",
       "      <td>None</td>\n",
       "    </tr>\n",
       "    <tr>\n",
       "      <th>4734</th>\n",
       "      <td>general public</td>\n",
       "      <td>None</td>\n",
       "    </tr>\n",
       "  </tbody>\n",
       "</table>\n",
       "</div>"
      ],
      "text/plain": [
       "              expertise_level format_constraints\n",
       "289                      None                 []\n",
       "1317  expert domain knowledge               None\n",
       "4613   basic domain knowledge               None\n",
       "4734           general public               None"
      ]
     },
     "execution_count": 45,
     "metadata": {},
     "output_type": "execute_result"
    }
   ],
   "source": [
    "# Inspect nan columns\n",
    "rows_with_nan = features_df[features_df.isna().any(axis=1)]\n",
    "nan_columns = rows_with_nan.columns[rows_with_nan.isna().any()]\n",
    "df_nan_columns = rows_with_nan[nan_columns]\n",
    "df_nan_columns"
   ]
  },
  {
   "cell_type": "markdown",
   "metadata": {},
   "source": [
    "So what you're going to do instead, is to take the binary_cols, and then for each element of that binary_cols, you compute the \"weight\"\n"
   ]
  },
  {
   "cell_type": "code",
   "execution_count": 50,
   "metadata": {},
   "outputs": [],
   "source": [
    "def compute_instances(feat: str, features_df: \"pd.DataFrame\") -> float:\n",
    "    \"\"\"Compute the ratio of instances that fulfill a given feature 'feat' vs. the total dataset 'len(features_df)'\"\"\"\n",
    "    total = len(features_df)\n",
    "    lexical_features = [\n",
    "        \"rouge\",\n",
    "        \"bertscore\",\n",
    "        \"bertscore_length\",\n",
    "        \"entity_sim\",\n",
    "        \"cosine_sim\",\n",
    "        \"prompt_len\",\n",
    "        \"len_longer\",\n",
    "        \"len_shorter\",\n",
    "        \"token_len_difference\",\n",
    "    ]\n",
    "\n",
    "    if feat.split(\"__\")[0] in lexical_features:\n",
    "        feat_name, value = feat.split(\"__\")\n",
    "        min_val_str, max_val_str = value.split(\"|\")\n",
    "        min_val, max_val = float(min_val_str.split(\"=\")[1]), float(\n",
    "            max_val_str.split(\"=\")[1]\n",
    "        )\n",
    "        return features_df[feat_name].between(min_val, max_val).mean()\n",
    "    else:\n",
    "        # Parse the feature\n",
    "        feat_name, value = feat.split(\"=\")\n",
    "        meta_category = find_meta_category(feat_name)\n",
    "        if meta_category == \"scalar\":\n",
    "            v = value.replace(\"_\", \" \")\n",
    "            return features_df[feat_name].value_counts().get(v) / total\n",
    "        elif meta_category == \"closed_set\":\n",
    "            v = value.replace(\"_\", \" \")\n",
    "            list_of_values = features_df[feat_name].tolist()\n",
    "            return sum([1 if v in listval else 0 for listval in list_of_values]) / total\n",
    "        elif meta_category == \"open_set\":\n",
    "            list_of_values = features_df[feat_name].tolist()\n",
    "            return sum([1 if listval else 0 for listval in list_of_values]) / total\n",
    "\n",
    "        return find_meta_category(feat_name)\n",
    "\n",
    "\n",
    "# feats = results_df.columns[results_df.isin([0, 1]).all()]  # get binary columns\n",
    "# feat_map = {\n",
    "#    feat: compute_instances(feat, features_df) for feat in feats if feat != \"label\"\n",
    "# }\n",
    "\n",
    "# ratio_df = results_df.apply(\n",
    "#    lambda row: row.map(lambda x: feat_map.get(row.name, 1) if x == 1 else x)\n",
    "# )"
   ]
  },
  {
   "cell_type": "markdown",
   "metadata": {},
   "source": [
    "For each result, we get the `hash`, find the extracted subset (because they were randomly-sampled) from `data`, and compute the ratio from there.\n"
   ]
  },
  {
   "cell_type": "code",
   "execution_count": 76,
   "metadata": {},
   "outputs": [
    {
     "name": "stderr",
     "output_type": "stream",
     "text": [
      "/var/folders/hx/gk2rs0792pn5p8hkj4nkhdm80000gp/T/ipykernel_24031/1978306616.py:14: TqdmDeprecationWarning: This function will be removed in tqdm==5.0.0\n",
      "Please use `tqdm.notebook.tqdm` instead of `tqdm.tqdm_notebook`\n",
      "  for result_hash in tqdm_notebook(result_hashes):\n"
     ]
    },
    {
     "data": {
      "application/vnd.jupyter.widget-view+json": {
       "model_id": "bd58d44bbc4e4562926821f9d65df75e",
       "version_major": 2,
       "version_minor": 0
      },
      "text/plain": [
       "  0%|          | 0/127 [00:00<?, ?it/s]"
      ]
     },
     "metadata": {},
     "output_type": "display_data"
    }
   ],
   "source": [
    "import re\n",
    "\n",
    "\n",
    "def extract_hash(string):\n",
    "    match = re.search(r\"FEATS_(.*?)_SWAPS\", string)\n",
    "    return match.group(1) if match else None\n",
    "\n",
    "\n",
    "result_hashes = results_df[\"hash\"].to_list()\n",
    "subsets = {extract_hash(str(file)): file for file in Path(\"data\").glob(\"*.jsonl\")}\n",
    "feats = results_df.columns[results_df.isin([0, 1]).all()]  # get binary collumns\n",
    "\n",
    "hash_ratios = {}\n",
    "for result_hash in tqdm_notebook(result_hashes):\n",
    "    if result_hash in subsets:\n",
    "        sampled_features_df = pd.read_json(subsets[result_hash], lines=True)\n",
    "        sampled_features_df[\"id\"] = sampled_features_df[\"prompt\"].apply(\n",
    "            lambda x: hashlib.md5(x.encode(\"utf-8\")).hexdigest()\n",
    "        )\n",
    "        # Get the features from features_df based on the existing prompt_hashes in sampled_features_df\n",
    "        sdf = features_df[features_df[\"id\"].isin(sampled_features_df[\"id\"].to_list())]\n",
    "        hash_ratios[result_hash] = {\n",
    "            feat: compute_instances(feat, sdf) for feat in feats if feat != \"label\"\n",
    "        }\n",
    "\n",
    "\n",
    "def replace_values(row):\n",
    "    feat_map = hash_ratios.get(row[\"hash\"], {})\n",
    "    for col in feat_map:\n",
    "        if row[col] == 1 and col in feat_map:\n",
    "            row[col] = feat_map[col]\n",
    "    return row\n",
    "\n",
    "\n",
    "ratio_df = results_df.apply(replace_values, axis=1)"
   ]
  },
  {
   "cell_type": "markdown",
   "metadata": {},
   "source": [
    "## Regressor training\n"
   ]
  },
  {
   "cell_type": "code",
   "execution_count": 107,
   "metadata": {},
   "outputs": [],
   "source": [
    "from sklearn.model_selection import train_test_split\n",
    "from sklearn.metrics import mean_squared_error, root_mean_squared_error\n",
    "from sklearn.linear_model import LinearRegression\n",
    "from sklearn.preprocessing import PolynomialFeatures"
   ]
  },
  {
   "cell_type": "code",
   "execution_count": 95,
   "metadata": {},
   "outputs": [
    {
     "name": "stdout",
     "output_type": "stream",
     "text": [
      "Train size: 101, test size: 26\n"
     ]
    }
   ],
   "source": [
    "X = ratio_df[list(feat_map.keys())]\n",
    "y = ratio_df[\"Overall\"]\n",
    "\n",
    "X_train, X_test, y_train, y_test, train_idx, test_idx = train_test_split(\n",
    "    X, y, ratio_df.index, test_size=0.2, random_state=42\n",
    ")\n",
    "\n",
    "# Save the validation set\n",
    "validation_set = ratio_df.loc[test_idx]\n",
    "validation_set.to_json(\"validation_set.jsonl\", lines=True, orient=\"records\")\n",
    "\n",
    "\n",
    "print(f\"Train size: {len(X_train)}, test size: {len(X_test)}\")"
   ]
  },
  {
   "cell_type": "markdown",
   "metadata": {},
   "source": [
    "### Train LinearRegressor\n"
   ]
  },
  {
   "cell_type": "code",
   "execution_count": 108,
   "metadata": {},
   "outputs": [
    {
     "name": "stdout",
     "output_type": "stream",
     "text": [
      "MSE: 0.0011864301508304313, RMSE: 0.03444459537910746\n",
      "Coeeficients: [-1.37611737e-01  5.32350462e-03 -4.38176661e-02 -2.78198558e-02\n",
      " -1.06831035e-01 -3.35084994e-03 -4.75821014e-02  4.79237520e-02\n",
      " -1.47971174e-01  2.18926230e-02  5.41783312e-03 -4.57481228e-03\n",
      " -6.07317999e-02 -6.89662029e-02 -1.08568406e-02 -2.09692174e-01\n",
      "  8.62842876e-02 -6.75112570e-02  1.17200298e-02  3.68671239e-13\n",
      "  1.39344092e-12 -1.00469633e-11  1.64168679e-12 -3.70847797e-12\n",
      " -9.48100706e+00 -1.83325684e-01 -2.82082828e-01 -2.87037841e-02\n",
      "  3.77673356e-02 -1.27542421e-12 -1.16351373e-13 -9.55525224e-01\n",
      " -7.29455719e-03 -1.41946718e-02 -5.73052218e-01 -3.03469370e+00\n",
      " -8.85806350e-01 -2.84217094e-14 -5.48969000e-03 -5.68434189e-14\n",
      " -2.69072819e-01 -5.32907052e-15  0.00000000e+00  0.00000000e+00\n",
      "  0.00000000e+00  0.00000000e+00  2.23303094e-01  0.00000000e+00\n",
      " -6.86106181e-01  0.00000000e+00 -9.52013335e+00  0.00000000e+00\n",
      "  0.00000000e+00  3.80789674e-01  3.61581246e+00  0.00000000e+00\n",
      "  5.10516152e-01 -1.62338899e+02  0.00000000e+00  0.00000000e+00\n",
      "  0.00000000e+00 -2.85734743e+00  0.00000000e+00 -1.36384816e-01\n",
      " -2.22846840e-01]\n",
      "Intercept: 0.7142278960890482\n"
     ]
    }
   ],
   "source": [
    "model = LinearRegression()\n",
    "model.fit(X_train, y_train)\n",
    "\n",
    "\n",
    "y_pred = model.predict(X_test)\n",
    "mse = mean_squared_error(y_test, y_pred)\n",
    "rmse = root_mean_squared_error(y_test, y_pred)\n",
    "# print(f\"Feature names: {poly.get_feature_names_out(X.columns)}\")\n",
    "print(f\"MSE: {mse}, RMSE: {rmse}\")\n",
    "print(f\"Coeeficients: {model.coef_}\")\n",
    "print(f\"Intercept: {model.intercept_}\")"
   ]
  },
  {
   "cell_type": "markdown",
   "metadata": {},
   "source": [
    "### Train LightGBM\n"
   ]
  },
  {
   "cell_type": "code",
   "execution_count": 110,
   "metadata": {},
   "outputs": [
    {
     "name": "stdout",
     "output_type": "stream",
     "text": [
      "[LightGBM] [Info] Auto-choosing row-wise multi-threading, the overhead of testing was 0.000401 seconds.\n",
      "You can set `force_row_wise=true` to remove the overhead.\n",
      "And if memory is not enough, you can set `force_col_wise=true`.\n",
      "[LightGBM] [Info] Total Bins 12\n",
      "[LightGBM] [Info] Number of data points in the train set: 101, number of used features: 2\n",
      "[LightGBM] [Info] Start training from score 0.691683\n",
      "MSE: 0.0010180543772647782, RMSE: 0.03190696440065677\n"
     ]
    },
    {
     "data": {
      "text/html": [
       "<div>\n",
       "<style scoped>\n",
       "    .dataframe tbody tr th:only-of-type {\n",
       "        vertical-align: middle;\n",
       "    }\n",
       "\n",
       "    .dataframe tbody tr th {\n",
       "        vertical-align: top;\n",
       "    }\n",
       "\n",
       "    .dataframe thead th {\n",
       "        text-align: right;\n",
       "    }\n",
       "</style>\n",
       "<table border=\"1\" class=\"dataframe\">\n",
       "  <thead>\n",
       "    <tr style=\"text-align: right;\">\n",
       "      <th></th>\n",
       "      <th>feature</th>\n",
       "      <th>importance</th>\n",
       "    </tr>\n",
       "  </thead>\n",
       "  <tbody>\n",
       "    <tr>\n",
       "      <th>4</th>\n",
       "      <td>bertscore_length__min_val=0.67|max_val=1.0</td>\n",
       "      <td>61</td>\n",
       "    </tr>\n",
       "    <tr>\n",
       "      <th>31</th>\n",
       "      <td>prompt_len__min_val=0.67|max_val=1.0</td>\n",
       "      <td>39</td>\n",
       "    </tr>\n",
       "    <tr>\n",
       "      <th>0</th>\n",
       "      <td>bertscore__min_val=0.33|max_val=0.67</td>\n",
       "      <td>0</td>\n",
       "    </tr>\n",
       "    <tr>\n",
       "      <th>42</th>\n",
       "      <td>subject_of_expertise=Earth_sciences</td>\n",
       "      <td>0</td>\n",
       "    </tr>\n",
       "    <tr>\n",
       "      <th>47</th>\n",
       "      <td>subject_of_expertise=Human_physical_performanc...</td>\n",
       "      <td>0</td>\n",
       "    </tr>\n",
       "    <tr>\n",
       "      <th>...</th>\n",
       "      <td>...</td>\n",
       "      <td>...</td>\n",
       "    </tr>\n",
       "    <tr>\n",
       "      <th>27</th>\n",
       "      <td>open_endedness=moderate</td>\n",
       "      <td>0</td>\n",
       "    </tr>\n",
       "    <tr>\n",
       "      <th>28</th>\n",
       "      <td>open_endedness=no</td>\n",
       "      <td>0</td>\n",
       "    </tr>\n",
       "    <tr>\n",
       "      <th>29</th>\n",
       "      <td>prompt_len__min_val=0.0|max_val=0.33</td>\n",
       "      <td>0</td>\n",
       "    </tr>\n",
       "    <tr>\n",
       "      <th>30</th>\n",
       "      <td>prompt_len__min_val=0.33|max_val=0.67</td>\n",
       "      <td>0</td>\n",
       "    </tr>\n",
       "    <tr>\n",
       "      <th>64</th>\n",
       "      <td>type_of_in_context_material=1</td>\n",
       "      <td>0</td>\n",
       "    </tr>\n",
       "  </tbody>\n",
       "</table>\n",
       "<p>65 rows × 2 columns</p>\n",
       "</div>"
      ],
      "text/plain": [
       "                                              feature  importance\n",
       "4          bertscore_length__min_val=0.67|max_val=1.0          61\n",
       "31               prompt_len__min_val=0.67|max_val=1.0          39\n",
       "0                bertscore__min_val=0.33|max_val=0.67           0\n",
       "42                subject_of_expertise=Earth_sciences           0\n",
       "47  subject_of_expertise=Human_physical_performanc...           0\n",
       "..                                                ...         ...\n",
       "27                            open_endedness=moderate           0\n",
       "28                                  open_endedness=no           0\n",
       "29               prompt_len__min_val=0.0|max_val=0.33           0\n",
       "30              prompt_len__min_val=0.33|max_val=0.67           0\n",
       "64                      type_of_in_context_material=1           0\n",
       "\n",
       "[65 rows x 2 columns]"
      ]
     },
     "execution_count": 110,
     "metadata": {},
     "output_type": "execute_result"
    }
   ],
   "source": [
    "import lightgbm as lgb\n",
    "\n",
    "train_data = lgb.Dataset(X_train, label=y_train)\n",
    "test_data = lgb.Dataset(X_test, label=y_test, reference=train_data)\n",
    "params = {\n",
    "    \"objective\": \"regression\",\n",
    "    \"metric\": \"rmse\",\n",
    "    \"boosting\": \"gbdt\",\n",
    "    \"learning_rate\": 0.1,\n",
    "    \"num_leaves\": 2,\n",
    "}\n",
    "\n",
    "# Train the model\n",
    "bst = lgb.train(params, train_data, valid_sets=[test_data])\n",
    "\n",
    "# Predict and evaluate\n",
    "y_pred = bst.predict(X_test)\n",
    "importances = bst.feature_importance()\n",
    "feature_names = X.columns\n",
    "mse = mean_squared_error(y_test, y_pred)\n",
    "rmse = root_mean_squared_error(y_test, y_pred)\n",
    "print(f\"MSE: {mse}, RMSE: {rmse}\")\n",
    "importance_df = pd.DataFrame(\n",
    "    {\"feature\": feature_names, \"importance\": importances}\n",
    ").sort_values(by=\"importance\", ascending=False)\n",
    "importance_df"
   ]
  },
  {
   "cell_type": "markdown",
   "metadata": {},
   "source": [
    "## Simulation\n"
   ]
  },
  {
   "cell_type": "code",
   "execution_count": 111,
   "metadata": {},
   "outputs": [
    {
     "name": "stderr",
     "output_type": "stream",
     "text": [
      "10it [00:00, 90785.80it/s]\n",
      "45it [00:00, 76662.75it/s]\n",
      "120it [00:00, 67378.38it/s]\n",
      "210it [00:00, 55676.60it/s]\n",
      "252it [00:00, 41514.71it/s]\n",
      "210it [00:00, 39869.81it/s]\n",
      "120it [00:00, 30887.79it/s]\n",
      "45it [00:00, 26305.74it/s]\n",
      "10it [00:00, 22982.49it/s]\n",
      "1it [00:00, 8322.03it/s]"
     ]
    },
    {
     "name": "stdout",
     "output_type": "stream",
     "text": [
      "2024-09-04 11:27:50 - INFO - root - Adding meta analyzer features\n"
     ]
    },
    {
     "name": "stderr",
     "output_type": "stream",
     "text": [
      "\n",
      "10it [00:00, 90785.80it/s]\n",
      "45it [00:00, 90567.98it/s]\n",
      "120it [00:00, 60277.42it/s]\n",
      "210it [00:00, 49636.73it/s]\n",
      "252it [00:00, 47583.15it/s]\n",
      "210it [00:00, 42961.85it/s]\n",
      "120it [00:00, 36212.42it/s]\n",
      "45it [00:00, 23116.19it/s]\n",
      "10it [00:00, 11861.72it/s]\n",
      "1it [00:00, 3938.31it/s]\n"
     ]
    }
   ],
   "source": [
    "_, combinations = sample_feature_combinations(\n",
    "    meta_analyzer_n_samples=2000, max_number=10\n",
    ")"
   ]
  },
  {
   "cell_type": "code",
   "execution_count": 112,
   "metadata": {},
   "outputs": [
    {
     "name": "stderr",
     "output_type": "stream",
     "text": [
      "/var/folders/hx/gk2rs0792pn5p8hkj4nkhdm80000gp/T/ipykernel_24031/4023816742.py:2: TqdmDeprecationWarning: This function will be removed in tqdm==5.0.0\n",
      "Please use `tqdm.notebook.tqdm` instead of `tqdm.tqdm_notebook`\n",
      "  for idx, combination in tqdm_notebook(enumerate(combinations), total=len(combinations)):\n"
     ]
    },
    {
     "data": {
      "application/vnd.jupyter.widget-view+json": {
       "model_id": "652995e6c1ee45e2a86fa76c7463419f",
       "version_major": 2,
       "version_minor": 0
      },
      "text/plain": [
       "  0%|          | 0/4069 [00:00<?, ?it/s]"
      ]
     },
     "metadata": {},
     "output_type": "display_data"
    }
   ],
   "source": [
    "sim_df = pd.DataFrame(0, index=np.arange(len(combinations)), columns=X.columns)\n",
    "for idx, combination in tqdm_notebook(enumerate(combinations), total=len(combinations)):\n",
    "    activated_feats = []\n",
    "    for feat in combination:\n",
    "        if \"analyzer\" in feat:\n",
    "            feature_name_str, value_str = feat.split(\"::\")[1].split(\"|\")\n",
    "            feature_name, value = (\n",
    "                feature_name_str.split(\"=\")[-1],\n",
    "                value_str.split(\"=\")[-1],\n",
    "            )\n",
    "            activated_feats.append(f\"{feature_name}={value}\")\n",
    "        else:\n",
    "            activated_feats.append(feat.replace(\"::\", \"__\"))\n",
    "    sim_df.loc[idx, activated_feats] = 1\n",
    "sim_df = sim_df.apply(\n",
    "    lambda row: row.map(lambda x: feat_map.get(row.name, 1) if x == 1 else x)\n",
    ").dropna(axis=1, how=\"any\")"
   ]
  },
  {
   "cell_type": "code",
   "execution_count": 113,
   "metadata": {},
   "outputs": [
    {
     "data": {
      "text/html": [
       "<div>\n",
       "<style scoped>\n",
       "    .dataframe tbody tr th:only-of-type {\n",
       "        vertical-align: middle;\n",
       "    }\n",
       "\n",
       "    .dataframe tbody tr th {\n",
       "        vertical-align: top;\n",
       "    }\n",
       "\n",
       "    .dataframe thead th {\n",
       "        text-align: right;\n",
       "    }\n",
       "</style>\n",
       "<table border=\"1\" class=\"dataframe\">\n",
       "  <thead>\n",
       "    <tr style=\"text-align: right;\">\n",
       "      <th></th>\n",
       "      <th>activated_features</th>\n",
       "      <th>pred</th>\n",
       "    </tr>\n",
       "  </thead>\n",
       "  <tbody>\n",
       "    <tr>\n",
       "      <th>0</th>\n",
       "      <td>[complexity_of_intents=simple, languages=Engli...</td>\n",
       "      <td>0.761964</td>\n",
       "    </tr>\n",
       "    <tr>\n",
       "      <th>1</th>\n",
       "      <td>[complexity_of_intents=simple, languages=English]</td>\n",
       "      <td>0.760411</td>\n",
       "    </tr>\n",
       "    <tr>\n",
       "      <th>2</th>\n",
       "      <td>[complexity_of_intents=simple, languages=English]</td>\n",
       "      <td>0.760411</td>\n",
       "    </tr>\n",
       "    <tr>\n",
       "      <th>3</th>\n",
       "      <td>[complexity_of_intents=simple, languages=English]</td>\n",
       "      <td>0.760411</td>\n",
       "    </tr>\n",
       "    <tr>\n",
       "      <th>4</th>\n",
       "      <td>[complexity_of_intents=simple, languages=English]</td>\n",
       "      <td>0.760411</td>\n",
       "    </tr>\n",
       "    <tr>\n",
       "      <th>5</th>\n",
       "      <td>[complexity_of_intents=simple, languages=English]</td>\n",
       "      <td>0.760411</td>\n",
       "    </tr>\n",
       "    <tr>\n",
       "      <th>6</th>\n",
       "      <td>[complexity_of_intents=simple, languages=English]</td>\n",
       "      <td>0.760411</td>\n",
       "    </tr>\n",
       "    <tr>\n",
       "      <th>7</th>\n",
       "      <td>[complexity_of_intents=simple, languages=English]</td>\n",
       "      <td>0.760411</td>\n",
       "    </tr>\n",
       "    <tr>\n",
       "      <th>8</th>\n",
       "      <td>[complexity_of_intents=simple, languages=English]</td>\n",
       "      <td>0.760411</td>\n",
       "    </tr>\n",
       "    <tr>\n",
       "      <th>9</th>\n",
       "      <td>[complexity_of_intents=simple, languages=English]</td>\n",
       "      <td>0.760411</td>\n",
       "    </tr>\n",
       "    <tr>\n",
       "      <th>10</th>\n",
       "      <td>[complexity_of_intents=simple, languages=English]</td>\n",
       "      <td>0.760411</td>\n",
       "    </tr>\n",
       "    <tr>\n",
       "      <th>11</th>\n",
       "      <td>[complexity_of_intents=simple, cosine_sim__min...</td>\n",
       "      <td>0.756646</td>\n",
       "    </tr>\n",
       "    <tr>\n",
       "      <th>12</th>\n",
       "      <td>[bertscore__min_val=0.33|max_val=0.67, complex...</td>\n",
       "      <td>0.756400</td>\n",
       "    </tr>\n",
       "    <tr>\n",
       "      <th>13</th>\n",
       "      <td>[complexity_of_intents=simple, languages=Engli...</td>\n",
       "      <td>0.755068</td>\n",
       "    </tr>\n",
       "    <tr>\n",
       "      <th>14</th>\n",
       "      <td>[complexity_of_intents=simple, open_endedness=no]</td>\n",
       "      <td>0.750259</td>\n",
       "    </tr>\n",
       "    <tr>\n",
       "      <th>15</th>\n",
       "      <td>[complexity_of_intents=simple, cosine_sim__min...</td>\n",
       "      <td>0.750244</td>\n",
       "    </tr>\n",
       "    <tr>\n",
       "      <th>16</th>\n",
       "      <td>[complexity_of_intents=simple, languages=Engli...</td>\n",
       "      <td>0.749732</td>\n",
       "    </tr>\n",
       "    <tr>\n",
       "      <th>17</th>\n",
       "      <td>[complexity_of_intents=simple, cosine_sim__min...</td>\n",
       "      <td>0.748747</td>\n",
       "    </tr>\n",
       "    <tr>\n",
       "      <th>18</th>\n",
       "      <td>[complexity_of_intents=simple]</td>\n",
       "      <td>0.748706</td>\n",
       "    </tr>\n",
       "    <tr>\n",
       "      <th>19</th>\n",
       "      <td>[complexity_of_intents=simple]</td>\n",
       "      <td>0.748706</td>\n",
       "    </tr>\n",
       "  </tbody>\n",
       "</table>\n",
       "</div>"
      ],
      "text/plain": [
       "                                   activated_features      pred\n",
       "0   [complexity_of_intents=simple, languages=Engli...  0.761964\n",
       "1   [complexity_of_intents=simple, languages=English]  0.760411\n",
       "2   [complexity_of_intents=simple, languages=English]  0.760411\n",
       "3   [complexity_of_intents=simple, languages=English]  0.760411\n",
       "4   [complexity_of_intents=simple, languages=English]  0.760411\n",
       "5   [complexity_of_intents=simple, languages=English]  0.760411\n",
       "6   [complexity_of_intents=simple, languages=English]  0.760411\n",
       "7   [complexity_of_intents=simple, languages=English]  0.760411\n",
       "8   [complexity_of_intents=simple, languages=English]  0.760411\n",
       "9   [complexity_of_intents=simple, languages=English]  0.760411\n",
       "10  [complexity_of_intents=simple, languages=English]  0.760411\n",
       "11  [complexity_of_intents=simple, cosine_sim__min...  0.756646\n",
       "12  [bertscore__min_val=0.33|max_val=0.67, complex...  0.756400\n",
       "13  [complexity_of_intents=simple, languages=Engli...  0.755068\n",
       "14  [complexity_of_intents=simple, open_endedness=no]  0.750259\n",
       "15  [complexity_of_intents=simple, cosine_sim__min...  0.750244\n",
       "16  [complexity_of_intents=simple, languages=Engli...  0.749732\n",
       "17  [complexity_of_intents=simple, cosine_sim__min...  0.748747\n",
       "18                     [complexity_of_intents=simple]  0.748706\n",
       "19                     [complexity_of_intents=simple]  0.748706"
      ]
     },
     "execution_count": 113,
     "metadata": {},
     "output_type": "execute_result"
    }
   ],
   "source": [
    "sim_results = sim_df.copy(deep=True)\n",
    "sim_results[\"activated_features\"] = sim_results.apply(\n",
    "    lambda row: [col for col in sim_results.columns if row[col] != 0], axis=1\n",
    ")\n",
    "sim_results[\"pred\"] = model.predict(sim_df)\n",
    "sim_results = sim_results.sort_values(by=\"pred\", ascending=False).reset_index(drop=True)\n",
    "sim_results[[\"activated_features\", \"pred\"]].head(20)"
   ]
  },
  {
   "cell_type": "code",
   "execution_count": 114,
   "metadata": {},
   "outputs": [
    {
     "name": "stdout",
     "output_type": "stream",
     "text": [
      "[['complexity_of_intents=simple', 'languages=English', 'open_endedness=no'], ['complexity_of_intents=simple', 'languages=English'], ['complexity_of_intents=simple', 'cosine_sim__min_val=0.33|max_val=0.67', 'languages=English', 'open_endedness=no', 'prompt_len__min_val=0.67|max_val=1.0', 'rouge__min_val=0.33|max_val=0.67'], ['bertscore__min_val=0.33|max_val=0.67', 'complexity_of_intents=simple', 'languages=English', 'safety_concern=moderate'], ['complexity_of_intents=simple', 'languages=English', 'safety_concern=safe'], ['complexity_of_intents=simple', 'open_endedness=no'], ['complexity_of_intents=simple', 'cosine_sim__min_val=0.33|max_val=0.67', 'languages=English', 'rouge__min_val=0.67|max_val=1.0'], ['complexity_of_intents=simple', 'languages=English', 'len_shorter__min_val=0.67|max_val=1.0', 'prompt_len__min_val=0.67|max_val=1.0', 'rouge__min_val=0.0|max_val=0.33'], ['complexity_of_intents=simple', 'cosine_sim__min_val=0.67|max_val=1.0', 'open_endedness=no', 'safety_concern=safe', 'subject_of_expertise=Economics'], ['complexity_of_intents=simple'], ['complexity_of_intents=simple', 'languages=English', 'open_endedness=moderate', 'subject_of_expertise=Sociology'], ['complexity_of_intents=simple', 'languages=English', 'open_endedness=moderate'], ['bertscore__min_val=0.67|max_val=1.0', 'complexity_of_intents=simple', 'languages=English', 'open_endedness=moderate', 'safety_concern=moderate', 'token_len_difference__min_val=0.0|max_val=0.33'], ['complexity_of_intents=simple', 'rouge__min_val=0.0|max_val=0.33', 'token_len_difference__min_val=0.67|max_val=1.0'], ['bertscore__min_val=0.33|max_val=0.67', 'complexity_of_intents=simple', 'cosine_sim__min_val=0.67|max_val=1.0', 'languages=English', 'rouge__min_val=0.67|max_val=1.0'], ['complexity_of_intents=simple', 'open_endedness=no', 'safety_concern=safe'], ['complexity_of_intents=simple', 'languages=English', 'safety_concern=low'], ['complexity_of_intents=simple', 'format_constraints=1', 'languages=English', 'open_endedness=no'], ['complexity_of_intents=simple', 'safety_concern=safe'], ['bertscore__min_val=0.67|max_val=1.0', 'complexity_of_intents=simple', 'cosine_sim__min_val=0.33|max_val=0.67', 'rouge__min_val=0.33|max_val=0.67', 'safety_concern=moderate', 'token_len_difference__min_val=0.0|max_val=0.33'], ['complexity_of_intents=simple', 'format_constraints=1', 'languages=English'], ['complexity_of_intents=simple', 'format_constraints=1', 'languages=English', 'subject_of_expertise=Sociology'], ['complexity_of_intents=simple', 'format_constraints=1', 'languages=English', 'safety_concern=moderate'], ['complexity_of_intents=simple', 'prompt_len__min_val=0.67|max_val=1.0', 'safety_concern=moderate', 'token_len_difference__min_val=0.0|max_val=0.33'], ['complexity_of_intents=simple', 'cosine_sim__min_val=0.33|max_val=0.67', 'languages=English', 'prompt_len__min_val=0.67|max_val=1.0', 'rouge__min_val=0.67|max_val=1.0', 'safety_concern=safe', 'token_len_difference__min_val=0.0|max_val=0.33'], ['complexity_of_intents=simple', 'rouge__min_val=0.33|max_val=0.67', 'token_len_difference__min_val=0.67|max_val=1.0'], ['complexity_of_intents=simple', 'cosine_sim__min_val=0.33|max_val=0.67', 'entity_sim__min_val=0.33|max_val=0.67', 'languages=English', 'rouge__min_val=0.67|max_val=1.0'], ['bertscore__min_val=0.33|max_val=0.67', 'complexity_of_intents=simple', 'cosine_sim__min_val=0.0|max_val=0.33'], ['complexity_of_intents=simple', 'format_constraints=1', 'languages=English', 'token_len_difference__min_val=0.0|max_val=0.33'], ['complexity_of_intents=simple', 'languages=English', 'type_of_in_context_material=1'], ['complexity_of_intents=simple', 'languages=English', 'safety_concern=moderate', 'type_of_in_context_material=1'], ['complexity_of_intents=simple', 'format_constraints=1', 'languages=English', 'safety_concern=high'], ['complexity_of_intents=simple', 'format_constraints=1', 'languages=English', 'safety_concern=high', 'subject_of_expertise=Agriculture'], ['complexity_of_intents=simple', 'cosine_sim__min_val=0.0|max_val=0.33', 'entity_sim__min_val=0.67|max_val=1.0', 'languages=English'], ['complexity_of_intents=simple', 'safety_concern=low'], ['bertscore__min_val=0.67|max_val=1.0', 'bertscore_length__min_val=0.0|max_val=0.33', 'complexity_of_intents=simple', 'cosine_sim__min_val=0.67|max_val=1.0', 'open_endedness=no', 'safety_concern=high'], ['bertscore__min_val=0.67|max_val=1.0', 'bertscore_length__min_val=0.33|max_val=0.67', 'complexity_of_intents=simple', 'entity_sim__min_val=0.33|max_val=0.67', 'open_endedness=no', 'token_len_difference__min_val=0.67|max_val=1.0'], ['bertscore__min_val=0.67|max_val=1.0', 'languages=English'], ['bertscore__min_val=0.33|max_val=0.67', 'complexity_of_intents=simple', 'cosine_sim__min_val=0.33|max_val=0.67', 'entity_sim__min_val=0.67|max_val=1.0'], ['languages=English', 'subject_of_expertise=Geography'], ['bertscore__min_val=0.67|max_val=1.0', 'bertscore_length__min_val=0.33|max_val=0.67', 'complexity_of_intents=simple', 'entity_sim__min_val=0.33|max_val=0.67'], ['complexity_of_intents=simple', 'format_constraints=1'], ['complexity_of_intents=simple', 'entity_sim__min_val=0.0|max_val=0.33', 'rouge__min_val=0.67|max_val=1.0', 'token_len_difference__min_val=0.67|max_val=1.0'], ['complexity_of_intents=simple', 'languages=English', 'open_endedness=low', 'safety_concern=moderate', 'subject_of_expertise=Geography'], ['complexity_of_intents=simple', 'format_constraints=1', 'languages=English', 'open_endedness=moderate'], ['complexity_of_intents=simple', 'cosine_sim__min_val=0.33|max_val=0.67', 'entity_sim__min_val=0.0|max_val=0.33', 'len_shorter__min_val=0.67|max_val=1.0', 'rouge__min_val=0.33|max_val=0.67', 'safety_concern=safe'], ['languages=English', 'open_endedness=no'], ['languages=English', 'open_endedness=no', 'subject_of_expertise=Sociology'], ['languages=English', 'open_endedness=no', 'safety_concern=moderate'], ['complexity_of_intents=simple', 'cosine_sim__min_val=0.67|max_val=1.0', 'entity_sim__min_val=0.67|max_val=1.0', 'safety_concern=safe', 'token_len_difference__min_val=0.67|max_val=1.0'], ['complexity_of_intents=complex', 'languages=English', 'open_endedness=no', 'safety_concern=moderate', 'subject_of_expertise=Agriculture'], ['bertscore__min_val=0.33|max_val=0.67', 'complexity_of_intents=simple', 'cosine_sim__min_val=0.33|max_val=0.67', 'format_constraints=1', 'safety_concern=safe'], ['languages=English'], ['languages=English', 'subject_of_expertise=Literature'], ['languages=English', 'safety_concern=moderate']]\n"
     ]
    }
   ],
   "source": [
    "top_n = 100\n",
    "human_score = 0.715\n",
    "better_than_humans = sim_results[sim_results[\"pred\"] > human_score]\n",
    "top_combinations = (\n",
    "    better_than_humans.activated_features.head(top_n).drop_duplicates().to_list()\n",
    ")\n",
    "print(top_combinations)"
   ]
  },
  {
   "cell_type": "markdown",
   "metadata": {},
   "source": [
    "So now you have determined 10 feature combinations that seem to work well. The next step is to train RMs and evaluate them.\n"
   ]
  },
  {
   "cell_type": "code",
   "execution_count": 28,
   "metadata": {},
   "outputs": [],
   "source": [
    "from beaker import Beaker, ExperimentSpec\n",
    "from copy import deepcopy"
   ]
  },
  {
   "cell_type": "code",
   "execution_count": 29,
   "metadata": {},
   "outputs": [],
   "source": [
    "spec = ExperimentSpec.from_file(\"../../beaker/template.yml\")\n",
    "exp_spec = deepcopy(spec)\n",
    "template_task = exp_spec.tasks.pop(0)\n",
    "\n",
    "new_tasks = []\n",
    "for idx, combination in enumerate(top_combinations):\n",
    "    feats_to_run = []\n",
    "    for feat in combination:\n",
    "        if \"min_val\" in feat:\n",
    "            if \"token_len_difference\" in feat:\n",
    "                feat = feat.replace(\"difference\", \"diff\")\n",
    "            feats_to_run.append(feat.replace(\"__\", \"::\"))\n",
    "        else:\n",
    "            feat_name, value = feat.split(\"=\")\n",
    "            category = find_meta_category(feat_name)\n",
    "            if category == \"closed_set\":\n",
    "                key = \"constraints\"\n",
    "            elif category == \"scalar\":\n",
    "                key = \"value\"\n",
    "            elif category == \"open_set\":\n",
    "                key = \"check_for_existence\"\n",
    "            feats_to_run.append(f\"{category}::feature_name={feat_name}|{key}={value}\")\n",
    "    # Create beaker task\n",
    "    task = deepcopy(template_task)\n",
    "    task.name = f\"get-features-datamodel-{idx}\"\n",
    "    task.arguments.extend([\"--features\"] + feats_to_run)\n",
    "    new_tasks.append(task)\n",
    "\n",
    "exp_spec.tasks = new_tasks\n",
    "exp_spec.validate()\n",
    "exp_spec.to_file(\"experiments.yml\")"
   ]
  },
  {
   "cell_type": "markdown",
   "metadata": {},
   "source": [
    "Get finished jobs and download the subsets and create an `experiments.txt` file\n"
   ]
  },
  {
   "cell_type": "code",
   "execution_count": 30,
   "metadata": {},
   "outputs": [
    {
     "name": "stderr",
     "output_type": "stream",
     "text": [
      "/var/folders/hx/gk2rs0792pn5p8hkj4nkhdm80000gp/T/ipykernel_24031/76539003.py:11: TqdmDeprecationWarning: This function will be removed in tqdm==5.0.0\n",
      "Please use `tqdm.notebook.tqdm` instead of `tqdm.tqdm_notebook`\n",
      "  for job in tqdm_notebook(experiment.jobs):\n"
     ]
    },
    {
     "data": {
      "application/vnd.jupyter.widget-view+json": {
       "model_id": "32aa9924a7ad40a790358b0d012cb3e9",
       "version_major": 2,
       "version_minor": 0
      },
      "text/plain": [
       "  0%|          | 0/65 [00:00<?, ?it/s]"
      ]
     },
     "metadata": {},
     "output_type": "display_data"
    },
    {
     "name": "stdout",
     "output_type": "stream",
     "text": [
      "['human_datamodel_7000_FEATS_818fcd7dfafaf799a556f7f3363e7765_SWAPS_1922::bertscore__min_val-0.67|max_val-1.0___scalar__feature_name-complexity_of_intents|value-simple___entity_sim__min_val-0.67|max_val-1.0___scalar__feature_name-safety_concern|value-safe', 'human_datamodel_7000_FEATS_818fcd7dfafaf799a556f7f3363e7765_SWAPS_1922::bertscore__min_val-0.67|max_val-1.0___scalar__feature_name-complexity_of_intents|value-simple___entity_sim__min_val-0.67|max_val-1.0___scalar__feature_name-safety_concern|value-safe', 'human_datamodel_7000_FEATS_818fcd7dfafaf799a556f7f3363e7765_SWAPS_1922::bertscore__min_val-0.67|max_val-1.0___scalar__feature_name-complexity_of_intents|value-simple___entity_sim__min_val-0.67|max_val-1.0___scalar__feature_name-safety_concern|value-safe', 'human_datamodel_7000_FEATS_4bf313ac33a2c5007338baf8ef25ec52_SWAPS_1658::scalar__feature_name-complexity_of_intents|value-simple___cosine_sim__min_val-0.33|max_val-0.67', 'human_datamodel_7000_FEATS_4bf313ac33a2c5007338baf8ef25ec52_SWAPS_1658::scalar__feature_name-complexity_of_intents|value-simple___cosine_sim__min_val-0.33|max_val-0.67', 'human_datamodel_7000_FEATS_4bf313ac33a2c5007338baf8ef25ec52_SWAPS_1658::scalar__feature_name-complexity_of_intents|value-simple___cosine_sim__min_val-0.33|max_val-0.67', 'human_datamodel_7000_FEATS_3bd111df979342d672ebe2138eefadc6_SWAPS_1935::bertscore__min_val-0.67|max_val-1.0___scalar__feature_name-complexity_of_intents|value-simple___cosine_sim__min_val-0.67|max_val-1.0___entity_sim__min_val-0.0|max_val-0.33___rouge__min_val-0.33|max_val-0.67', 'human_datamodel_7000_FEATS_3bd111df979342d672ebe2138eefadc6_SWAPS_1935::bertscore__min_val-0.67|max_val-1.0___scalar__feature_name-complexity_of_intents|value-simple___cosine_sim__min_val-0.67|max_val-1.0___entity_sim__min_val-0.0|max_val-0.33___rouge__min_val-0.33|max_val-0.67', 'human_datamodel_7000_FEATS_3bd111df979342d672ebe2138eefadc6_SWAPS_1935::bertscore__min_val-0.67|max_val-1.0___scalar__feature_name-complexity_of_intents|value-simple___cosine_sim__min_val-0.67|max_val-1.0___entity_sim__min_val-0.0|max_val-0.33___rouge__min_val-0.33|max_val-0.67', 'human_datamodel_7000_FEATS_3bd111df979342d672ebe2138eefadc6_SWAPS_1935::bertscore__min_val-0.67|max_val-1.0___scalar__feature_name-complexity_of_intents|value-simple___cosine_sim__min_val-0.67|max_val-1.0___entity_sim__min_val-0.0|max_val-0.33___rouge__min_val-0.33|max_val-0.67', 'human_datamodel_7000_FEATS_3bd111df979342d672ebe2138eefadc6_SWAPS_1935::bertscore__min_val-0.67|max_val-1.0___scalar__feature_name-complexity_of_intents|value-simple___cosine_sim__min_val-0.67|max_val-1.0___entity_sim__min_val-0.0|max_val-0.33___rouge__min_val-0.33|max_val-0.67', 'human_datamodel_7000_FEATS_3bd111df979342d672ebe2138eefadc6_SWAPS_1935::bertscore__min_val-0.67|max_val-1.0___scalar__feature_name-complexity_of_intents|value-simple___cosine_sim__min_val-0.67|max_val-1.0___entity_sim__min_val-0.0|max_val-0.33___rouge__min_val-0.33|max_val-0.67', 'human_datamodel_7000_FEATS_562ac63daf3ab6a19527e0d15f6c2dc4_SWAPS_2189::scalar__feature_name-complexity_of_intents|value-simple___token_len_diff__min_val-0.0|max_val-0.33', 'human_datamodel_7000_FEATS_562ac63daf3ab6a19527e0d15f6c2dc4_SWAPS_2189::scalar__feature_name-complexity_of_intents|value-simple___token_len_diff__min_val-0.0|max_val-0.33', 'human_datamodel_7000_FEATS_562ac63daf3ab6a19527e0d15f6c2dc4_SWAPS_2189::scalar__feature_name-complexity_of_intents|value-simple___token_len_diff__min_val-0.0|max_val-0.33', 'human_datamodel_7000_FEATS_562ac63daf3ab6a19527e0d15f6c2dc4_SWAPS_2189::scalar__feature_name-complexity_of_intents|value-simple___token_len_diff__min_val-0.0|max_val-0.33', 'human_datamodel_7000_FEATS_64128fb01cc1a5ca9d3d8deec90fe93b_SWAPS_1892::scalar__feature_name-complexity_of_intents|value-simple___cosine_sim__min_val-0.67|max_val-1.0___entity_sim__min_val-0.0|max_val-0.33___closed_set__feature_name-languages|constraints-English___scalar__feature_name-open_endedness|value-moderate___rouge__min_val-0.33|max_val-0.67', 'human_datamodel_7000_FEATS_64128fb01cc1a5ca9d3d8deec90fe93b_SWAPS_1892::scalar__feature_name-complexity_of_intents|value-simple___cosine_sim__min_val-0.67|max_val-1.0___entity_sim__min_val-0.0|max_val-0.33___closed_set__feature_name-languages|constraints-English___scalar__feature_name-open_endedness|value-moderate___rouge__min_val-0.33|max_val-0.67', 'human_datamodel_7000_FEATS_64128fb01cc1a5ca9d3d8deec90fe93b_SWAPS_1892::scalar__feature_name-complexity_of_intents|value-simple___cosine_sim__min_val-0.67|max_val-1.0___entity_sim__min_val-0.0|max_val-0.33___closed_set__feature_name-languages|constraints-English___scalar__feature_name-open_endedness|value-moderate___rouge__min_val-0.33|max_val-0.67', 'human_datamodel_7000_FEATS_64128fb01cc1a5ca9d3d8deec90fe93b_SWAPS_1892::scalar__feature_name-complexity_of_intents|value-simple___cosine_sim__min_val-0.67|max_val-1.0___entity_sim__min_val-0.0|max_val-0.33___closed_set__feature_name-languages|constraints-English___scalar__feature_name-open_endedness|value-moderate___rouge__min_val-0.33|max_val-0.67', 'human_datamodel_7000_FEATS_64128fb01cc1a5ca9d3d8deec90fe93b_SWAPS_1892::scalar__feature_name-complexity_of_intents|value-simple___cosine_sim__min_val-0.67|max_val-1.0___entity_sim__min_val-0.0|max_val-0.33___closed_set__feature_name-languages|constraints-English___scalar__feature_name-open_endedness|value-moderate___rouge__min_val-0.33|max_val-0.67', 'human_datamodel_7000_FEATS_64128fb01cc1a5ca9d3d8deec90fe93b_SWAPS_1892::scalar__feature_name-complexity_of_intents|value-simple___cosine_sim__min_val-0.67|max_val-1.0___entity_sim__min_val-0.0|max_val-0.33___closed_set__feature_name-languages|constraints-English___scalar__feature_name-open_endedness|value-moderate___rouge__min_val-0.33|max_val-0.67', 'human_datamodel_7000_FEATS_0b1996de557774be82e3e71f50aacf63_SWAPS_1551::scalar__feature_name-complexity_of_intents|value-simple___entity_sim__min_val-0.33|max_val-0.67', 'human_datamodel_7000_FEATS_0b1996de557774be82e3e71f50aacf63_SWAPS_1551::scalar__feature_name-complexity_of_intents|value-simple___entity_sim__min_val-0.33|max_val-0.67', 'human_datamodel_7000_FEATS_0b1996de557774be82e3e71f50aacf63_SWAPS_1551::scalar__feature_name-complexity_of_intents|value-simple___entity_sim__min_val-0.33|max_val-0.67', 'human_datamodel_7000_FEATS_0b1996de557774be82e3e71f50aacf63_SWAPS_1551::scalar__feature_name-complexity_of_intents|value-simple___entity_sim__min_val-0.33|max_val-0.67', 'human_datamodel_7000_FEATS_0b1996de557774be82e3e71f50aacf63_SWAPS_1551::scalar__feature_name-complexity_of_intents|value-simple___entity_sim__min_val-0.33|max_val-0.67', 'human_datamodel_7000_FEATS_0b1996de557774be82e3e71f50aacf63_SWAPS_1551::scalar__feature_name-complexity_of_intents|value-simple___entity_sim__min_val-0.33|max_val-0.67', 'human_datamodel_7000_FEATS_0b1996de557774be82e3e71f50aacf63_SWAPS_1551::scalar__feature_name-complexity_of_intents|value-simple___entity_sim__min_val-0.33|max_val-0.67', 'human_datamodel_7000_FEATS_0b1996de557774be82e3e71f50aacf63_SWAPS_1551::scalar__feature_name-complexity_of_intents|value-simple___entity_sim__min_val-0.33|max_val-0.67', 'human_datamodel_7000_FEATS_0b1996de557774be82e3e71f50aacf63_SWAPS_1551::scalar__feature_name-complexity_of_intents|value-simple___entity_sim__min_val-0.33|max_val-0.67', 'human_datamodel_7000_FEATS_0b1996de557774be82e3e71f50aacf63_SWAPS_1551::scalar__feature_name-complexity_of_intents|value-simple___entity_sim__min_val-0.33|max_val-0.67', 'human_datamodel_7000_FEATS_0b1996de557774be82e3e71f50aacf63_SWAPS_1551::scalar__feature_name-complexity_of_intents|value-simple___entity_sim__min_val-0.33|max_val-0.67', 'human_datamodel_7000_FEATS_0b1996de557774be82e3e71f50aacf63_SWAPS_1551::scalar__feature_name-complexity_of_intents|value-simple___entity_sim__min_val-0.33|max_val-0.67', 'human_datamodel_7000_FEATS_079268c8aa3eb811512e5a6c737c0769_SWAPS_1633::bertscore__min_val-0.67|max_val-1.0___cosine_sim__min_val-0.33|max_val-0.67___closed_set__feature_name-languages|constraints-English___scalar__feature_name-safety_concern|value-safe', 'human_datamodel_7000_FEATS_2ecb7cffdd70e2325b8862358b90f4c0_SWAPS_1134::scalar__feature_name-complexity_of_intents|value-simple___cosine_sim__min_val-0.67|max_val-1.0___entity_sim__min_val-0.33|max_val-0.67___rouge__min_val-0.33|max_val-0.67', 'human_datamodel_7000_FEATS_2ecb7cffdd70e2325b8862358b90f4c0_SWAPS_1134::scalar__feature_name-complexity_of_intents|value-simple___cosine_sim__min_val-0.67|max_val-1.0___entity_sim__min_val-0.33|max_val-0.67___rouge__min_val-0.33|max_val-0.67', 'human_datamodel_7000_FEATS_b977d48bfd480c5f6f877c9fb2960808_SWAPS_1521::scalar__feature_name-complexity_of_intents|value-simple___entity_sim__min_val-0.0|max_val-0.33___scalar__feature_name-safety_concern|value-low___token_len_diff__min_val-0.67|max_val-1.0', 'human_datamodel_7000_FEATS_b977d48bfd480c5f6f877c9fb2960808_SWAPS_1521::scalar__feature_name-complexity_of_intents|value-simple___entity_sim__min_val-0.0|max_val-0.33___scalar__feature_name-safety_concern|value-low___token_len_diff__min_val-0.67|max_val-1.0', 'human_datamodel_7000_FEATS_b977d48bfd480c5f6f877c9fb2960808_SWAPS_1521::scalar__feature_name-complexity_of_intents|value-simple___entity_sim__min_val-0.0|max_val-0.33___scalar__feature_name-safety_concern|value-low___token_len_diff__min_val-0.67|max_val-1.0', 'human_datamodel_7000_FEATS_b977d48bfd480c5f6f877c9fb2960808_SWAPS_1521::scalar__feature_name-complexity_of_intents|value-simple___entity_sim__min_val-0.0|max_val-0.33___scalar__feature_name-safety_concern|value-low___token_len_diff__min_val-0.67|max_val-1.0', 'human_datamodel_7000_FEATS_b977d48bfd480c5f6f877c9fb2960808_SWAPS_1521::scalar__feature_name-complexity_of_intents|value-simple___entity_sim__min_val-0.0|max_val-0.33___scalar__feature_name-safety_concern|value-low___token_len_diff__min_val-0.67|max_val-1.0', 'human_datamodel_7000_FEATS_b977d48bfd480c5f6f877c9fb2960808_SWAPS_1521::scalar__feature_name-complexity_of_intents|value-simple___entity_sim__min_val-0.0|max_val-0.33___scalar__feature_name-safety_concern|value-low___token_len_diff__min_val-0.67|max_val-1.0', 'human_datamodel_7000_FEATS_b977d48bfd480c5f6f877c9fb2960808_SWAPS_1521::scalar__feature_name-complexity_of_intents|value-simple___entity_sim__min_val-0.0|max_val-0.33___scalar__feature_name-safety_concern|value-low___token_len_diff__min_val-0.67|max_val-1.0', 'human_datamodel_7000_FEATS_b977d48bfd480c5f6f877c9fb2960808_SWAPS_1521::scalar__feature_name-complexity_of_intents|value-simple___entity_sim__min_val-0.0|max_val-0.33___scalar__feature_name-safety_concern|value-low___token_len_diff__min_val-0.67|max_val-1.0', 'human_datamodel_7000_FEATS_b977d48bfd480c5f6f877c9fb2960808_SWAPS_1521::scalar__feature_name-complexity_of_intents|value-simple___entity_sim__min_val-0.0|max_val-0.33___scalar__feature_name-safety_concern|value-low___token_len_diff__min_val-0.67|max_val-1.0', 'human_datamodel_7000_FEATS_b977d48bfd480c5f6f877c9fb2960808_SWAPS_1521::scalar__feature_name-complexity_of_intents|value-simple___entity_sim__min_val-0.0|max_val-0.33___scalar__feature_name-safety_concern|value-low___token_len_diff__min_val-0.67|max_val-1.0', 'human_datamodel_7000_FEATS_b977d48bfd480c5f6f877c9fb2960808_SWAPS_1521::scalar__feature_name-complexity_of_intents|value-simple___entity_sim__min_val-0.0|max_val-0.33___scalar__feature_name-safety_concern|value-low___token_len_diff__min_val-0.67|max_val-1.0', 'human_datamodel_7000_FEATS_b977d48bfd480c5f6f877c9fb2960808_SWAPS_1521::scalar__feature_name-complexity_of_intents|value-simple___entity_sim__min_val-0.0|max_val-0.33___scalar__feature_name-safety_concern|value-low___token_len_diff__min_val-0.67|max_val-1.0', 'human_datamodel_7000_FEATS_0cb39cf6f2fac307a2359485bce01204_SWAPS_1610::bertscore__min_val-0.67|max_val-1.0___cosine_sim__min_val-0.33|max_val-0.67___scalar__feature_name-open_endedness|value-no___closed_set__feature_name-subject_of_expertise|constraints-Philosophy', 'human_datamodel_7000_FEATS_0cb39cf6f2fac307a2359485bce01204_SWAPS_1610::bertscore__min_val-0.67|max_val-1.0___cosine_sim__min_val-0.33|max_val-0.67___scalar__feature_name-open_endedness|value-no___closed_set__feature_name-subject_of_expertise|constraints-Philosophy', 'human_datamodel_7000_FEATS_e8ae18396c377f94e43da0be6a668ec2_SWAPS_1658::scalar__feature_name-complexity_of_intents|value-simple___cosine_sim__min_val-0.33|max_val-0.67___closed_set__feature_name-subject_of_expertise|constraints-Economics___open_set__feature_name-type_of_in_context_material|check_for_existence-1', 'human_datamodel_7000_FEATS_e8ae18396c377f94e43da0be6a668ec2_SWAPS_1658::scalar__feature_name-complexity_of_intents|value-simple___cosine_sim__min_val-0.33|max_val-0.67___closed_set__feature_name-subject_of_expertise|constraints-Economics___open_set__feature_name-type_of_in_context_material|check_for_existence-1', 'human_datamodel_7000_FEATS_e8ae18396c377f94e43da0be6a668ec2_SWAPS_1658::scalar__feature_name-complexity_of_intents|value-simple___cosine_sim__min_val-0.33|max_val-0.67___closed_set__feature_name-subject_of_expertise|constraints-Economics___open_set__feature_name-type_of_in_context_material|check_for_existence-1', 'human_datamodel_7000_FEATS_e8ae18396c377f94e43da0be6a668ec2_SWAPS_1658::scalar__feature_name-complexity_of_intents|value-simple___cosine_sim__min_val-0.33|max_val-0.67___closed_set__feature_name-subject_of_expertise|constraints-Economics___open_set__feature_name-type_of_in_context_material|check_for_existence-1', 'human_datamodel_7000_FEATS_e8ae18396c377f94e43da0be6a668ec2_SWAPS_1658::scalar__feature_name-complexity_of_intents|value-simple___cosine_sim__min_val-0.33|max_val-0.67___closed_set__feature_name-subject_of_expertise|constraints-Economics___open_set__feature_name-type_of_in_context_material|check_for_existence-1', 'human_datamodel_7000_FEATS_e8ae18396c377f94e43da0be6a668ec2_SWAPS_1658::scalar__feature_name-complexity_of_intents|value-simple___cosine_sim__min_val-0.33|max_val-0.67___closed_set__feature_name-subject_of_expertise|constraints-Economics___open_set__feature_name-type_of_in_context_material|check_for_existence-1', 'human_datamodel_7000_FEATS_e8ae18396c377f94e43da0be6a668ec2_SWAPS_1658::scalar__feature_name-complexity_of_intents|value-simple___cosine_sim__min_val-0.33|max_val-0.67___closed_set__feature_name-subject_of_expertise|constraints-Economics___open_set__feature_name-type_of_in_context_material|check_for_existence-1', 'human_datamodel_7000_FEATS_e8ae18396c377f94e43da0be6a668ec2_SWAPS_1658::scalar__feature_name-complexity_of_intents|value-simple___cosine_sim__min_val-0.33|max_val-0.67___closed_set__feature_name-subject_of_expertise|constraints-Economics___open_set__feature_name-type_of_in_context_material|check_for_existence-1', 'human_datamodel_7000_FEATS_29d44918ff62dffec52ea63fbe4d529d_SWAPS_1697::cosine_sim__min_val-0.33|max_val-0.67___closed_set__feature_name-languages|constraints-English___scalar__feature_name-safety_concern|value-safe', 'human_datamodel_7000_FEATS_29d44918ff62dffec52ea63fbe4d529d_SWAPS_1697::cosine_sim__min_val-0.33|max_val-0.67___closed_set__feature_name-languages|constraints-English___scalar__feature_name-safety_concern|value-safe', 'human_datamodel_7000_FEATS_b89b2e358c93ffa56c6820a70610e00e_SWAPS_1543::scalar__feature_name-complexity_of_intents|value-simple___entity_sim__min_val-0.33|max_val-0.67___open_set__feature_name-format_constraints|check_for_existence-1___closed_set__feature_name-languages|constraints-English___scalar__feature_name-safety_concern|value-safe', 'human_datamodel_7000_FEATS_b89b2e358c93ffa56c6820a70610e00e_SWAPS_1543::scalar__feature_name-complexity_of_intents|value-simple___entity_sim__min_val-0.33|max_val-0.67___open_set__feature_name-format_constraints|check_for_existence-1___closed_set__feature_name-languages|constraints-English___scalar__feature_name-safety_concern|value-safe', 'human_datamodel_7000_FEATS_b89b2e358c93ffa56c6820a70610e00e_SWAPS_1543::scalar__feature_name-complexity_of_intents|value-simple___entity_sim__min_val-0.33|max_val-0.67___open_set__feature_name-format_constraints|check_for_existence-1___closed_set__feature_name-languages|constraints-English___scalar__feature_name-safety_concern|value-safe', 'human_datamodel_7000_FEATS_b89b2e358c93ffa56c6820a70610e00e_SWAPS_1543::scalar__feature_name-complexity_of_intents|value-simple___entity_sim__min_val-0.33|max_val-0.67___open_set__feature_name-format_constraints|check_for_existence-1___closed_set__feature_name-languages|constraints-English___scalar__feature_name-safety_concern|value-safe']\n"
     ]
    }
   ],
   "source": [
    "# experiment_id = \"01J6TS47Q2KNKYRCYHC8A0DE4B\"\n",
    "# experiment_id = \"01J6WDKDPQCM92REXJ1VCNJ0NW\"\n",
    "experiment_id = \"01J6XJSWMSAM2ARJ1WXAP6PV8T\"\n",
    "top_subsets_dir = Path(\"top_n_subsets\")\n",
    "top_subsets_dir.mkdir(parents=True, exist_ok=True)\n",
    "experiments_file = top_subsets_dir / \"top_n_subsets_experiments.txt\"\n",
    "beaker = Beaker.from_env(\"ai2/ljm-oe-adapt\")\n",
    "experiment = beaker.experiment.get(experiment_id)\n",
    "\n",
    "experiment_ids = []\n",
    "for job in tqdm_notebook(experiment.jobs):\n",
    "    if job.is_done:\n",
    "        # Get output\n",
    "        dataset_id = job.execution.result.beaker\n",
    "        beaker.dataset.fetch(\n",
    "            dataset_id,\n",
    "            force=True,\n",
    "            target=top_subsets_dir,\n",
    "            prefix=\"data/\",\n",
    "            quiet=True,\n",
    "        )\n",
    "\n",
    "        beaker.dataset.fetch(\n",
    "            dataset_id,\n",
    "            force=True,\n",
    "            target=top_subsets_dir,\n",
    "            prefix=\"experiments.txt\",\n",
    "            quiet=True,\n",
    "        )\n",
    "\n",
    "        with open(top_subsets_dir / \"experiments.txt\", \"r\") as f:\n",
    "            data = f.read().splitlines()\n",
    "            id = data[0]\n",
    "            experiment_ids.append(id)\n",
    "\n",
    "print(experiment_ids)\n",
    "with open(experiments_file, \"a\") as f:\n",
    "    for id in set(experiment_ids):\n",
    "        f.write(\"\\n\" + id)"
   ]
  },
  {
   "cell_type": "code",
   "execution_count": 19,
   "metadata": {},
   "outputs": [
    {
     "data": {
      "text/plain": [
       "13"
      ]
     },
     "execution_count": 19,
     "metadata": {},
     "output_type": "execute_result"
    }
   ],
   "source": [
    "len(set(experiment_ids))"
   ]
  },
  {
   "cell_type": "code",
   "execution_count": null,
   "metadata": {},
   "outputs": [],
   "source": []
  }
 ],
 "metadata": {
  "kernelspec": {
   "display_name": "venv",
   "language": "python",
   "name": "python3"
  },
  "language_info": {
   "codemirror_mode": {
    "name": "ipython",
    "version": 3
   },
   "file_extension": ".py",
   "mimetype": "text/x-python",
   "name": "python",
   "nbconvert_exporter": "python",
   "pygments_lexer": "ipython3",
   "version": "3.11.6"
  }
 },
 "nbformat": 4,
 "nbformat_minor": 2
}
